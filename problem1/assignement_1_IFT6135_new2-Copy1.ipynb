{
 "cells": [
  {
   "cell_type": "markdown",
   "metadata": {},
   "source": [
    "# Problem 1"
   ]
  },
  {
   "cell_type": "markdown",
   "metadata": {},
   "source": [
    "## Importing libraries"
   ]
  },
  {
   "cell_type": "code",
   "execution_count": 2,
   "metadata": {
    "collapsed": true
   },
   "outputs": [],
   "source": [
    "import random\n",
    "import numpy as np\n",
    "import matplotlib.pyplot as plt\n",
    "%matplotlib inline"
   ]
  },
  {
   "cell_type": "code",
   "execution_count": 3,
   "metadata": {
    "collapsed": true
   },
   "outputs": [],
   "source": [
    "# Comment to get non-deterministic results\n",
    "np.random.seed(2)"
   ]
  },
  {
   "cell_type": "markdown",
   "metadata": {},
   "source": [
    "## Neural Network Implementation"
   ]
  },
  {
   "cell_type": "code",
   "execution_count": 4,
   "metadata": {
    "collapsed": false
   },
   "outputs": [],
   "source": [
    "#Several functions in this class implementation are inspired from the NN implemented in cours IFT6093\n",
    "\n",
    "class NN(object):\n",
    "    \n",
    "    '''\n",
    "    Arguments:\n",
    "        input_dim: The input dimension\n",
    "        output_dim: The output dimension\n",
    "        hidden_dims: (h1 dimension, h2 dimension)\n",
    "        n_hidden: number of hidden layers\n",
    "        initialization: type of weigth initialization (zeros, normal or glorot)\n",
    "    \n",
    "    '''\n",
    "    \n",
    "    def __init__(self, input_dim, output_dim,hidden_dims=(1024,2048),n_hidden=2, initialization='zeros', mode=',train',\n",
    "                 datapath=None,model_path=None):\n",
    "        \n",
    "        self.indim = input_dim\n",
    "        self.hd1 = hidden_dims[0] \n",
    "        self.hd2 = hidden_dims[1]\n",
    "        self.n_hidden = n_hidden\n",
    "        self.outd = output_dim\n",
    "        self.W1 = np.zeros(shape=(hidden_dims[0], input_dim))\n",
    "        self.b1 = np.zeros(hidden_dims[0])\n",
    "        self.W2 = np.zeros(shape=(hidden_dims[1], hidden_dims[0]))\n",
    "        self.b2 = np.zeros(hidden_dims[1])\n",
    "        self.W3 = np.zeros(shape=(output_dim, hidden_dims[1]))\n",
    "        self.b3 = np.zeros(output_dim)\n",
    "        \n",
    "        \n",
    "        if initialization=='normal':\n",
    "            self.initialize_weights_normal()\n",
    "            \n",
    "        if initialization=='glorot':\n",
    "            self.initialize_weights_glorot()\n",
    "           \n",
    "        self.parameters = [self.W3, self.b3, self.W2, self.b2, self.W1, self.b1]\n",
    "        \n",
    "        \n",
    "    def initialize_weights_normal(self):\n",
    "        \n",
    "        self.W1 = np.random.normal(size=(self.hd1, self.indim))\n",
    "        self.W2 = np.random.normal(size=(self.hd2, self.hd1))\n",
    "        self.W3 = np.random.normal(size=(self.outd, self.hd2))\n",
    "        return self\n",
    "    \n",
    "    \n",
    "    \n",
    "    def initialize_weights_glorot(self):\n",
    "        \n",
    "        dl1 = np.sqrt(6/(self.indim + self.hd1))\n",
    "        dl2 = np.sqrt(6/(self.hd1 + self.hd2))\n",
    "        dl3 = np.sqrt(6/(self.hd2 + self.outd))\n",
    "        self.W1 = np.random.uniform(low=(-dl1), high=dl1, size=(self.hd1, self.indim))\n",
    "        self.W2 = np.random.uniform(low=(-dl2), high=dl2, size=(self.hd2, self.hd1))\n",
    "        self.W3 = np.random.uniform(low=(-dl3), high=dl3, size=(self.outd, self.hd2))\n",
    "        return self\n",
    "        \n",
    "        \n",
    "    #Method from NN implemented in cours IFT6093\n",
    "    def activation (self,input):\n",
    "        \n",
    "        return (input > 0) * input  \n",
    "    \n",
    "    #line 85\n",
    "\n",
    "    def forward(self,x):\n",
    "                \n",
    "        a1 = np.dot (self.W1, x) + self.b1 \n",
    "        h1 = self.activation (a1)\n",
    "        a2 = np.dot (self.W2, h1) + self.b2\n",
    "        h2 = self.activation (a2)\n",
    "        oa = np.dot (self.W3, h2) + self.b3\n",
    "        os = self.softmax (oa, axis=0)\n",
    "        \n",
    "        return a1, h1, a2, h2, oa, os\n",
    "    \n",
    "    \n",
    "\n",
    "    #Loss ans softmax methods from NN implemented in cours IFT6093\n",
    "    def loss (self, y, os):\n",
    "        return (y * (-np.log(os))).sum()\n",
    "    \n",
    "\n",
    "    def softmax (self,x,axis=1):\n",
    "        shiftx = x - np.max (x, axis=axis, keepdims=True)\n",
    "        exps = np.exp (shiftx)\n",
    "        y = exps / exps.sum (axis=axis, keepdims=True)\n",
    "        return y\n",
    "\n",
    "\n",
    "    def backward(self, x, y, a1, h1, a2, h2, oa, os, weight_decay=0, cache=None):\n",
    "        \n",
    "        grad_oa = os - y\n",
    "        grad_W3 = np.outer (grad_oa, h2) + weight_decay * self.W3\n",
    "        grad_b3 = grad_oa\n",
    "        grad_h2 = np.dot (self.W3.T, grad_oa)\n",
    "        grad_a2 = (a2 > 0) * grad_h2\n",
    "        grad_W2 = np.outer (grad_a2, h1) + weight_decay * self.W2\n",
    "        grad_b2 = grad_a2\n",
    "        grad_h1 = np.dot (self.W2.T, grad_a2)\n",
    "        grad_a1 = (a1 > 0) * grad_h1\n",
    "        grad_W1 = np.outer (grad_a1, x) + weight_decay * self.W1\n",
    "        grad_b1 = grad_a1\n",
    "        grads=[grad_W3, grad_b3, grad_W2, grad_b2, grad_W1, grad_b1]\n",
    "   \n",
    "        return grads\n",
    "\n",
    "\n",
    "\n",
    "    def update(self, grads, learning_rate):\n",
    "        for p, grad in zip(self.parameters, grads):\n",
    "            p -= learning_rate * grad\n",
    "        \n",
    "    #line 201   \n",
    "\n",
    "    def train_SGD(self, x, y_onehot, n, learning_rate=1e-1, weight_decay=0):\n",
    "                \n",
    "        y = y_onehot\n",
    "        losses = 0\n",
    "        if (n==1):\n",
    "            a1, h1, a2, h2, oa, os = self.forward(x)\n",
    "            grads = self.backward(x, y, a1, h1, a2, h2, oa, os)\n",
    "            self.update(grads, learning_rate)\n",
    "            loss = self.loss(y, os)\n",
    "            losses += loss  \n",
    "            average_loss = losses / n\n",
    "        else:    \n",
    "            for j in range(x.shape[0]):\n",
    "                a1, h1, a2, h2, oa, os = self.forward(x[j])\n",
    "                grads = self.backward(x[j], y[j], a1, h1, a2, h2, oa, os)\n",
    "                self.update(grads, learning_rate)\n",
    "                loss = self.loss(y[j], os)\n",
    "                losses += loss     \n",
    "            average_loss = losses / n\n",
    "                \n",
    "        return average_loss\n",
    "    \n",
    "    \n",
    "    def prediction_SGD (self, x):\n",
    "        predictions = np.zeros(x.shape[0])\n",
    "        for i in range(x.shape[0]):\n",
    "            _, _, _, _, _, os = self.forward(x[i])\n",
    "            predictions[i] = os.argmax()\n",
    "                \n",
    "        return predictions\n",
    "                \n",
    "    \n",
    "    def accuracy_SGD (self, prediction, y):\n",
    "        accuracies=0\n",
    "        for i in range (y.shape[0]):\n",
    "            accuracies+=(prediction[i]==y[i])\n",
    "            \n",
    "        return accuracies / y.shape[0]\n",
    "    \n",
    "    \n",
    "    def test_SGD(self, x, y_onehot, y):\n",
    "        pred=np.zeros(y.shape[0])\n",
    "        avg_loss=0\n",
    "        for i in range (x.shape[0]):\n",
    "            _, _, _, _, _, os = self.forward(x[i])\n",
    "            loss=self.loss (y_onehot[i], os)\n",
    "            avg_loss+=loss\n",
    "            pred[i]=os.argmax()\n",
    "            \n",
    "        accuracy=self.accuracy_SGD(pred, y)    \n",
    "        return avg_loss / x.shape[0] , accuracy\n",
    "    \n",
    "   \n",
    "    def forward_mbatch(self, x):\n",
    "                \n",
    "        a1 = np.dot ( x, self.W1.T) + self.b1\n",
    "        h1 = self.activation (a1)\n",
    "        a2 = np.dot (h1, self.W2.T) + self.b2\n",
    "        h2 = self.activation (a2)\n",
    "        oa = np.dot (h2, self.W3.T) + self.b3\n",
    "        os = self.softmax (oa, axis=1)\n",
    "                \n",
    "        return a1, h1, a2, h2, oa, os\n",
    "    \n",
    "    #line 303\n",
    "        \n",
    "    def backward_mbatch(self, x, y, a1, h1, a2, h2, oa, os, batch_n, weight_decay=0):\n",
    "                \n",
    "        batch_n = x.shape[0]\n",
    "        bgrad_oa = os - y\n",
    "        bgrad_W3 = np.dot (bgrad_oa.T, h2) / batch_n  + weight_decay * self.W3\n",
    "        bgrad_b3 = bgrad_oa.mean(axis=0)\n",
    "        bgrad_h2 = np.dot (bgrad_oa, self.W3)\n",
    "        bgrad_a2 = (a2 > 0) * bgrad_h2\n",
    "        bgrad_W2 = np.dot (bgrad_a2.T, h1) / batch_n  + weight_decay * self.W2\n",
    "        bgrad_b2 = bgrad_a2.mean(axis=0)\n",
    "        bgrad_h1 = np.dot (bgrad_a2, self.W2)\n",
    "        bgrad_a1 = (a1 > 0) * bgrad_h1\n",
    "        bgrad_W1 = np.dot (bgrad_a1.T, x) / batch_n  + weight_decay * self.W1\n",
    "        bgrad_b1 = bgrad_a1.mean(axis=0)\n",
    "        bgrads=[bgrad_W3, bgrad_b3, bgrad_W2, bgrad_b2, bgrad_W1, bgrad_b1]\n",
    "   \n",
    "        return bgrads\n",
    "\n",
    "    #line 360\n",
    "\n",
    "    #Method taken fron homwork 3 in cours IFT6093\n",
    "    def loss_mbatch(self, os, y):\n",
    "        return (y * (-np.log(os))).sum(axis=1).mean(axis=0)     \n",
    "        \n",
    "    \n",
    "    #training with minibatch gradient decent\n",
    "    def train_mbatch(self, x, y_onehot, mb_size=100, learning_rate=1e-1, weight_decay=0):\n",
    "                \n",
    "        average_loss=0\n",
    "        for i in range (0, x.shape[0], mb_size):\n",
    "            xi = x[i:(i+mb_size)]\n",
    "            yi = y_onehot[i:(i+mb_size)]\n",
    "        \n",
    "            #losses = 0\n",
    "            a1, h1, a2, h2, oa, os = self.forward_mbatch(xi)\n",
    "            grads = self.backward_mbatch (xi, yi,a1, h1, a2, h2,oa, os, mb_size)\n",
    "            self.update(grads, learning_rate)\n",
    "            average_loss = self.loss_mbatch(os, yi) \n",
    "                          \n",
    "        return average_loss\n",
    "    \n",
    "    \n",
    "    #line 385\n",
    "    \n",
    "    def prediction_mbatch (self, x):\n",
    "        _, _, _, _, _, os = self.forward_mbatch(x)\n",
    "        return os.argmax(axis=1)\n",
    "    \n",
    "\n",
    "    def accuracy_mbatch (self, prediction, y):\n",
    "        accuracy = np.zeros(y.shape[0])\n",
    "        accuracy = prediction == y\n",
    "        return accuracy.mean(axis=0)\n",
    "    \n",
    "\n",
    "    def test_mbatch(self, x, y_onehot, y):\n",
    "        _, _, _, _, _, os = self.forward_mbatch(x)\n",
    "        loss = self.loss_mbatch (os, y_onehot)\n",
    "        accuracy=self.accuracy_mbatch (os.argmax(axis=1), y)\n",
    "        return loss, accuracy\n",
    "    \n",
    "    \n",
    "    def finite_difference():\n",
    "        \n",
    "        pass\n"
   ]
  },
  {
   "cell_type": "markdown",
   "metadata": {},
   "source": [
    "## Function onehot"
   ]
  },
  {
   "cell_type": "code",
   "execution_count": 5,
   "metadata": {
    "collapsed": true
   },
   "outputs": [],
   "source": [
    "#function taken from IFT6093 cours\n",
    "def onehot(y, n_classes):\n",
    "    o = np.zeros(shape=(y.shape[0], n_classes))\n",
    "    for i in range(y.shape[0]):\n",
    "        o[i, int(y[i])] = 1\n",
    "    return o"
   ]
  },
  {
   "cell_type": "markdown",
   "metadata": {},
   "source": [
    "## Data loader"
   ]
  },
  {
   "cell_type": "code",
   "execution_count": 6,
   "metadata": {
    "collapsed": false
   },
   "outputs": [],
   "source": [
    "#part of code inspired from : https://stackoverflow.com/questions/40427435/extract-images-from-idx3-ubyte-file-or-gzip-via-python\n",
    "\n",
    "import gzip\n",
    "def dataloader_X(filename, rows, cols, image_size = 0):\n",
    "    f = gzip.open(filename,'r')\n",
    "    image_size = image_size\n",
    "    num_images = rows\n",
    "\n",
    "    f.read(8)\n",
    "    buf = f.read(image_size * image_size * num_images)\n",
    "    data = np.frombuffer(buf, dtype=np.uint8).astype(np.float)\n",
    "    c=data.reshape(rows, image_size, image_size)\n",
    "    print(c.shape)\n",
    "    c=data.reshape(rows, (image_size*image_size) )\n",
    "    print(c.shape)  \n",
    "        \n",
    "    return c\n",
    "\n",
    "def dataloader_y(filename, rows):\n",
    "    f = gzip.open(filename,'r')\n",
    "\n",
    "    f.read(8)\n",
    "    buf = f.read()\n",
    "    labels = np.frombuffer(buf, dtype=np.uint8).astype(np.float)\n",
    "    print(labels.shape)  \n",
    "        \n",
    "    return labels"
   ]
  },
  {
   "cell_type": "markdown",
   "metadata": {},
   "source": [
    "* Charging data"
   ]
  },
  {
   "cell_type": "code",
   "execution_count": 7,
   "metadata": {
    "collapsed": false
   },
   "outputs": [
    {
     "name": "stdout",
     "output_type": "stream",
     "text": [
      "(60000, 28, 28)\n",
      "(60000, 784)\n",
      "(10000, 28, 28)\n",
      "(10000, 784)\n",
      "(60000,)\n",
      "(10000,)\n",
      "X_train shape =  (55000, 784)\n",
      "y_train shape =  (55000,)\n",
      "X_valid shape =  (5000, 784)\n",
      "y_valid shape =  (5000,)\n",
      "X_test shape =  (10000, 784)\n",
      "y_test shape =  (10000,)\n"
     ]
    }
   ],
   "source": [
    "from random import shuffle\n",
    "\n",
    "X_train = dataloader_X('train-images-idx3-ubyte.gz', 60000, 284, image_size = 28 )\n",
    "X_test = dataloader_X('t10k-images-idx3-ubyte.gz', 10000, 284, image_size = 28 )\n",
    "y_train = dataloader_y('train-labels-idx1-ubyte.gz', 60000)\n",
    "y_test =  dataloader_y('t10k-labels-idx1-ubyte.gz', 10000)\n",
    "\n",
    "\n",
    "# Data normalization\n",
    "X_train= X_train / 255\n",
    "X_test = X_test / 255\n",
    "\n",
    "\n",
    "# Data randomization\n",
    "indices = list(range(len(X_train)))\n",
    "shuffle(indices)\n",
    "\n",
    "#Split train set in training and validation set\n",
    "X_valid, y_valid = X_train[indices[55000:]], y_train[indices[55000:]]\n",
    "X_train, y_train = X_train[indices[:55000]], y_train[indices[:55000]]\n",
    "\n",
    "digit_y_train_onehot= onehot (y_train, 10)\n",
    "digit_y_valid_onehot= onehot (y_valid, 10)\n",
    "digit_y_test_onehot= onehot (y_test, 10)\n",
    "\n",
    "\n",
    "print('X_train shape = ', X_train.shape)\n",
    "print('y_train shape = ', y_train.shape)\n",
    "print('X_valid shape = ', X_valid.shape)\n",
    "print('y_valid shape = ', y_valid.shape)\n",
    "print('X_test shape = ', X_test.shape)\n",
    "print('y_test shape = ', y_test.shape)"
   ]
  },
  {
   "cell_type": "markdown",
   "metadata": {},
   "source": [
    "## Initialization"
   ]
  },
  {
   "cell_type": "code",
   "execution_count": 7,
   "metadata": {
    "collapsed": false
   },
   "outputs": [
    {
     "name": "stdout",
     "output_type": "stream",
     "text": [
      "Weigths initialization, data from dataloader\n"
     ]
    },
    {
     "name": "stderr",
     "output_type": "stream",
     "text": [
      "C:\\Miniconda3\\lib\\site-packages\\ipykernel\\__main__.py:205: RuntimeWarning: divide by zero encountered in log\n",
      "C:\\Miniconda3\\lib\\site-packages\\ipykernel\\__main__.py:205: RuntimeWarning: invalid value encountered in multiply\n"
     ]
    },
    {
     "name": "stdout",
     "output_type": "stream",
     "text": [
      "Time with minibatch gradient decent implementation: 849.515589 seconds\n",
      "\n"
     ]
    },
    {
     "data": {
      "image/png": "[encoded data removed]",
      "text/plain": [
       "<matplotlib.figure.Figure at 0x7ad4fd0>"
      ]
     },
     "metadata": {},
     "output_type": "display_data"
    }
   ],
   "source": [
    "#1. Weigths initialization data from dataloader\n",
    "\n",
    "print('Weigths initialization, data from dataloader')\n",
    "\n",
    "# Set timer\n",
    "import time\n",
    "start_time = time.time()\n",
    "\n",
    "#training 10 epochs for each initialization type\n",
    "epochs=10\n",
    "\n",
    "zeros_losses=[]\n",
    "normal_losses=[]\n",
    "glorot_losses=[]\n",
    "weigths=['zeros', 'normal', 'glorot']\n",
    "\n",
    "for i, init in enumerate(weigths, 0):\n",
    "    \n",
    "    NN_digits= NN(784, 10, hidden_dims=(500,300), initialization=init)\n",
    "\n",
    "    for epoch in range (epochs): \n",
    "    \n",
    "        loss=NN_digits.train_mbatch(X_train, digit_y_train_onehot, mb_size=100)\n",
    "        if (init=='zeros'):\n",
    "            zeros_losses.append(loss)\n",
    "        if (init == 'normal'):\n",
    "            normal_losses.append(loss)\n",
    "        if (init == 'glorot'):\n",
    "            glorot_losses.append(loss)\n",
    "            \n",
    "time_mb = time.time() - start_time\n",
    "print('Time with minibatch gradient decent implementation: %f seconds\\n' % time_mb)\n",
    "\n",
    "\n",
    "fig = plt.figure()\n",
    "plt.plot(range(epochs),  zeros_losses, label='zeros')\n",
    "plt.plot(range(epochs), normal_losses, label='normal')\n",
    "plt.plot(range(epochs), glorot_losses, label='glorot')\n",
    "plt.title(\"Initialization\")\n",
    "\n",
    "plt.legend()\n",
    "plt.show()\n",
    "\n"
   ]
  },
  {
   "cell_type": "markdown",
   "metadata": {},
   "source": [
    "## Parameter search"
   ]
  },
  {
   "cell_type": "markdown",
   "metadata": {},
   "source": [
    "Functions declaration:"
   ]
  },
  {
   "cell_type": "code",
   "execution_count": 8,
   "metadata": {
    "collapsed": true
   },
   "outputs": [],
   "source": [
    "# Train the model using different hyperparameters, like mini-batch size, learning rate and epochs number\n",
    "# x_ds is the dataset to train, y_ds is the target dataset.\n",
    "\n",
    "\n",
    "# function to test different hyperparameters\n",
    "# x_ds and y_ds must be the training set\n",
    "\n",
    "\n",
    "\n",
    "def hyperparameter_search(model, x_t, y_t, y_t_o, x_v, y_v, y_v_o, epochs, minibatch, learningrate,\n",
    "                          verbose=False):\n",
    "    \n",
    "    # NN model\n",
    "    # NN_mbatch_1 = NN(784, 10, hidden_dims=(500,300), initialization='glorot')\n",
    "    \n",
    "    # Model training \n",
    "    losses_train, accs_train = [], []\n",
    "    losses_valid, accs_valid = [], []\n",
    "    #losses_test, preds_test = [], []\n",
    "        \n",
    "        \n",
    "    for epoch in range (epochs): \n",
    "        \n",
    "        # Always train in training set\n",
    "                \n",
    "        loss_mbatch_1 = model.train_mbatch(x_t, y_t_o, mb_size=minibatch,\n",
    "                                                 learning_rate=learningrate)\n",
    "        \n",
    "        if verbose:\n",
    "            print('epoch ', epoch, ' loss ', loss_mbatch_1)\n",
    "            \n",
    "            \n",
    "        #Test in validation set to adjust Hyperparameters        \n",
    "        loss_train, acc_train = model.test_mbatch(x_t, y_t_o, y_t)\n",
    "        loss_valid, acc_valid = model.test_mbatch(x_v, y_v_o, y_v)        \n",
    "        \n",
    "        \n",
    "        losses_train.append(loss_train) \n",
    "        accs_train.append(acc_train)\n",
    "        losses_valid.append(loss_valid)\n",
    "        accs_valid.append(acc_valid)\n",
    "        \n",
    "    \n",
    "    #Test in validation set to adjust Hyperparameters\n",
    "    \n",
    "    #loss,accuracy = NN_mbatch_1.test_mbatch(x_ds,y,y_ds)\n",
    "    print('epoch ', epoch, ' loss ', loss_mbatch_1)\n",
    "    \n",
    "    #Only at the end, test in test set \n",
    "    \n",
    "    return losses_train, acc_train, losses_valid, acc_valid, model"
   ]
  },
  {
   "cell_type": "code",
   "execution_count": 9,
   "metadata": {
    "collapsed": false
   },
   "outputs": [
    {
     "name": "stdout",
     "output_type": "stream",
     "text": [
      "500\n",
      "epoch  0  loss  0.14581453092038102\n",
      "epoch  1  loss  0.08653862662573525\n",
      "epoch  2  loss  0.05584058661953494\n",
      "epoch  3  loss  0.03977169112867238\n",
      "epoch  4  loss  0.029163141280530488\n",
      "epoch  5  loss  0.022867748552135483\n",
      "epoch  6  loss  0.018304303721175932\n",
      "epoch  7  loss  0.015072465969688517\n",
      "epoch  8  loss  0.012517681531048827\n",
      "epoch  9  loss  0.01040159495356941\n",
      "epoch  9  loss  0.01040159495356941\n",
      "600\n",
      "epoch  0  loss  0.14400304299939368\n",
      "epoch  1  loss  0.08327159855685291\n",
      "epoch  2  loss  0.05222551711269508\n",
      "epoch  3  loss  0.036253690260122685\n",
      "epoch  4  loss  0.027346689746163687\n",
      "epoch  5  loss  0.022180972603945564\n",
      "epoch  6  loss  0.018563148203478017\n",
      "epoch  7  loss  0.015449373732080315\n",
      "epoch  8  loss  0.013088962738955691\n",
      "epoch  9  loss  0.010971804726865384\n",
      "epoch  9  loss  0.010971804726865384\n",
      "800\n",
      "epoch  0  loss  0.1239439884161044\n",
      "epoch  1  loss  0.06904779049486472\n",
      "epoch  2  loss  0.04559550672097166\n",
      "epoch  3  loss  0.03323956798016456\n",
      "epoch  4  loss  0.026215202329884675\n",
      "epoch  5  loss  0.02090813018692287\n",
      "epoch  6  loss  0.017183363502691805\n",
      "epoch  7  loss  0.014092723809152037\n",
      "epoch  8  loss  0.011661536928523992\n",
      "epoch  9  loss  0.009474041347659282\n",
      "epoch  9  loss  0.009474041347659282\n",
      "1000\n",
      "epoch  0  loss  0.13386080325897712\n",
      "epoch  1  loss  0.06853407031124321\n",
      "epoch  2  loss  0.04347046397321121\n",
      "epoch  3  loss  0.030546175092571914\n",
      "epoch  4  loss  0.022513852737911573\n",
      "epoch  5  loss  0.017469377744004512\n",
      "epoch  6  loss  0.013928021921748912\n",
      "epoch  7  loss  0.010831812208381229\n",
      "epoch  8  loss  0.008784875503456939\n",
      "epoch  9  loss  0.0070813779376932805\n",
      "epoch  9  loss  0.0070813779376932805\n"
     ]
    }
   ],
   "source": [
    "# testing for different h1 size\n",
    "\n",
    "\n",
    "\n",
    "for i, h1 in enumerate([500, 600, 800, 1000]):\n",
    "    print(h1)\n",
    "    \n",
    "    NN_mbatch_1 = NN(784, 10, hidden_dims=(h1,300), initialization='glorot')\n",
    "    \n",
    "    losses_train, preds_train, losses_valid, preds_valid, NN_mbatch_1 = hyperparameter_search(\n",
    "        NN_mbatch_1, X_train, y_train, digit_y_train_onehot, X_valid, y_valid, digit_y_valid_onehot, \n",
    "        10, 100, 1e-1, verbose=True)\n",
    "    \n",
    " \n"
   ]
  },
  {
   "cell_type": "markdown",
   "metadata": {},
   "source": [
    "## Finite difference"
   ]
  },
  {
   "cell_type": "code",
   "execution_count": 54,
   "metadata": {
    "collapsed": true
   },
   "outputs": [],
   "source": [
    "#Approximation of the gradient of the loos at the end of training, with respect to W3 \n",
    "# (the second layer weigths) with to the first p = min(10;m) elements of W3.\n",
    "\n",
    "\n",
    "#function to calculate the finite difference for  \n",
    "\n",
    "def loop_finite_diff(self, x, y, epsilon=1e-5):\n",
    "        a1, h1, a2, h2, oa, os = self.forward(x)\n",
    "        grads = self.backward(x, y, a1, h1, a2, h2, oa, os)\n",
    "        loss = self.loss(y, os)\n",
    "        \n",
    "        grads_finite_diff = []\n",
    "        \n",
    "        for p in self.parameters[0]:\n",
    "            grad_fdiff = np.zeros(shape=p.shape)\n",
    "            for i, v in np.ndenumerate(p):\n",
    "                p[i] += epsilon\n",
    "                _, _, _, _, _, os = self.forward(x)\n",
    "                loss_diff = self.loss(os, y)\n",
    "                grad_fdiff[index] = (loss_diff - loss) / epsilon\n",
    "                p[index] -= epsilon\n",
    "            grads_finite_diff.append(grad_fdiff)\n",
    "        return gradients_finite_diff"
   ]
  },
  {
   "cell_type": "code",
   "execution_count": 63,
   "metadata": {
    "collapsed": false
   },
   "outputs": [
    {
     "name": "stdout",
     "output_type": "stream",
     "text": [
      "[10, 1000, 100000, 50, 5000]\n",
      "[0.1, 0.001, 1e-05, 0.02, 0.0002]\n"
     ]
    }
   ],
   "source": [
    "#1. epsilon = 1 / N\n",
    "\n",
    "#Use at least 5 values of N from the set {k10**i : i E {0; : : : ; 5g} k E {1, 5}}\n",
    "epsilon=[]\n",
    "N = []\n",
    "for exp in range (1, 6, 2):\n",
    "    a= 10**exp\n",
    "    N.append(a)\n",
    "for exp in range (1, 5, 2):\n",
    "    b= 5*10**exp\n",
    "    N.append(b)\n",
    "for i in range (5):\n",
    "    epsilon.append(1/N[i])\n",
    "\n",
    "print (N)\n",
    "print (epsilon)\n",
    "\n",
    "\n"
   ]
  },
  {
   "cell_type": "code",
   "execution_count": null,
   "metadata": {
    "collapsed": true
   },
   "outputs": [],
   "source": []
  },
  {
   "cell_type": "code",
   "execution_count": null,
   "metadata": {
    "collapsed": true
   },
   "outputs": [],
   "source": []
  }
 ],
 "metadata": {
  "anaconda-cloud": {},
  "kernelspec": {
   "display_name": "Python [default]",
   "language": "python",
   "name": "python3"
  },
  "language_info": {
   "codemirror_mode": {
    "name": "ipython",
    "version": 3
   },
   "file_extension": ".py",
   "mimetype": "text/x-python",
   "name": "python",
   "nbconvert_exporter": "python",
   "pygments_lexer": "ipython3",
   "version": "3.5.2"
  }
 },
 "nbformat": 4,
 "nbformat_minor": 2
}

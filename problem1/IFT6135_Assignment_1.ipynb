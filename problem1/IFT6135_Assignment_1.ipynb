{
 "cells": [
  {
   "cell_type": "markdown",
   "metadata": {},
   "source": [
    "IFT6135-H2019\n",
    "Assignment 1 Programming part\n",
    "Multilayer Parceptrons and Convolutional Neural Networks\n",
    "\n",
    "Alejandra\n",
    "Amlin\n",
    "Charles\n",
    "Georgina"
   ]
  },
  {
   "cell_type": "code",
   "execution_count": 1,
   "metadata": {
    "collapsed": true
   },
   "outputs": [],
   "source": [
    "import numpy as np\n",
    "import matplotlib.pyplot as plt\n",
    "%matplotlib inline"
   ]
  },
  {
   "cell_type": "markdown",
   "metadata": {},
   "source": [
    "Helping functions"
   ]
  },
  {
   "cell_type": "code",
   "execution_count": 2,
   "metadata": {
    "collapsed": true
   },
   "outputs": [],
   "source": [
    "def softmax(x):\n",
    "    shiftx = x - np.max(x)\n",
    "    exps=np.exp(shiftx)\n",
    "    y=exps/np.sum(exps)\n",
    "    return y\n",
    "\n",
    "def relu (x):\n",
    "    y=np.maximum(0, x)\n",
    "    return y\n",
    "\n",
    "#function taken from IFT6093 cours\n",
    "def onehot(y, n_classes):\n",
    "    o = np.zeros(shape=(y.shape[0], n_classes))\n",
    "    for i in range(y.shape[0]):\n",
    "        o[i, int(y[i])] = 1\n",
    "    return o"
   ]
  },
  {
   "cell_type": "code",
   "execution_count": null,
   "metadata": {
    "collapsed": true
   },
   "outputs": [],
   "source": [
    "#This class implementation is inspired from the NN implemented in cours IFT6093\n",
    "class NN(object):\n",
    "    \n",
    "    \n",
    "    def __init__(self,hidden_dims=(1024,2048),n_hidden=2,mode='train',\n",
    "                 datapath=None,model_path=None, n, output_dim):\n",
    "        \n",
    "        self.hd1=hidden_dims[0] \n",
    "        self.hd2=hidden_dims[1]\n",
    "        self.n_hidden=n_hidden\n",
    "        self.n=n\n",
    "        self.outd= output_dim\n",
    "        self.W1 = np.zeros(size=(hidden_dims[0], input_size))\n",
    "        self.b1 = np.zeros(hidden_dims[0])\n",
    "        self.W2 = np.zeros(size=(self.hd2=hidden_dims[1], hidden_dims[0]))\n",
    "        self.b2 = np.zeros(hidden_dims[1])\n",
    "        self.W3 = np.zeros(size=(output_dim, hidden_dims[1]))\n",
    "        self.b3 = np.zeros(output_dim)\n",
    "        self.parameters = [self.b1, self.W1, self.b2, self.W2, self.b3, self.W3]\n",
    "        \n",
    "        \n",
    "    def initialize_weights_normal(self,n_hidden,dims):\n",
    "        \n",
    "        self.W1 = np.random.normal(loc=0.0, scale=1.0, size=(self.hd1, self.n))\n",
    "        self.W2 = np.random.normal(loc=0.0, scale=1.0, size=(self.hd2, self.hd1))\n",
    "    .   self.W3 = np.random.normal(loc=0.0, scale=1.0, size=(self.outd, self.hd2))\n",
    "    \n",
    "    \n",
    "    def initialize_weights_glorot(self,n_hidden,dims):\n",
    "        \n",
    "        dl=np.sqrt(6/(self.hd1 + self.hd2))\n",
    "        self.W1 = np.random.uniform(low=(-dl), high=dl, size=(self.hd1, self.n))\n",
    "        self.W2 = np.random.uniform(low=(-dl), high=dl, size=(self.hd2, self.hd1))\n",
    "        self.W3 = np.random.uniform(low=(-dl), high=dl, size=(self.outd, self.hd2))\n",
    "    \n",
    "\n",
    "    def forward(self,input,labels,..):\n",
    "        \n",
    "        a1= np.dot(self.W1, x) + self.b1 \n",
    "        print ('a1, ', a1)\n",
    "        h1 = activation(h_a)\n",
    "        print ('h1, ', h1)\n",
    "        a2= np.dot(self.W2, x) + self.b2\n",
    "        print ('a2, ', a2)\n",
    "        h2 = activation(a2)\n",
    "        print ('h2, ', h2)\n",
    "        oa= np.dot(self.W3, x) + self.b3\n",
    "        print ('oa, ', oa)\n",
    "        os= softmax(oa, axis=0)\n",
    "        print ('os, ', os)\n",
    "        \n",
    "        return a1, h1, a2, h2, 0a, os\n",
    "    \n",
    "        "
   ]
  },
  {
   "cell_type": "code",
   "execution_count": null,
   "metadata": {
    "collapsed": true
   },
   "outputs": [],
   "source": [
    "def activation(self,input):\n",
    "     return (input > 0) * input"
   ]
  },
  {
   "cell_type": "code",
   "execution_count": null,
   "metadata": {
    "collapsed": true
   },
   "outputs": [],
   "source": [
    "def loss(self,prediction,..):\n",
    "    "
   ]
  },
  {
   "cell_type": "code",
   "execution_count": null,
   "metadata": {
    "collapsed": true
   },
   "outputs": [],
   "source": [
    "def softmax(self,input,axis=1):\n",
    "    shiftx = x - np.max(x, axis=axis, keepdims=True)\n",
    "    exps=np.exp(shiftx)\n",
    "    y=exps/exps.sum(axis=axis, keepdims=True)\n",
    "    return y\n",
    "    "
   ]
  },
  {
   "cell_type": "code",
   "execution_count": null,
   "metadata": {
    "collapsed": true
   },
   "outputs": [],
   "source": [
    "def backward(self,cache,labels,...):\n",
    "    .\n",
    "    ."
   ]
  },
  {
   "cell_type": "code",
   "execution_count": null,
   "metadata": {
    "collapsed": true
   },
   "outputs": [],
   "source": [
    "def update(self,grads,..):\n",
    "    .\n",
    "    ."
   ]
  },
  {
   "cell_type": "code",
   "execution_count": null,
   "metadata": {
    "collapsed": true
   },
   "outputs": [],
   "source": [
    "def train(self):\n",
    "    .\n",
    "    ."
   ]
  },
  {
   "cell_type": "code",
   "execution_count": null,
   "metadata": {
    "collapsed": true
   },
   "outputs": [],
   "source": [
    "def test(self):\n",
    "    .\n",
    "    ."
   ]
  },
  {
   "cell_type": "code",
   "execution_count": 6,
   "metadata": {
    "collapsed": false
   },
   "outputs": [
    {
     "data": {
      "text/plain": [
       "3.0"
      ]
     },
     "execution_count": 6,
     "metadata": {},
     "output_type": "execute_result"
    }
   ],
   "source": [
    "6/2"
   ]
  },
  {
   "cell_type": "code",
   "execution_count": 4,
   "metadata": {
    "collapsed": false
   },
   "outputs": [
    {
     "data": {
      "text/plain": [
       "1024"
      ]
     },
     "execution_count": 4,
     "metadata": {},
     "output_type": "execute_result"
    }
   ],
   "source": []
  },
  {
   "cell_type": "code",
   "execution_count": 5,
   "metadata": {
    "collapsed": false
   },
   "outputs": [
    {
     "data": {
      "text/plain": [
       "2048"
      ]
     },
     "execution_count": 5,
     "metadata": {},
     "output_type": "execute_result"
    }
   ],
   "source": []
  },
  {
   "cell_type": "code",
   "execution_count": null,
   "metadata": {
    "collapsed": true
   },
   "outputs": [],
   "source": []
  }
 ],
 "metadata": {
  "anaconda-cloud": {},
  "kernelspec": {
   "display_name": "Python [conda env:Miniconda3]",
   "language": "python",
   "name": "conda-env-Miniconda3-py"
  },
  "language_info": {
   "codemirror_mode": {
    "name": "ipython",
    "version": 3
   },
   "file_extension": ".py",
   "mimetype": "text/x-python",
   "name": "python",
   "nbconvert_exporter": "python",
   "pygments_lexer": "ipython3",
   "version": "3.5.2"
  }
 },
 "nbformat": 4,
 "nbformat_minor": 1
}

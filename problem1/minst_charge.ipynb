{
 "cells": [
  {
   "cell_type": "markdown",
   "metadata": {},
   "source": [
    "## Importing Mnist dataset"
   ]
  },
  {
   "cell_type": "markdown",
   "metadata": {},
   "source": [
    "### Charging data"
   ]
  },
  {
   "cell_type": "code",
   "execution_count": 124,
   "metadata": {},
   "outputs": [],
   "source": [
    "# Shuffling data function.\n",
    "from random import shuffle\n",
    "def shuffle_ds(arr):\n",
    "    arr_shuf=[]\n",
    "    indices = list(range(len(arr)))\n",
    "    shuffle(indices)\n",
    "    for i in indices:\n",
    "        arr_shuf.append(arr[i])\n",
    "    arr_shuf=np.asarray(arr_shuf)\n",
    "    return arr_shuf"
   ]
  },
  {
   "cell_type": "code",
   "execution_count": 125,
   "metadata": {},
   "outputs": [],
   "source": [
    "# Charging and shuffling training data\n",
    "import csv\n",
    "def get_dataset(ds_file,shuffling=False):\n",
    "    '''Open train and test datasets, read them and, store their records to a list'''\n",
    "    with open (ds_file, 'r') as t_file:\n",
    "        ds = csv.reader(t_file)\n",
    "        records = []\n",
    "        label = []\n",
    "        dataset = []\n",
    "        for line in ds:\n",
    "            records.append([int(i) for i in line]) # list comprehension to convert lists' strings to ints on the fly        \n",
    "        if (shuffling):\n",
    "            #Shuffling records\n",
    "            records=shuffle_ds(records)\n",
    "        # separate col(0) - label from the rest of the list\n",
    "        for line in records:\n",
    "            label.append(line[0])\n",
    "        for line in records:\n",
    "            dataset.append(line[1:])\n",
    "    return records,label,dataset"
   ]
  },
  {
   "cell_type": "code",
   "execution_count": 126,
   "metadata": {},
   "outputs": [],
   "source": [
    "# get our datasets\n",
    "raw_train_ds, train_labels, train_data = get_dataset('mnist_train.csv',True)\n",
    "raw_test_ds, test_labels, test_data = get_dataset('mnist_test.csv')\n",
    "\n",
    "X_train=np.asarray(train_data)\n",
    "X_test=np.asarray(test_data)\n",
    "Y_train=np.asarray(train_labels)\n",
    "Y_test=np.asarray(test_labels)"
   ]
  },
  {
   "cell_type": "code",
   "execution_count": 127,
   "metadata": {},
   "outputs": [
    {
     "data": {
      "text/plain": [
       "((60000, 784), (10000, 784))"
      ]
     },
     "execution_count": 127,
     "metadata": {},
     "output_type": "execute_result"
    }
   ],
   "source": [
    "X_train.shape,X_test.shape"
   ]
  },
  {
   "cell_type": "code",
   "execution_count": 128,
   "metadata": {},
   "outputs": [
    {
     "data": {
      "text/plain": [
       "((60000,), (10000,))"
      ]
     },
     "execution_count": 128,
     "metadata": {},
     "output_type": "execute_result"
    }
   ],
   "source": [
    "Y_train.shape,Y_test.shape"
   ]
  },
  {
   "cell_type": "markdown",
   "metadata": {},
   "source": [
    "### Data Normalization "
   ]
  },
  {
   "cell_type": "code",
   "execution_count": 129,
   "metadata": {},
   "outputs": [],
   "source": [
    "X_train = X_train / 255\n",
    "X_test = X_test / 255"
   ]
  },
  {
   "cell_type": "markdown",
   "metadata": {},
   "source": [
    "### Splitting training data in training and validation datasets : 80% - 20%"
   ]
  },
  {
   "cell_type": "code",
   "execution_count": 130,
   "metadata": {},
   "outputs": [
    {
     "data": {
      "text/plain": [
       "((12000, 784), (12000,), (48000, 784), (48000,))"
      ]
     },
     "execution_count": 130,
     "metadata": {},
     "output_type": "execute_result"
    }
   ],
   "source": [
    "X_valid, y_valid = X_train[indices[:12000]], Y_train[indices[:12000]]\n",
    "X_train, y_train = X_train[indices[12000:]], Y_train[indices[12000:]]\n",
    "X_valid.shape,y_valid.shape,X_train.shape,y_train.shape"
   ]
  },
  {
   "cell_type": "code",
   "execution_count": null,
   "metadata": {},
   "outputs": [],
   "source": []
  }
 ],
 "metadata": {
  "kernelspec": {
   "display_name": "Python 3",
   "language": "python",
   "name": "python3"
  },
  "language_info": {
   "codemirror_mode": {
    "name": "ipython",
    "version": 3
   },
   "file_extension": ".py",
   "mimetype": "text/x-python",
   "name": "python",
   "nbconvert_exporter": "python",
   "pygments_lexer": "ipython3",
   "version": "3.7.0"
  }
 },
 "nbformat": 4,
 "nbformat_minor": 2
}

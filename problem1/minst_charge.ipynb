{
 "cells": [
  {
   "cell_type": "code",
   "execution_count": 1,
   "metadata": {},
   "outputs": [
    {
     "name": "stderr",
     "output_type": "stream",
     "text": [
      "C:\\Users\\Angelo\\Anaconda3\\lib\\site-packages\\sklearn\\cross_validation.py:41: DeprecationWarning: This module was deprecated in version 0.18 in favor of the model_selection module into which all the refactored classes and functions are moved. Also note that the interface of the new CV iterators are different from that of this module. This module will be removed in 0.20.\n",
      "  \"This module will be removed in 0.20.\", DeprecationWarning)\n"
     ]
    }
   ],
   "source": [
    "# Import libraries & loading data\n",
    "import numpy as np\n",
    "import time\n",
    "\n",
    "#import mnist_reader\n",
    "import pandas as pd\n",
    "from sklearn import preprocessing,cross_validation,neighbors\n",
    "df = pd.read_csv('mnist_train.csv')\n",
    "df.head()\n",
    "#create matrix X and target vector y\n",
    "x = np.array(df.iloc[:, 1:784])\n",
    "y = np.array(df.iloc[:,0])\n",
    "#split into train and test\n",
    "split = 0.2\n",
    "from sklearn.cross_validation import train_test_split\n",
    "x, x_test, y, y_test = cross_validation.train_test_split(x, y, test_size=split,random_state=0)"
   ]
  },
  {
   "cell_type": "code",
   "execution_count": 5,
   "metadata": {},
   "outputs": [
    {
     "data": {
      "text/plain": [
       "((47999, 783), (47999,), (12000, 783), (12000,))"
      ]
     },
     "execution_count": 5,
     "metadata": {},
     "output_type": "execute_result"
    }
   ],
   "source": [
    "x.shape,y.shape,x_test.shape,y_test.shape"
   ]
  }
 ],
 "metadata": {
  "kernelspec": {
   "display_name": "Python 3",
   "language": "python",
   "name": "python3"
  },
  "language_info": {
   "codemirror_mode": {
    "name": "ipython",
    "version": 3
   },
   "file_extension": ".py",
   "mimetype": "text/x-python",
   "name": "python",
   "nbconvert_exporter": "python",
   "pygments_lexer": "ipython3",
   "version": "3.7.0"
  }
 },
 "nbformat": 4,
 "nbformat_minor": 2
}

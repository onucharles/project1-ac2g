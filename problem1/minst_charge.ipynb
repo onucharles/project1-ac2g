{
 "cells": [
  {
   "cell_type": "code",
   "execution_count": 3,
   "metadata": {},
   "outputs": [],
   "source": [
    "# Import libraries & loading data\n",
    "import numpy as np\n",
    "import time\n",
    "\n",
    "#import mnist_reader\n",
    "import pandas as pd\n",
    "from sklearn import preprocessing,cross_validation,neighbors\n",
    "df = pd.read_csv('mnist_train.csv')\n",
    "df.head()\n",
    "#create matrix X and target vector y\n",
    "X = np.array(df.iloc[:, 1:784])\n",
    "Y = np.array(df.iloc[:,0])\n",
    "#split into train and test\n",
    "split = 0.5\n",
    "from sklearn.cross_validation import train_test_split\n",
    "x, x_test, y, y_test = cross_validation.train_test_split(X, Y, test_size=split,random_state=0)"
   ]
  },
  {
   "cell_type": "code",
   "execution_count": 4,
   "metadata": {},
   "outputs": [
    {
     "data": {
      "text/plain": [
       "((29999, 783), (29999,), (30000, 783), (30000,))"
      ]
     },
     "execution_count": 4,
     "metadata": {},
     "output_type": "execute_result"
    }
   ],
   "source": [
    "x.shape,y.shape,x_test.shape,y_test.shape"
   ]
  },
  {
   "cell_type": "code",
   "execution_count": 7,
   "metadata": {},
   "outputs": [
    {
     "data": {
      "text/plain": [
       "((59999, 783), (59999,))"
      ]
     },
     "execution_count": 7,
     "metadata": {},
     "output_type": "execute_result"
    }
   ],
   "source": [
    "X.shape,Y.shape"
   ]
  },
  {
   "cell_type": "code",
   "execution_count": null,
   "metadata": {},
   "outputs": [],
   "source": []
  }
 ],
 "metadata": {
  "kernelspec": {
   "display_name": "Python 3",
   "language": "python",
   "name": "python3"
  },
  "language_info": {
   "codemirror_mode": {
    "name": "ipython",
    "version": 3
   },
   "file_extension": ".py",
   "mimetype": "text/x-python",
   "name": "python",
   "nbconvert_exporter": "python",
   "pygments_lexer": "ipython3",
   "version": "3.7.0"
  }
 },
 "nbformat": 4,
 "nbformat_minor": 2
}

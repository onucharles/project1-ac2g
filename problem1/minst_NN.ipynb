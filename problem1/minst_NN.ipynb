{
 "cells": [
  {
   "cell_type": "markdown",
   "metadata": {},
   "source": [
    "# 2. Hyperparameter Search"
   ]
  },
  {
   "cell_type": "markdown",
   "metadata": {},
   "source": [
    "## Importing Mnist dataset"
   ]
  },
  {
   "cell_type": "markdown",
   "metadata": {},
   "source": [
    "### Importing libraries"
   ]
  },
  {
   "cell_type": "code",
   "execution_count": 1,
   "metadata": {},
   "outputs": [],
   "source": [
    "import numpy as np"
   ]
  },
  {
   "cell_type": "markdown",
   "metadata": {},
   "source": [
    "### Charging data"
   ]
  },
  {
   "cell_type": "code",
   "execution_count": 2,
   "metadata": {},
   "outputs": [],
   "source": [
    "# Shuffling data function.\n",
    "from random import shuffle\n",
    "def shuffle_ds(arr):\n",
    "    arr_shuf=[]\n",
    "    indices = list(range(len(arr)))\n",
    "    shuffle(indices)\n",
    "    for i in indices:\n",
    "        arr_shuf.append(arr[i])\n",
    "    arr_shuf=np.asarray(arr_shuf)\n",
    "    return arr_shuf"
   ]
  },
  {
   "cell_type": "code",
   "execution_count": 3,
   "metadata": {},
   "outputs": [],
   "source": [
    "# Charging and shuffling training data\n",
    "import csv\n",
    "def get_dataset(ds_file,shuffling=False):\n",
    "    '''Open train and test datasets, read them and, store their records to a list'''\n",
    "    with open (ds_file, 'r') as t_file:\n",
    "        ds = csv.reader(t_file)\n",
    "        records = []\n",
    "        label = []\n",
    "        dataset = []\n",
    "        for line in ds:\n",
    "            records.append([int(i) for i in line]) # list comprehension to convert lists' strings to ints on the fly        \n",
    "        if (shuffling):\n",
    "            #Shuffling records\n",
    "            records=shuffle_ds(records)\n",
    "        # separate col(0) - label from the rest of the list\n",
    "        for line in records:\n",
    "            label.append(line[0])\n",
    "        for line in records:\n",
    "            dataset.append(line[1:])\n",
    "    return records,label,dataset"
   ]
  },
  {
   "cell_type": "code",
   "execution_count": 4,
   "metadata": {},
   "outputs": [],
   "source": [
    "# get our datasets\n",
    "raw_train_ds, train_labels, train_data = get_dataset('mnist_train.csv',True)\n",
    "raw_test_ds, test_labels, test_data = get_dataset('mnist_test.csv')\n",
    "\n",
    "X_train=np.asarray(train_data)\n",
    "X_test=np.asarray(test_data)\n",
    "Y_train=np.asarray(train_labels)\n",
    "Y_test=np.asarray(test_labels)"
   ]
  },
  {
   "cell_type": "code",
   "execution_count": 5,
   "metadata": {},
   "outputs": [
    {
     "data": {
      "text/plain": [
       "((60000, 784), (10000, 784))"
      ]
     },
     "execution_count": 5,
     "metadata": {},
     "output_type": "execute_result"
    }
   ],
   "source": [
    "X_train.shape,X_test.shape"
   ]
  },
  {
   "cell_type": "code",
   "execution_count": 6,
   "metadata": {},
   "outputs": [
    {
     "data": {
      "text/plain": [
       "((60000,), (10000,))"
      ]
     },
     "execution_count": 6,
     "metadata": {},
     "output_type": "execute_result"
    }
   ],
   "source": [
    "Y_train.shape,Y_test.shape"
   ]
  },
  {
   "cell_type": "markdown",
   "metadata": {},
   "source": [
    "### Data Normalization "
   ]
  },
  {
   "cell_type": "code",
   "execution_count": 7,
   "metadata": {},
   "outputs": [],
   "source": [
    "X_train = X_train / 255\n",
    "X_test = X_test / 255"
   ]
  },
  {
   "cell_type": "markdown",
   "metadata": {},
   "source": [
    "### Splitting training data in training and validation datasets : 90% - 10%"
   ]
  },
  {
   "cell_type": "code",
   "execution_count": 8,
   "metadata": {},
   "outputs": [
    {
     "data": {
      "text/plain": [
       "((5000, 784), (5000,), (55000, 784), (55000,))"
      ]
     },
     "execution_count": 8,
     "metadata": {},
     "output_type": "execute_result"
    }
   ],
   "source": [
    "x_valid, y_valid = X_train[:5000], Y_train[:5000]\n",
    "x_train, y_train = X_train[5000:], Y_train[5000:]\n",
    "x_valid.shape,y_valid.shape,x_train.shape,y_train.shape"
   ]
  },
  {
   "cell_type": "markdown",
   "metadata": {},
   "source": [
    "## Neural Network Implementation"
   ]
  },
  {
   "cell_type": "code",
   "execution_count": 9,
   "metadata": {},
   "outputs": [],
   "source": [
    "import random\n",
    "import numpy as np\n",
    "import matplotlib.pyplot as plt\n",
    "%matplotlib inline"
   ]
  },
  {
   "cell_type": "code",
   "execution_count": 10,
   "metadata": {},
   "outputs": [],
   "source": [
    "#This class implementation is inspired from the NN implemented in cours IFT6093\n",
    "class NN(object):\n",
    "    \n",
    "    \n",
    "    def __init__(self, input_dim, output_dim,hidden_dims=(1024,2048),n_hidden=2, initialization='zeros', mode=',train',\n",
    "                 datapath=None,model_path=None):\n",
    "        \n",
    "        self.indim = input_dim\n",
    "        self.hd1 = hidden_dims[0] \n",
    "        self.hd2 = hidden_dims[1]\n",
    "        self.n_hidden = n_hidden\n",
    "        self.outd = output_dim\n",
    "        self.W1 = np.zeros(shape=(hidden_dims[0], input_dim))\n",
    "        #print('W1.shape =', self.W1.shape)\n",
    "        #print('W1 = ', self.W1)\n",
    "        #print('\\n')\n",
    "        \n",
    "        self.b1 = np.zeros(hidden_dims[0])\n",
    "        #print('b1.shape =', self.b1.shape)\n",
    "        #print('b1 = ', self.b1)\n",
    "        #print('\\n')\n",
    "        \n",
    "        self.W2 = np.zeros(shape=(hidden_dims[1], hidden_dims[0]))\n",
    "        #print('W2.shape =', self.W2.shape)\n",
    "        #print('W2 = ', self.W2)\n",
    "        #print('\\n')\n",
    "        \n",
    "        self.b2 = np.zeros(hidden_dims[1])\n",
    "        #print('b2.shape =', self.b2.shape)\n",
    "        #print('b2 = ', self.b2)\n",
    "        #print('\\n')\n",
    "        \n",
    "        self.W3 = np.zeros(shape=(output_dim, hidden_dims[1]))\n",
    "        #print('W3.shape =', self.W3.shape)\n",
    "        #print('W3 = ', self.W3)\n",
    "        #print('\\n')\n",
    "        \n",
    "        self.b3 = np.zeros(output_dim)\n",
    "        #print('b3.shape =', self.b3.shape)\n",
    "        #print('b3 = ', self.b3)\n",
    "        #print('\\n')\n",
    "        \n",
    "        if initialization=='normal':\n",
    "            self.initialize_weights_normal()\n",
    "            #print('W1 = ', self.W1)\n",
    "            #print('W2 = ', self.W2)\n",
    "            #print('W3 = ', self.W3)\n",
    "            \n",
    "            \n",
    "        if initialization=='glorot':\n",
    "            self.initialize_weights_glorot()\n",
    "            #print('W1 = ', self.W1)\n",
    "            #print('W2 = ', self.W2)\n",
    "            #print('W3 = ', self.W3)\n",
    "            \n",
    "        \n",
    "        self.parameters = [self.W3, self.b3, self.W2, self.b2, self.W1, self.b1]\n",
    "        \n",
    "        \n",
    "    def initialize_weights_normal(self):\n",
    "        \n",
    "        self.W1 = np.random.standard_normal(size=(self.hd1, self.indim))\n",
    "        self.W2 = np.random.standard_normal(size=(self.hd2, self.hd1))\n",
    "        self.W3 = np.random.standard_normal(size=(self.outd, self.hd2))\n",
    "        \n",
    "        return self\n",
    "    \n",
    "    \n",
    "    def initialize_weights_glorot(self):\n",
    "        \n",
    "        dl1 = np.sqrt(6/(self.indim + self.hd1))\n",
    "        dl2 = np.sqrt(6/(self.hd1 + self.hd2))\n",
    "        dl3 = np.sqrt(6/(self.hd2 + self.outd))\n",
    "        self.W1 = np.random.uniform(low=(-dl1), high=dl1, size=(self.hd1, self.indim))\n",
    "        self.W2 = np.random.uniform(low=(-dl2), high=dl2, size=(self.hd2, self.hd1))\n",
    "        self.W3 = np.random.uniform(low=(-dl3), high=dl3, size=(self.outd, self.hd2))\n",
    "        \n",
    "        return self\n",
    "        \n",
    "        \n",
    "        \n",
    "    #Method inspired from NN implemented in cours IFT6093\n",
    "    def activation (self,input):\n",
    "        return (input > 0) * input  \n",
    "    \n",
    "    #line 85\n",
    "\n",
    "    def forward(self,x):\n",
    "        #print('forward')\n",
    "        \n",
    "        a1 = np.dot (self.W1, x) + self.b1 \n",
    "        #print('a1 = np.dot (self.W1, x) + self.b1')\n",
    "        #print('a1.shape =', a1.shape)\n",
    "        #print('a1 = ', a1)\n",
    "        #print('\\n')\n",
    "        \n",
    "        h1 = self.activation (a1)\n",
    "        #print('h1 = self.activation (a1)')\n",
    "        #print('h1.shape =', h1.shape)\n",
    "        #print('h1 = ', h1)\n",
    "        #print('\\n')\n",
    "        \n",
    "        a2 = np.dot (self.W2, h1) + self.b2\n",
    "        #print('a2 = np.dot (self.W2, h1) + self.b2')\n",
    "        #print('a2.shape =', a2.shape)\n",
    "        #print('a2 = ', a2)\n",
    "        #print('\\n')\n",
    "        \n",
    "        h2 = self.activation (a2)\n",
    "        #print('h2 = self.activation (a2)')\n",
    "        #print('h2.shape =', h2.shape)\n",
    "        #print('h2 = ', h2)\n",
    "        #print('\\n')\n",
    "        \n",
    "    \n",
    "        oa = np.dot (self.W3, h2) + self.b3\n",
    "        #print('oa = np.dot (self.W3, h2) + self.b3')\n",
    "        #print('oa.shape =', oa.shape)\n",
    "        #print('oa = ', oa)\n",
    "        #print('\\n')\n",
    "        \n",
    "        os = self.softmax (oa, axis=0)\n",
    "        #print('os = softmax (oa)')\n",
    "        #print('os.shape =', os.shape)\n",
    "        #print('os = ', os)\n",
    "        #print('\\n')\n",
    "               \n",
    "        return a1, h1, a2, h2, oa, os\n",
    "    \n",
    "    \n",
    "\n",
    "    #Methods inspired from NN implemented in cours IFT6093\n",
    "    def loss (self, y, os):\n",
    "        return (y * (-np.log(os))).sum()\n",
    "    \n",
    "\n",
    "    def softmax (self,x,axis=1):\n",
    "        shiftx = x - np.max (x, axis=axis, keepdims=True)\n",
    "        exps = np.exp (shiftx)\n",
    "        y = exps / exps.sum (axis=axis, keepdims=True)\n",
    "        return y\n",
    "\n",
    "\n",
    "    def backward(self, x, y, a1, h1, a2, h2, oa, os, weight_decay=0, cache=None):\n",
    "        #print ('backward')\n",
    "        #print('x.shape = ', x.shape)\n",
    "        #print('y.shape = ', y.shape)\n",
    "        #print('os.shape = ', os.shape)\n",
    "        grad_oa = os - y\n",
    "        #print('grad_oa.shape =', grad_oa.shape)\n",
    "        #print('\\n')\n",
    "        \n",
    "        grad_W3 = np.outer (grad_oa, h2) + weight_decay * self.W3\n",
    "        #print('grad_W3.shape =', grad_W3.shape)\n",
    "        #print('\\n')\n",
    "        \n",
    "        grad_b3 = grad_oa\n",
    "        #print('grad_b3.shape =', grad_b3.shape)\n",
    "        #print('\\n')\n",
    "        \n",
    "        grad_h2 = np.dot (self.W3.T, grad_oa)\n",
    "        #print(' grad_h2.shape =', grad_h2.shape)\n",
    "        #print('\\n')\n",
    "        \n",
    "        grad_a2 = (a2 > 0) * grad_h2\n",
    "        #print('grad_a2.shape =', grad_a2.shape)\n",
    "        #print('\\n')\n",
    "        \n",
    "        grad_W2 = np.outer (grad_a2, h1) + weight_decay * self.W2\n",
    "        #print('grad_W2.shape =', grad_W2.shape)\n",
    "        #print('\\n')\n",
    "        \n",
    "        grad_b2 = grad_a2 \n",
    "        #print('grad_b2.shape =', grad_b2.shape)\n",
    "        #print('\\n')\n",
    "        \n",
    "        grad_h1 = np.dot (self.W2.T, grad_a2)\n",
    "        #print('grad_h1.shape =', grad_h1.shape)\n",
    "        #print('\\n')\n",
    "        \n",
    "        grad_a1 = (a1 > 0) * grad_h1\n",
    "        #print('grad_a1.shape =', grad_a1.shape)\n",
    "        #print('\\n')\n",
    "        \n",
    "        grad_W1 = np.outer (grad_a1, x) + weight_decay * self.W1\n",
    "        #print('grad_W1.shape =', grad_W1.shape)\n",
    "        #print('\\n')\n",
    "        \n",
    "        grad_b1 = grad_a1\n",
    "        #print('grad_b1.shape =', grad_b1.shape)\n",
    "        #print('\\n')\n",
    "        \n",
    "        grads=[grad_W3, grad_b3, grad_W2, grad_b2, grad_W1, grad_b1]\n",
    "   \n",
    "        return grads\n",
    "\n",
    "\n",
    "\n",
    "    def update(self, grads, learning_rate):\n",
    "        for p, grad in zip(self.parameters, grads):\n",
    "            p -= learning_rate * grad\n",
    "        \n",
    "    #line 201   \n",
    "\n",
    "    def train_SGD(self, x, y_onehot, n, learning_rate=1e-1, weight_decay=0):\n",
    "        y= y_onehot\n",
    "        #print('x.shape = ', x.shape)\n",
    "        #print('y.shape = ', y.shape)\n",
    "        losses = 0\n",
    "        if (n==1):\n",
    "            a1, h1, a2, h2, oa, os = self.forward(x)\n",
    "            grads = self.backward(x, y, a1, h1, a2, h2, oa, os)\n",
    "            self.update(grads, learning_rate)\n",
    "            loss = self.loss(y, os)\n",
    "            losses += loss  \n",
    "            average_loss = losses / n\n",
    "        else:    \n",
    "            for j in range(x.shape[0]):\n",
    "                a1, h1, a2, h2, oa, os = self.forward(x[j])\n",
    "                grads = self.backward(x[j], y[j], a1, h1, a2, h2, oa, os)\n",
    "                self.update(grads, learning_rate)\n",
    "                loss = self.loss(y[j], os)\n",
    "                losses += loss \n",
    "                \n",
    "            average_loss = losses / n\n",
    "            #print (average_loss)\n",
    "\n",
    "        #print (average_loss)   \n",
    "        return average_loss\n",
    "    \n",
    "    \n",
    "    def prediction_SGD (self, x):\n",
    "        predictions = np.zeros(x.shape[0])\n",
    "        for i in range(x.shape[0]):\n",
    "            _, _, _, _, _, os = self.forward(x[i])\n",
    "            predictions[i] = os.argmax()\n",
    "            \n",
    "        return predictions\n",
    "    \n",
    "    def accuracy_SGD (self, prediction, y):\n",
    "        accuracies=0\n",
    "        for i in range (y.shape[0]):\n",
    "            accuracies+=(prediction[i]==y[i])\n",
    "            \n",
    "        return accuracies / y.shape[0]\n",
    "    \n",
    "    \n",
    "    def test_SGD(self, x, y_onehot, y):\n",
    "        pred=np.zeros(y.shape[0])\n",
    "        avg_loss=0\n",
    "        for i in range (x.shape[0]):\n",
    "            _, _, _, _, _, os = self.forward(x[i])\n",
    "            loss=self.loss (y_onehot[i], os)\n",
    "            avg_loss+=loss\n",
    "            pred[i]=os.argmax()\n",
    "            \n",
    "        accuracy=self.accuracy_SGD(pred, y)    \n",
    "        return avg_loss / x.shape[0] , accuracy\n",
    "    \n",
    "   \n",
    "    def forward_mbatch(self, x):\n",
    "        #print ('forward minibtach')\n",
    "        a1 = np.dot ( x, self.W1.T) + self.b1 \n",
    "        #print('a1 = np.dot (x, self.W1.T) + self.b1')\n",
    "        #print('a1.shape =', a1.shape)\n",
    "        #print('a1 = ', a1)\n",
    "        #print('\\n')\n",
    "        \n",
    "        h1 = self.activation (a1)\n",
    "        #print('h1 = self.activation (a1)')\n",
    "        #print('h1.shape =', h1.shape)\n",
    "        #print('h1 = ', h1)\n",
    "        #print('\\n')\n",
    "        \n",
    "        a2 = np.dot (h1, self.W2.T) + self.b2\n",
    "        #print('a2 = np.dot (h1, self.W2.T) + self.b2')\n",
    "        #print('a2.shape =', a2.shape)\n",
    "        #print('a2 = ', a2)\n",
    "        #print('\\n')\n",
    "        \n",
    "        h2 = self.activation (a2)\n",
    "        #print('h2 = self.activation (a2)')\n",
    "        #print('h2.shape =', h2.shape)\n",
    "        #print('h2 = ', h2)\n",
    "        #print('\\n')\n",
    "        \n",
    "        oa = np.dot (h2, self.W3.T) + self.b3\n",
    "        #print('oa = np.dot (h2, self.W3.T) + self.b3')\n",
    "        #print('oa.shape =', oa.shape)\n",
    "        #print('oa = ', oa)\n",
    "        #print('\\n')\n",
    "        \n",
    "        os = self.softmax (oa, axis=1)\n",
    "        #print('os = softmax (oa)')\n",
    "        #print('os.shape =', os.shape)\n",
    "        #print('os = ', os)\n",
    "        #print('\\n')\n",
    "               \n",
    "        return a1, h1, a2, h2, oa, os\n",
    "    \n",
    "    #line 303\n",
    "        \n",
    "    def backward_mbatch(self, x, y, a1, h1, a2, h2, oa, os, batch_n, weight_decay=0):\n",
    "        #print ('backward minibatch')\n",
    "        \n",
    "        #print('x.shape = ', x.shape)\n",
    "        #print('y.shape = ', y.shape)\n",
    "        #print('os.shape = ', os.shape)\n",
    "        \n",
    "        \n",
    "        batch_n = x.shape[0]\n",
    "        bgrad_oa = os - y\n",
    "        #print('bgrad_oa.shape =', bgrad_oa.shape)\n",
    "        #print('\\n')\n",
    "        \n",
    "        bgrad_W3 = np.dot (bgrad_oa.T, h2) / batch_n  + weight_decay * self.W3\n",
    "        #print('bgrad_W3.shape =', bgrad_W3.shape)\n",
    "        #print('\\n')\n",
    "        \n",
    "        bgrad_b3 = bgrad_oa.mean(axis=0)\n",
    "        #print('bgrad_b3.shape =', bgrad_b3.shape)\n",
    "        #print('\\n')\n",
    "        \n",
    "        bgrad_h2 = np.dot (bgrad_oa, self.W3)\n",
    "        #print(' bgrad_h2.shape =', bgrad_h2.shape)\n",
    "        #print('\\n')\n",
    "        \n",
    "        bgrad_a2 = (a2 > 0) * bgrad_h2\n",
    "        #print('bgrad_a2.shape =', bgrad_a2.shape)\n",
    "        #print('\\n')\n",
    "        \n",
    "        bgrad_W2 = np.dot (bgrad_a2.T, h1) / batch_n  + weight_decay * self.W2\n",
    "        #print('bgrad_W2.shape =', bgrad_W2.shape)\n",
    "        #print('\\n')\n",
    "        \n",
    "        bgrad_b2 = bgrad_a2.mean(axis=0) \n",
    "        #print('bgrad_b2.shape =', bgrad_b2.shape)\n",
    "        #print('\\n')\n",
    "        \n",
    "        bgrad_h1 = np.dot (bgrad_a2, self.W2)\n",
    "        #print('bgrad_h1.shape =', bgrad_h1.shape)\n",
    "        #print('\\n')\n",
    "        \n",
    "     \n",
    "        bgrad_a1 = (a1 > 0) * bgrad_h1\n",
    "        #print('bgrad_a1.shape =', bgrad_a1.shape)\n",
    "        #print('\\n')\n",
    "        \n",
    "        bgrad_W1 = np.dot (bgrad_a1.T, x) / batch_n  + weight_decay * self.W1\n",
    "        #print('bgrad_W1.shape =', bgrad_W1.shape)\n",
    "        #print('\\n')\n",
    "        \n",
    "        bgrad_b1 = bgrad_a1.mean(axis=0)\n",
    "        #print('bgrad_b1.shape =', bgrad_b1.shape)\n",
    "        #print('\\n')\n",
    "        \n",
    "        bgrads=[bgrad_W3, bgrad_b3, bgrad_W2, bgrad_b2, bgrad_W1, bgrad_b1]\n",
    "   \n",
    "        return bgrads\n",
    "\n",
    "    #line 360\n",
    "\n",
    "    #Method taken fron homwork 3 in cours IFT6093\n",
    "    def loss_mbatch(self, os, y):\n",
    "        return (y * (-np.log(os))).sum(axis=1).mean(axis=0)     \n",
    "        \n",
    "    \n",
    "    #training with minibatch gradient decent\n",
    "    def train_mbatch(self, x, y_onehot, mb_size=100, learning_rate=1e-1, weight_decay=0):\n",
    "        average_loss=0\n",
    "        for i in range (0, x.shape[0], mb_size):\n",
    "            #print (i)\n",
    "            xi = x[i:(i+mb_size)]\n",
    "            yi = y_onehot[i:(i+mb_size)]\n",
    "        \n",
    "            losses = 0\n",
    "            a1, h1, a2, h2, oa, os = self.forward_mbatch(xi)\n",
    "            grads = self.backward_mbatch (xi, yi,a1, h1, a2, h2,oa, os, mb_size)\n",
    "            self.update(grads, learning_rate)\n",
    "            average_loss = self.loss_mbatch(os, yi) \n",
    "                          \n",
    "        return average_loss\n",
    "    \n",
    "    \n",
    "    #line 385\n",
    "    \n",
    "    def prediction_mbatch (self, x):\n",
    "        _, _, _, _, _, os = self.forward_mbatch(x)\n",
    "        return os.argmax(axis=1)\n",
    "    \n",
    "\n",
    "    def accuracy_mbatch (self, prediction, y):\n",
    "        accuracy = np.zeros(y.shape[0])\n",
    "        accuracy = prediction == y\n",
    "        return accuracy.mean(axis=0)\n",
    "    \n",
    "\n",
    "    def test_mbatch(self, x, y_onehot, y):\n",
    "        _, _, _, _, _, os = self.forward_mbatch(x)\n",
    "        loss = self.loss_mbatch (os, y_onehot)\n",
    "        accuracy=self.accuracy_mbatch (os.argmax(axis=1), y)\n",
    "        return loss, accuracy\n",
    "    \n",
    "    \n",
    "    def finite_difference():\n",
    "        \n",
    "        pass"
   ]
  },
  {
   "cell_type": "code",
   "execution_count": 11,
   "metadata": {},
   "outputs": [],
   "source": [
    "#This class implementation is inspired from the NN implemented in cours IFT6093\n",
    "class NN_old(object):\n",
    "    \n",
    "    def __init__(self, input_dim, output_dim,hidden_dims=(1024,2048),n_hidden=2, initialization='zeros', mode=',train',\n",
    "                 datapath=None,model_path=None):\n",
    "        \n",
    "        self.indim = input_dim\n",
    "        self.hd1 = hidden_dims[0] \n",
    "        self.hd2 = hidden_dims[1]\n",
    "        self.n_hidden = n_hidden\n",
    "        self.outd = output_dim\n",
    "        self.W1 = np.zeros(shape=(hidden_dims[0], input_dim))\n",
    "        \n",
    "        self.b1 = np.zeros(hidden_dims[0])\n",
    "        \n",
    "        self.W2 = np.zeros(shape=(hidden_dims[1], hidden_dims[0]))\n",
    "\n",
    "        self.b2 = np.zeros(hidden_dims[1])\n",
    "        \n",
    "        self.W3 = np.zeros(shape=(output_dim, hidden_dims[1]))\n",
    "        \n",
    "        self.b3 = np.zeros(output_dim)\n",
    "        \n",
    "        if initialization=='normal':\n",
    "            self.initialize_weights_normal()\n",
    "            \n",
    "        if initialization=='glorot':\n",
    "            self.initialize_weights_glorot()\n",
    "            \n",
    "        \n",
    "        self.parameters = [self.W3, self.b3, self.W2, self.b2, self.W1, self.b1]\n",
    "        \n",
    "        \n",
    "    def initialize_weights_normal(self):\n",
    "        \n",
    "        self.W1 = np.random.normal(loc=0.0, scale=1.0, size=(self.hd1, self.indim))\n",
    "        self.W2 = np.random.normal(loc=0.0, scale=1.0, size=(self.hd2, self.hd1))\n",
    "        self.W3 = np.random.normal(loc=0.0, scale=1.0, size=(self.outd, self.hd2))\n",
    "        \n",
    "        return self\n",
    "    \n",
    "    \n",
    "    def initialize_weights_glorot(self):\n",
    "        \n",
    "        dl1 = np.sqrt(6/(self.indim + self.hd1))\n",
    "        dl2 = np.sqrt(6/(self.hd1 + self.hd2))\n",
    "        dl3 = np.sqrt(6/(self.hd2 + self.outd))\n",
    "        self.W1 = np.random.uniform(low=(-dl1), high=dl1, size=(self.hd1, self.indim))\n",
    "        self.W2 = np.random.uniform(low=(-dl2), high=dl2, size=(self.hd2, self.hd1))\n",
    "        self.W3 = np.random.uniform(low=(-dl3), high=dl3, size=(self.outd, self.hd2))\n",
    "        \n",
    "        return self\n",
    "        \n",
    "        \n",
    "        \n",
    "    #Method inspired from NN implemented in cours IFT6093\n",
    "    def activation (self,input):\n",
    "        return (input > 0) * input  \n",
    "    \n",
    "    #line 85\n",
    "\n",
    "    def forward(self,x):\n",
    "        #print('forward')\n",
    "        \n",
    "        a1 = np.dot (self.W1, x) + self.b1 \n",
    "\n",
    "        h1 = self.activation (a1)\n",
    "        \n",
    "        a2 = np.dot (self.W2, h1) + self.b2\n",
    "        \n",
    "        h2 = self.activation (a2)\n",
    "        \n",
    "    \n",
    "        oa = np.dot (self.W3, h2) + self.b3\n",
    "        \n",
    "        os = self.softmax (oa, axis=0)\n",
    "               \n",
    "        return a1, h1, a2, h2, oa, os\n",
    "    \n",
    "    \n",
    "\n",
    "    #Methods inspired from NN implemented in cours IFT6093\n",
    "    def loss (self, y, os):\n",
    "        return (y * (-np.log(os))).sum()\n",
    "    \n",
    "\n",
    "    def softmax (self,x,axis=1):\n",
    "        shiftx = x - np.max (x, axis=axis, keepdims=True)\n",
    "        exps = np.exp (shiftx)\n",
    "        y = exps / exps.sum (axis=axis, keepdims=True)\n",
    "        return y\n",
    "\n",
    "\n",
    "    def backward(self, x, y, a1, h1, a2, h2, oa, os, weight_decay=0, cache=None):\n",
    "        grad_oa = os - y\n",
    "        \n",
    "        grad_W3 = np.outer (grad_oa, h2) + weight_decay * self.W3\n",
    "        \n",
    "        grad_b3 = grad_oa\n",
    " \n",
    "        grad_h2 = np.dot (self.W3.T, grad_oa)\n",
    "        \n",
    "        grad_a2 = (a2 > 0) * grad_h2\n",
    "        \n",
    "        grad_W2 = np.outer (grad_a2, h1) + weight_decay * self.W2\n",
    "        \n",
    "        grad_b2 = grad_a2 \n",
    "        \n",
    "        grad_h1 = np.dot (self.W2.T, grad_a2)\n",
    "        \n",
    "        grad_a1 = (a1 > 0) * grad_h1\n",
    "        \n",
    "        grad_W1 = np.outer (grad_a1, x) + weight_decay * self.W1\n",
    "        \n",
    "        grad_b1 = grad_a1\n",
    "        \n",
    "        grads=[grad_W3, grad_b3, grad_W2, grad_b2, grad_W1, grad_b1]\n",
    "   \n",
    "        return grads\n",
    "\n",
    "\n",
    "\n",
    "    def update(self, grads, learning_rate):\n",
    "        for p, grad in zip(self.parameters, grads):\n",
    "            p -= learning_rate * grad\n",
    "        \n",
    "    #line 201   \n",
    "\n",
    "    def train_SGD(self, x, y_onehot, n, learning_rate=1e-1, weight_decay=0):\n",
    "        y= y_onehot\n",
    "        losses = 0\n",
    "        if (n==1):\n",
    "            a1, h1, a2, h2, oa, os = self.forward(x)\n",
    "            grads = self.backward(x, y, a1, h1, a2, h2, oa, os)\n",
    "            self.update(grads, learning_rate)\n",
    "            loss = self.loss(y, os)\n",
    "            losses += loss  \n",
    "            average_loss = losses / n\n",
    "        else:    \n",
    "            for j in range(x.shape[0]):\n",
    "                a1, h1, a2, h2, oa, os = self.forward(x[j])\n",
    "                grads = self.backward(x[j], y[j], a1, h1, a2, h2, oa, os)\n",
    "                self.update(grads, learning_rate)\n",
    "                loss = self.loss(y[j], os)\n",
    "                losses += loss \n",
    "                \n",
    "            average_loss = losses / n  \n",
    "        return average_loss\n",
    "    \n",
    "    \n",
    "    def prediction_SGD (self, x):\n",
    "        predictions = np.zeros(x.shape[0])\n",
    "        for i in range(x.shape[0]):\n",
    "            _, _, _, _, _, os = self.forward(x[i])\n",
    "            predictions[i] = os.argmax(axis=0)\n",
    "            \n",
    "        return predictions\n",
    "    \n",
    "    def accuracy_SGD (self, prediction, y):\n",
    "        accuracies=0\n",
    "        for i in range (y.shape[0]):\n",
    "            accuracies+=(prediction[i]==y[i])\n",
    "            \n",
    "        return accuracies / y.shape[0]\n",
    "    \n",
    "    \n",
    "    def test_SGD(self, x, y_onehot, y):\n",
    "        pred=np.zeros(y.shape[0])\n",
    "        avg_loss=0\n",
    "        for i in range (x.shape[0]):\n",
    "            _, _, _, _, _, os = self.forward(x[i])\n",
    "            loss=self.loss (y_onehot[i], os)\n",
    "            avg_loss+=loss\n",
    "            pred[i]=os.argmax()\n",
    "            \n",
    "        accuracy=self.accuracy_SGD(pred, y)    \n",
    "        return avg_loss / x.shape[0] , accuracy\n",
    "    \n",
    "   \n",
    "    def forward_mbatch(self, x):\n",
    "        #print ('forward minibtach')\n",
    "        a1 = np.dot ( x, self.W1.T) + self.b1 \n",
    "        \n",
    "        h1 = self.activation (a1)\n",
    "\n",
    "        a2 = np.dot (h1, self.W2.T) + self.b2\n",
    "        \n",
    "        h2 = self.activation (a2)\n",
    "        \n",
    "        oa = np.dot (h2, self.W3.T) + self.b3\n",
    "        \n",
    "        os = self.softmax (oa, axis=1)\n",
    "               \n",
    "        return a1, h1, a2, h2, oa, os\n",
    "    \n",
    "    #line 303\n",
    "        \n",
    "    def backward_mbatch(self, x, y, a1, h1, a2, h2, oa, os, batch_n, weight_decay=0):\n",
    "        \n",
    "        \n",
    "        batch_n = x.shape[0]\n",
    "        bgrad_oa = os - y\n",
    "        \n",
    "        bgrad_W3 = np.dot (bgrad_oa.T, h2) / batch_n  + weight_decay * self.W3\n",
    "        \n",
    "        bgrad_b3 = bgrad_oa.mean(axis=0)\n",
    "        \n",
    "        bgrad_h2 = np.dot (bgrad_oa, self.W3)\n",
    "        \n",
    "        bgrad_a2 = (a2 > 0) * bgrad_h2\n",
    "        \n",
    "        bgrad_W2 = np.dot (bgrad_a2.T, h1) / batch_n  + weight_decay * self.W2\n",
    "        \n",
    "        bgrad_b2 = bgrad_a2.mean(axis=0) \n",
    "        \n",
    "        bgrad_h1 = np.dot (bgrad_a2, self.W2)   \n",
    "     \n",
    "        bgrad_a1 = (a1 > 0) * bgrad_h1\n",
    "        \n",
    "        bgrad_W1 = np.dot (bgrad_a1.T, x) / batch_n  + weight_decay * self.W1\n",
    "        \n",
    "        bgrad_b1 = bgrad_a1.mean(axis=0)\n",
    "       \n",
    "        bgrads=[bgrad_W3, bgrad_b3, bgrad_W2, bgrad_b2, bgrad_W1, bgrad_b1]\n",
    "   \n",
    "        return bgrads\n",
    "\n",
    "    #line 360\n",
    "\n",
    "    #Method taken fron homwork 3 in cours IFT6093\n",
    "    def loss_mbatch(self, os, y):\n",
    "        return (y * (-np.log(os))).sum(axis=1).mean(axis=0)     \n",
    "        \n",
    "    \n",
    "    #training with minibatch gradient decent\n",
    "    def train_mbatch(self, x, y_onehot, mb_size=100, learning_rate=1e-1, weight_decay=0):\n",
    "        average_loss=0\n",
    "        for i in range (0, x.shape[0], mb_size):\n",
    "            #print (i)\n",
    "            xi = x[i:(i+mb_size)]\n",
    "            yi = y_onehot[i:(i+mb_size)]\n",
    "        \n",
    "            losses = 0\n",
    "            a1, h1, a2, h2, oa, os = self.forward_mbatch(xi)\n",
    "            grads = self.backward_mbatch (xi, yi,a1, h1, a2, h2,oa, os, mb_size)\n",
    "            self.update(grads, learning_rate)\n",
    "            average_loss = self.loss_mbatch(os, yi) \n",
    "                          \n",
    "        return average_loss\n",
    "    \n",
    "    \n",
    "    #line 385\n",
    "    \n",
    "    def prediction_mbatch (self, x):\n",
    "        _, _, _, _, _, os = self.forward_mbatch(x)\n",
    "        return os.argmax(axis=1)\n",
    "    \n",
    "\n",
    "    def accuracy_mbatch (self, prediction, y):\n",
    "        accuracy = np.zeros(y.shape[0])\n",
    "        accuracy = prediction == y\n",
    "        return accuracy.mean(axis=0)\n",
    "    \n",
    "\n",
    "    def test_mbatch(self, x, y_onehot, y):\n",
    "        _, _, _, _, _, os = self.forward_mbatch(x)\n",
    "        loss = self.loss_mbatch (os, y_onehot)\n",
    "        accuracy=self.accuracy_mbatch (os.argmax(axis=1), y)\n",
    "        return loss, accuracy\n",
    "    \n",
    "    \n",
    "    def finite_difference():\n",
    "        \n",
    "        pass"
   ]
  },
  {
   "cell_type": "code",
   "execution_count": 12,
   "metadata": {},
   "outputs": [],
   "source": [
    "# Comment to get non-deterministic results\n",
    "np.random.seed(2)"
   ]
  },
  {
   "cell_type": "markdown",
   "metadata": {},
   "source": [
    "## Model application"
   ]
  },
  {
   "cell_type": "code",
   "execution_count": 13,
   "metadata": {},
   "outputs": [
    {
     "data": {
      "text/plain": [
       "((5000, 784), (5000,), (55000, 784), (55000,))"
      ]
     },
     "execution_count": 13,
     "metadata": {},
     "output_type": "execute_result"
    }
   ],
   "source": [
    "x_valid.shape,y_valid.shape,x_train.shape,y_train.shape"
   ]
  },
  {
   "cell_type": "code",
   "execution_count": 14,
   "metadata": {},
   "outputs": [],
   "source": [
    "def onehot(y, n_classes):\n",
    "    o = np.zeros(shape=(y.shape[0], n_classes))\n",
    "    for i in range(y.shape[0]):\n",
    "        o[i, int(y[i])] = 1\n",
    "    return o"
   ]
  },
  {
   "cell_type": "markdown",
   "metadata": {},
   "source": [
    "### Backpropagation for 1 exemple"
   ]
  },
  {
   "cell_type": "code",
   "execution_count": 15,
   "metadata": {},
   "outputs": [
    {
     "name": "stdout",
     "output_type": "stream",
     "text": [
      "a1 shape =  (500,)\n",
      "h1 shape =  (500,)\n",
      "a2 shape =  (300,)\n",
      "h2 shape =  (300,)\n",
      "oa shape =  (10,)\n",
      "os shape =  (10,)\n"
     ]
    }
   ],
   "source": [
    "# self, input_dim, output_dim,hidden_dims=(1024,2048),n_hidden=2, initialization=zeros, mode=',train',\n",
    "# datapath=None,model_path=None\n",
    "x=x_train[0]\n",
    "y=y_train[0]\n",
    "y = np.zeros(shape=(10, ))\n",
    "y[y_train[0]] = 1\n",
    "\n",
    "NN_model= NN(784, 10, hidden_dims=(500,300),initialization='glorot')\n",
    "\n",
    "a1, h1, a2, h2, oa, os = NN_model.forward(x_train[0])\n",
    "\n",
    "#self,cache, x, y,a1, h1, a2, h2, oa, os, weight_decay=0)\n",
    "grads=NN_model.backward(x, y, a1, h1, a2, h2, oa, os)\n",
    "\n",
    "print ('a1 shape = ', a1.shape)\n",
    "print ('h1 shape = ', h1.shape)\n",
    "print ('a2 shape = ', a2.shape)\n",
    "print ('h2 shape = ', h2.shape)\n",
    "print ('oa shape = ', oa.shape)\n",
    "print ('os shape = ', os.shape)"
   ]
  },
  {
   "cell_type": "code",
   "execution_count": 16,
   "metadata": {},
   "outputs": [
    {
     "name": "stdout",
     "output_type": "stream",
     "text": [
      "epoch  0  loss  2.2458156979377923\n",
      "epoch  1  loss  0.07351942057524537\n",
      "epoch  2  loss  0.026537978788766254\n",
      "epoch  3  loss  0.01717307309857972\n",
      "epoch  4  loss  0.012657772125078742\n",
      "epoch  5  loss  0.009990179548148933\n",
      "epoch  6  loss  0.008231057644325012\n",
      "epoch  7  loss  0.006979367452823632\n",
      "epoch  8  loss  0.006044739962965384\n",
      "epoch  9  loss  0.005321301076206271\n"
     ]
    }
   ],
   "source": [
    "#training 10 epoch for 1 exemple\n",
    "\n",
    "#x, y_onehot, n, learning_rate=1e-1, weight_decay=0\n",
    "epochs=10\n",
    "for epoch in range (epochs):\n",
    "    loss=NN_model.train_SGD(x, y, 1)\n",
    "    print('epoch ', epoch, ' loss ', loss)"
   ]
  },
  {
   "cell_type": "markdown",
   "metadata": {},
   "source": [
    "## Checking the best hyperparameters with validation dataset"
   ]
  },
  {
   "cell_type": "markdown",
   "metadata": {},
   "source": [
    "### Functions declaration:"
   ]
  },
  {
   "cell_type": "code",
   "execution_count": 17,
   "metadata": {},
   "outputs": [],
   "source": [
    "# Train the model using different hyperparameters, like mini-batch size, learning rate and epochs number\n",
    "# x_ds is the dataset to train, y_ds is the target dataset.\n",
    "def train_model(x_ds,y_ds,epochs,minibatch,learningrate):\n",
    "    x = x_ds\n",
    "    print('x.shape = ', x.shape)\n",
    "    y = y_ds\n",
    "    y=onehot(y,10)\n",
    "    print('y.shape = ', y.shape)\n",
    "\n",
    "    # input_dim, output_dim,hidden_dims,n_hidden=2,mode=',train',\n",
    "    # datapath=None,model_path=None\n",
    "\n",
    "    NN_mbatch_1= NN(784, 10, hidden_dims=(500,300),initialization='glorot')\n",
    "    loss_arr=[]\n",
    "    loss_mbatch_1=0\n",
    "    for epoch in range (epochs): \n",
    "        #x, y_onehot, mb_size=100, learning_rate=1e-1, weight_decay=0\n",
    "        loss_mbatch_1=NN_mbatch_1.train_mbatch(x, y, mb_size=minibatch,learning_rate=learningrate)\n",
    "        #print('epoch ', epoch, ' loss ', loss_mbatch_1)\n",
    "        loss_arr.append(loss_mbatch_1)\n",
    "    y_pred=NN_mbatch_1.prediction_mbatch(x_ds)\n",
    "    accuracy=NN_mbatch_1.accuracy_mbatch(y_pred,y_ds)\n",
    "    print('epoch ', epoch, ' loss ', loss_mbatch_1)\n",
    "    return loss_arr,accuracy"
   ]
  },
  {
   "cell_type": "code",
   "execution_count": 18,
   "metadata": {},
   "outputs": [],
   "source": [
    "import numpy as np\n",
    "import matplotlib.pyplot as plt\n",
    "import matplotlib.gridspec as gridspec\n",
    "\n",
    "# Display differents graphs using different hyperparameters saved in arrays.\n",
    "# Input variables are arrays with the same lenght, with the values to graph\n",
    "\n",
    "def show_graphs(minibatch_arr,epoch_arr,learningrate_arr,loss_arr):\n",
    "# define a list of markevery cases to plot\n",
    "    cases=[]\n",
    "    x_values=[]\n",
    "    y_values=[]\n",
    "    for i in range(len(minibatch_arr)):\n",
    "        cases.append([minibatch_arr[i],epoch_arr[i],learningrate_arr[i]])\n",
    "        # define the data for cartesian plots\n",
    "        x_values.append(range(epoch_arr[i]))\n",
    "        y_values.append(loss_arr[i])\n",
    "    # define the figure size and grid layout properties\n",
    "    figsize = (10, 6)\n",
    "    cols = 2\n",
    "    gs = gridspec.GridSpec(len(cases) // cols + 1, cols)\n",
    "    gs.update(hspace=0.4)\n",
    "    \n",
    "    fig1 = plt.figure(num=1, figsize=figsize)\n",
    "    ax = []\n",
    "    for i, case in enumerate(cases):\n",
    "        row = (i // cols)\n",
    "        col = i % cols\n",
    "        ax.append(fig1.add_subplot(gs[row, col]))\n",
    "        ax[-1].set_title('Minibatch=%s, Epoch=%s, Learning=%s' % (str(case[0]),str(case[1]),str(case[2])))\n",
    "        ax[-1].plot(x_values[i], y_values[i], 'o', ls='-', ms=4, markevery=1)"
   ]
  },
  {
   "cell_type": "markdown",
   "metadata": {},
   "source": [
    "## Using different hyperparameters with validation set and Glorot initialization:"
   ]
  },
  {
   "cell_type": "markdown",
   "metadata": {},
   "source": [
    "## * Changing Mini-batch size:"
   ]
  },
  {
   "cell_type": "markdown",
   "metadata": {},
   "source": [
    "### With Mini-batch size=500, Epoch=100, Learning rate=0.001: Accuracy=74.86%"
   ]
  },
  {
   "cell_type": "code",
   "execution_count": 19,
   "metadata": {},
   "outputs": [],
   "source": [
    "x_ds=x_valid\n",
    "y_ds=y_valid"
   ]
  },
  {
   "cell_type": "code",
   "execution_count": 20,
   "metadata": {},
   "outputs": [
    {
     "name": "stdout",
     "output_type": "stream",
     "text": [
      "x.shape =  (5000, 784)\n",
      "y.shape =  (5000, 10)\n",
      "epoch  99  loss  1.5799835146575842\n",
      "Accuracy: 0.7322\n"
     ]
    }
   ],
   "source": [
    "loss_arr1=[]\n",
    "epoch_1=100\n",
    "mb_1=500\n",
    "lr_1=1e-3\n",
    "loss_arr1,acc_1=train_model(x_ds,y_ds,epoch_1,mb_1,lr_1)\n",
    "print('Accuracy: %s' % str(acc_1))"
   ]
  },
  {
   "cell_type": "markdown",
   "metadata": {},
   "source": [
    "### With Mini-batch size=150, Epoch=100, Learning rate=0.001: Accuracy=84.96%"
   ]
  },
  {
   "cell_type": "code",
   "execution_count": 21,
   "metadata": {},
   "outputs": [
    {
     "name": "stdout",
     "output_type": "stream",
     "text": [
      "x.shape =  (5000, 784)\n",
      "y.shape =  (5000, 10)\n",
      "epoch  99  loss  0.6901273373053196\n",
      "Accuracy: 0.8514\n"
     ]
    }
   ],
   "source": [
    "loss_arr2=[]\n",
    "epoch_2=100\n",
    "mb_2=150\n",
    "lr_2=1e-3\n",
    "loss_arr2,acc_2=train_model(x_ds,y_ds,epoch_2,mb_2,lr_2)\n",
    "print('Accuracy: %s' % str(acc_2))"
   ]
  },
  {
   "cell_type": "markdown",
   "metadata": {},
   "source": [
    "### With Mini-batch size=100, Epoch=100, Learning rate=0.001: Accuracy=88.3%"
   ]
  },
  {
   "cell_type": "code",
   "execution_count": 22,
   "metadata": {},
   "outputs": [
    {
     "name": "stdout",
     "output_type": "stream",
     "text": [
      "x.shape =  (5000, 784)\n",
      "y.shape =  (5000, 10)\n",
      "epoch  99  loss  0.5580423025935315\n",
      "Accuracy: 0.8856\n"
     ]
    }
   ],
   "source": [
    "loss_arr3=[]\n",
    "epoch_3=100\n",
    "mb_3=100\n",
    "lr_3=1e-3\n",
    "loss_arr3,acc_3=train_model(x_ds,y_ds,epoch_3,mb_3,lr_3)\n",
    "print('Accuracy: %s' % str(acc_3))"
   ]
  },
  {
   "cell_type": "markdown",
   "metadata": {},
   "source": [
    "### With Mini-batch size=50, Epoch=100, Learning rate=0.001: Accuracy=90.58%"
   ]
  },
  {
   "cell_type": "code",
   "execution_count": 23,
   "metadata": {},
   "outputs": [
    {
     "name": "stdout",
     "output_type": "stream",
     "text": [
      "x.shape =  (5000, 784)\n",
      "y.shape =  (5000, 10)\n",
      "epoch  99  loss  0.3167889391229616\n",
      "Accuracy: 0.9072\n"
     ]
    }
   ],
   "source": [
    "loss_arr4=[]\n",
    "epoch_4=100\n",
    "mb_4=50\n",
    "lr_4=1e-3\n",
    "loss_arr4,acc_4=train_model(x_ds,y_ds,epoch_4,mb_4,lr_4)\n",
    "print('Accuracy: %s' % str(acc_4))"
   ]
  },
  {
   "cell_type": "code",
   "execution_count": 24,
   "metadata": {},
   "outputs": [],
   "source": [
    "accuracy_arr=[acc_1,acc_2,acc_3,acc_4]\n",
    "x_val=[mb_1,mb_2,mb_3,mb_4]\n",
    "minibatch_arr=[mb_1,mb_2,mb_3,mb_4]\n",
    "epoch_arr=[epoch_1,epoch_2,epoch_3,epoch_4]\n",
    "learningrate_arr=[lr_1,lr_2,lr_3,lr_4]\n",
    "loss_arr=[loss_arr1,loss_arr2,loss_arr3,loss_arr4]"
   ]
  },
  {
   "cell_type": "code",
   "execution_count": 25,
   "metadata": {},
   "outputs": [
    {
     "data": {
      "image/png": "[encoded data removed]",
      "text/plain": [
       "<Figure size 720x432 with 4 Axes>"
      ]
     },
     "metadata": {
      "needs_background": "light"
     },
     "output_type": "display_data"
    }
   ],
   "source": [
    "show_graphs(minibatch_arr,epoch_arr,learningrate_arr,loss_arr)"
   ]
  },
  {
   "cell_type": "code",
   "execution_count": 26,
   "metadata": {},
   "outputs": [
    {
     "data": {
      "image/png": "[encoded data removed]",
      "text/plain": [
       "<Figure size 1080x360 with 2 Axes>"
      ]
     },
     "metadata": {
      "needs_background": "light"
     },
     "output_type": "display_data"
    }
   ],
   "source": [
    "fig, ax = plt.subplots(1,2,figsize=(15, 5))\n",
    "# plt.xlabel('Epoch')\n",
    "ax[1].plot(minibatch_arr, accuracy_arr, markevery=1)\n",
    "ax[1].set_xlabel('Mini-Batch')\n",
    "ax[1].set_ylabel('Accuracy')\n",
    "ax[1].set_title('Accuracy with different Mini-batch size')\n",
    "ax[1].grid(True)\n",
    "ax[0].plot(range(epoch_4), loss_arr4, label='Mini-batch: %s' % str(mb_4))\n",
    "ax[0].plot(range(epoch_3), loss_arr3, label='Mini-batch: %s' % str(mb_3))\n",
    "ax[0].plot(range(epoch_2), loss_arr2, label='Mini-batch: %s' % str(mb_2))\n",
    "ax[0].plot(range(epoch_1), loss_arr1, label='Mini-batch: %s' % str(mb_1))\n",
    "ax[0].legend()\n",
    "ax[0].set_xlabel('Epoch')\n",
    "ax[0].set_ylabel('Loss')\n",
    "ax[0].set_title('Total Loss per Epoch - Comparative Graph')\n",
    "plt.show()"
   ]
  },
  {
   "cell_type": "markdown",
   "metadata": {},
   "source": [
    "###  While the Mini-batch size is decreasing, the model obtain a better accuracy.  "
   ]
  },
  {
   "cell_type": "markdown",
   "metadata": {},
   "source": [
    "## * Changing Learning-size:"
   ]
  },
  {
   "cell_type": "markdown",
   "metadata": {},
   "source": [
    "### With Mini-batch size=50, Epoch=100, Learning rate=0.01: Accuracy=99.54%"
   ]
  },
  {
   "cell_type": "code",
   "execution_count": 27,
   "metadata": {},
   "outputs": [
    {
     "name": "stdout",
     "output_type": "stream",
     "text": [
      "x.shape =  (5000, 784)\n",
      "y.shape =  (5000, 10)\n",
      "epoch  99  loss  0.02590896466302461\n",
      "Accuracy: 0.995\n"
     ]
    }
   ],
   "source": [
    "loss_arr4_b=[]\n",
    "epoch_4_b=100\n",
    "mb_4_b=50\n",
    "lr_4_b=1e-2\n",
    "loss_arr4_b,acc_4_b=train_model(x_ds,y_ds,epoch_4_b,mb_4_b,lr_4_b)\n",
    "print('Accuracy: %s' % str(acc_4_b))"
   ]
  },
  {
   "cell_type": "markdown",
   "metadata": {},
   "source": [
    "### With Mini-batch size=50, Epoch=100, Learning rate=0.1: Accuracy=100%"
   ]
  },
  {
   "cell_type": "code",
   "execution_count": 28,
   "metadata": {},
   "outputs": [
    {
     "name": "stdout",
     "output_type": "stream",
     "text": [
      "x.shape =  (5000, 784)\n",
      "y.shape =  (5000, 10)\n",
      "epoch  99  loss  0.0007121460914874328\n",
      "Accuracy: 1.0\n"
     ]
    }
   ],
   "source": [
    "loss_arr4_c=[]\n",
    "epoch_4_c=100\n",
    "mb_4_c=50\n",
    "lr_4_c=1e-1\n",
    "loss_arr4_c,acc_4_c=train_model(x_ds,y_ds,epoch_4_c,mb_4_c,lr_4_c)\n",
    "print('Accuracy: %s' % str(acc_4_c))"
   ]
  },
  {
   "cell_type": "code",
   "execution_count": 29,
   "metadata": {},
   "outputs": [],
   "source": [
    "accuracy_arr=[acc_4,acc_4_b,acc_4_c]\n",
    "minibatch_arr=[mb_4,mb_4_b,mb_4_c]\n",
    "epoch_arr=[epoch_4,epoch_4_b,epoch_4_c]\n",
    "learningrate_arr=[lr_4,lr_4_b,lr_4_c]\n",
    "loss_arr=[loss_arr4,loss_arr4_b,loss_arr4_c]"
   ]
  },
  {
   "cell_type": "code",
   "execution_count": 30,
   "metadata": {},
   "outputs": [
    {
     "data": {
      "image/png": "[encoded data removed]",
      "text/plain": [
       "<Figure size 720x432 with 3 Axes>"
      ]
     },
     "metadata": {
      "needs_background": "light"
     },
     "output_type": "display_data"
    }
   ],
   "source": [
    "show_graphs(minibatch_arr,epoch_arr,learningrate_arr,loss_arr)"
   ]
  },
  {
   "cell_type": "code",
   "execution_count": 31,
   "metadata": {},
   "outputs": [
    {
     "data": {
      "image/png": "[encoded data removed]",
      "text/plain": [
       "<Figure size 1080x360 with 2 Axes>"
      ]
     },
     "metadata": {
      "needs_background": "light"
     },
     "output_type": "display_data"
    }
   ],
   "source": [
    "fig, ax = plt.subplots(1,2,figsize=(15, 5))\n",
    "# plt.xlabel('Epoch')\n",
    "ax[1].plot(learningrate_arr, accuracy_arr, markevery=1)\n",
    "ax[1].set_xlabel('Learning Rate')\n",
    "ax[1].set_ylabel('Accuracy')\n",
    "ax[1].set_title('Accuracy with different Learning Rate and Mini-batch size: 50')\n",
    "ax[1].grid(True)\n",
    "ax[0].plot(range(epoch_4_c), loss_arr4_c, label='Learning Rate: %s' % str(lr_4))\n",
    "ax[0].plot(range(epoch_4_b), loss_arr4_b, label='Learning Rate: %s' % str(lr_4_b))\n",
    "ax[0].plot(range(epoch_4), loss_arr4, label='Learning Rate: %s' % str(lr_4_c))\n",
    "ax[0].legend()\n",
    "ax[0].set_xlabel('Epoch')\n",
    "ax[0].set_ylabel('Loss')\n",
    "ax[0].set_title('Total Loss per Epoch - Comparative Graph')\n",
    "plt.show()"
   ]
  },
  {
   "cell_type": "markdown",
   "metadata": {},
   "source": [
    "### We get a better accuracy if we choose a  lower learning rate. "
   ]
  },
  {
   "cell_type": "markdown",
   "metadata": {},
   "source": [
    "### The best parameters to train the model are Mini-batch size: 50 and Learning Rate: 0.1"
   ]
  },
  {
   "cell_type": "markdown",
   "metadata": {},
   "source": [
    "## Training the model:"
   ]
  },
  {
   "cell_type": "code",
   "execution_count": 32,
   "metadata": {},
   "outputs": [],
   "source": [
    "def train_model_NN(x_ds,y_ds,epochs,minibatch,learningrate):\n",
    "    x = x_ds\n",
    "    print('x.shape = ', x.shape)\n",
    "    y = y_ds\n",
    "    y=onehot(y,10)\n",
    "    print('y.shape = ', y.shape)\n",
    "\n",
    "    # input_dim, output_dim,hidden_dims,n_hidden=2,mode=',train',\n",
    "    # datapath=None,model_path=None\n",
    "\n",
    "    NN_mbatch_1= NN(784, 10, hidden_dims=(500,300),initialization='glorot')\n",
    "    loss_arr=[]\n",
    "    loss_mbatch_1=0\n",
    "    for epoch in range (epochs): \n",
    "        #x, y_onehot, mb_size=100, learning_rate=1e-1, weight_decay=0\n",
    "        loss_mbatch_1=NN_mbatch_1.train_mbatch(x, y, mb_size=minibatch,learning_rate=learningrate)\n",
    "        print('epoch ', epoch, ' loss ', loss_mbatch_1)\n",
    "        loss_arr.append(loss_mbatch_1)\n",
    "    y_pred=NN_mbatch_1.prediction_mbatch(x_ds)\n",
    "    accuracy=NN_mbatch_1.accuracy_mbatch(y_pred,y_ds)\n",
    "    print('epoch ', epoch, ' loss ', loss_mbatch_1)\n",
    "    return loss_arr,accuracy,NN_mbatch_1"
   ]
  },
  {
   "cell_type": "markdown",
   "metadata": {},
   "source": [
    "### Training the model with Mini-batch size=50, Epoch=100 and Learning rate=0.1"
   ]
  },
  {
   "cell_type": "code",
   "execution_count": 33,
   "metadata": {},
   "outputs": [],
   "source": [
    "x_ds=x_train\n",
    "y_ds=y_train"
   ]
  },
  {
   "cell_type": "code",
   "execution_count": null,
   "metadata": {},
   "outputs": [
    {
     "name": "stdout",
     "output_type": "stream",
     "text": [
      "x.shape =  (55000, 784)\n",
      "y.shape =  (55000, 10)\n",
      "epoch  0  loss  0.2160939699444879\n",
      "epoch  1  loss  0.1720964869230322\n",
      "epoch  2  loss  0.1408119802745494\n",
      "epoch  3  loss  0.10705259888378943\n",
      "epoch  4  loss  0.08709251474404026\n",
      "epoch  5  loss  0.07940373437630607\n",
      "epoch  6  loss  0.06885270674545374\n",
      "epoch  7  loss  0.06416928633576738\n",
      "epoch  8  loss  0.05220531610466081\n",
      "epoch  9  loss  0.039904894685150134\n",
      "epoch  10  loss  0.021938202589409008\n",
      "epoch  11  loss  0.016056163582722712\n",
      "epoch  12  loss  0.012799389322055632\n",
      "epoch  13  loss  0.010001368174329768\n",
      "epoch  14  loss  0.008448378920980493\n",
      "epoch  15  loss  0.006994438078112773\n",
      "epoch  16  loss  0.006002765526010857\n",
      "epoch  17  loss  0.005001926063811263\n",
      "epoch  18  loss  0.004338275405566709\n",
      "epoch  19  loss  0.003876175294990246\n",
      "epoch  20  loss  0.0033677939849346638\n",
      "epoch  21  loss  0.0030105282029821018\n",
      "epoch  22  loss  0.002739930454640868\n",
      "epoch  23  loss  0.002508492267972823\n",
      "epoch  24  loss  0.002322078738103407\n",
      "epoch  25  loss  0.0021118593461206224\n",
      "epoch  26  loss  0.0019531143294501958\n",
      "epoch  27  loss  0.0018034398045985035\n",
      "epoch  28  loss  0.0016955382585811577\n",
      "epoch  29  loss  0.001561413333511706\n"
     ]
    }
   ],
   "source": [
    "loss_arr=[]\n",
    "epoch=100\n",
    "mb=50\n",
    "lr=1e-1\n",
    "loss_arr,acc,nn_model=train_model_NN(x_ds,y_ds,epoch,mb,lr)\n",
    "print('Accuracy: %s' % str(acc))"
   ]
  },
  {
   "cell_type": "markdown",
   "metadata": {},
   "source": [
    "### The accuracy obtained by the model with the training set is "
   ]
  },
  {
   "cell_type": "markdown",
   "metadata": {},
   "source": [
    "### The accuracy obtained by the model with the testing set is"
   ]
  },
  {
   "cell_type": "code",
   "execution_count": null,
   "metadata": {},
   "outputs": [],
   "source": [
    "y_pred=nn_model.prediction_mbatch(x_test)\n",
    "accuracy=nn_model.accuracy_mbatch(y_pred,y_test)\n",
    "print('Accuracy: ', accuracy)"
   ]
  },
  {
   "cell_type": "code",
   "execution_count": null,
   "metadata": {},
   "outputs": [],
   "source": []
  }
 ],
 "metadata": {
  "kernelspec": {
   "display_name": "Python 3",
   "language": "python",
   "name": "python3"
  },
  "language_info": {
   "codemirror_mode": {
    "name": "ipython",
    "version": 3
   },
   "file_extension": ".py",
   "mimetype": "text/x-python",
   "name": "python",
   "nbconvert_exporter": "python",
   "pygments_lexer": "ipython3",
   "version": "3.7.0"
  }
 },
 "nbformat": 4,
 "nbformat_minor": 2
}

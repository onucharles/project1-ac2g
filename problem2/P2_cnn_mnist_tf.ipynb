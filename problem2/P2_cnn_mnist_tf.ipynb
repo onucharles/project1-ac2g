{
 "cells": [
  {
   "cell_type": "markdown",
   "metadata": {
    "colab_type": "text",
    "id": "Tce3stUlHN0L"
   },
   "source": [
    "##### Copyright 2018 The TensorFlow Authors.\n",
    "\n"
   ]
  },
  {
   "cell_type": "code",
   "execution_count": 0,
   "metadata": {
    "colab": {},
    "colab_type": "code",
    "id": "tuOe1ymfHZPu"
   },
   "outputs": [],
   "source": [
    "#@title Licensed under the Apache License, Version 2.0 (the \"License\");\n",
    "# you may not use this file except in compliance with the License.\n",
    "# You may obtain a copy of the License at\n",
    "#\n",
    "# https://www.apache.org/licenses/LICENSE-2.0\n",
    "#\n",
    "# Unless required by applicable law or agreed to in writing, software\n",
    "# distributed under the License is distributed on an \"AS IS\" BASIS,\n",
    "# WITHOUT WARRANTIES OR CONDITIONS OF ANY KIND, either express or implied.\n",
    "# See the License for the specific language governing permissions and\n",
    "# limitations under the License."
   ]
  },
  {
   "cell_type": "markdown",
   "metadata": {
    "colab_type": "text",
    "id": "MfBg1C5NB3X0"
   },
   "source": [
    "# Build a Convolutional Neural Network using Estimators\n",
    "\n",
    "<table class=\"tfo-notebook-buttons\" align=\"left\">\n",
    "  <td>\n",
    "    <a target=\"_blank\" href=\"https://www.tensorflow.org/tutorials/estimators/cnn\"><img src=\"https://www.tensorflow.org/images/tf_logo_32px.png\" />View on TensorFlow.org</a>\n",
    "  </td>\n",
    "  <td>\n",
    "    <a target=\"_blank\" href=\"https://colab.research.google.com/github/tensorflow/docs/blob/master/site/en/tutorials/estimators/cnn.ipynb\"><img src=\"https://www.tensorflow.org/images/colab_logo_32px.png\" />Run in Google Colab</a>\n",
    "  </td>\n",
    "  <td>\n",
    "    <a target=\"_blank\" href=\"https://github.com/tensorflow/docs/blob/master/site/en/tutorials/estimators/cnn.ipynb\"><img src=\"https://www.tensorflow.org/images/GitHub-Mark-32px.png\" />View source on GitHub</a>\n",
    "  </td>\n",
    "</table>"
   ]
  },
  {
   "cell_type": "markdown",
   "metadata": {
    "colab_type": "text",
    "id": "xHxb-dlhMIzW"
   },
   "source": [
    "The `tf.layers` module provides a high-level API that makes\n",
    "it easy to construct a neural network. It provides methods that facilitate the\n",
    "creation of dense (fully connected) layers and convolutional layers, adding\n",
    "activation functions, and applying dropout regularization. In this tutorial,\n",
    "you'll learn how to use `layers` to build a convolutional neural network model\n",
    "to recognize the handwritten digits in the MNIST data set.\n",
    "\n",
    "![handwritten digits 0–9 from the MNIST data set](https://www.tensorflow.org/images/mnist_0-9.png)\n",
    "\n",
    "The [MNIST dataset](http://yann.lecun.com/exdb/mnist/) comprises 60,000\n",
    "training examples and 10,000 test examples of the handwritten digits 0–9,\n",
    "formatted as 28x28-pixel monochrome images."
   ]
  },
  {
   "cell_type": "markdown",
   "metadata": {
    "colab_type": "text",
    "id": "wTe-6uXpP2Ts"
   },
   "source": [
    "## Get Started\n",
    "\n",
    "Let's set up the imports for our TensorFlow program:"
   ]
  },
  {
   "cell_type": "code",
   "execution_count": 1,
   "metadata": {
    "colab": {},
    "colab_type": "code",
    "id": "6-tpguHLP6Rm"
   },
   "outputs": [
    {
     "name": "stderr",
     "output_type": "stream",
     "text": [
      "C:\\Users\\charl\\Anaconda3\\lib\\site-packages\\h5py\\__init__.py:36: FutureWarning: Conversion of the second argument of issubdtype from `float` to `np.floating` is deprecated. In future, it will be treated as `np.float64 == np.dtype(float).type`.\n",
      "  from ._conv import register_converters as _register_converters\n"
     ]
    }
   ],
   "source": [
    "from __future__ import absolute_import, division, print_function\n",
    "\n",
    "import tensorflow as tf\n",
    "import numpy as np\n",
    "\n",
    "tf.logging.set_verbosity(tf.logging.INFO)"
   ]
  },
  {
   "cell_type": "markdown",
   "metadata": {
    "colab_type": "text",
    "id": "bUxWLCdTQexM"
   },
   "source": [
    "As you work through the tutorial, you'll add code to construct, train, and\n",
    "evaluate the convolutional neural network. The complete, final code can be\n",
    "[found here](https://www.tensorflow.org/code/tensorflow/examples/tutorials/layers/cnn_mnist.py)."
   ]
  },
  {
   "cell_type": "markdown",
   "metadata": {
    "colab_type": "text",
    "id": "4j5yyyDFQgSB"
   },
   "source": [
    "## Intro to Convolutional Neural Networks\n",
    "\n",
    "Convolutional neural networks (CNNs) are the current state-of-the-art model\n",
    "architecture for image classification tasks. CNNs apply a series of filters to\n",
    "the raw pixel data of an image to extract and learn higher-level features, which\n",
    "the model can then use for classification. CNNs contains three components:\n",
    "\n",
    "*   **Convolutional layers**, which apply a specified number of convolution\n",
    "    filters to the image. For each subregion, the layer performs a set of\n",
    "    mathematical operations to produce a single value in the output feature map.\n",
    "    Convolutional layers then typically apply a\n",
    "    [ReLU activation function](https://en.wikipedia.org/wiki/Rectifier_\\(neural_networks\\)) to\n",
    "    the output to introduce nonlinearities into the model.\n",
    "\n",
    "*   **Pooling layers**, which\n",
    "    [downsample the image data](https://en.wikipedia.org/wiki/Convolutional_neural_network#Pooling_layer)\n",
    "    extracted by the convolutional layers to reduce the dimensionality of the\n",
    "    feature map in order to decrease processing time. A commonly used pooling\n",
    "    algorithm is max pooling, which extracts subregions of the feature map\n",
    "    (e.g., 2x2-pixel tiles), keeps their maximum value, and discards all other\n",
    "    values.\n",
    "\n",
    "*   **Dense (fully connected) layers**, which perform classification on the\n",
    "    features extracted by the convolutional layers and downsampled by the\n",
    "    pooling layers. In a dense layer, every node in the layer is connected to\n",
    "    every node in the preceding layer.\n",
    "\n",
    "Typically, a CNN is composed of a stack of convolutional modules that perform\n",
    "feature extraction. Each module consists of a convolutional layer followed by a\n",
    "pooling layer. The last convolutional module is followed by one or more dense\n",
    "layers that perform classification. The final dense layer in a CNN contains a\n",
    "single node for each target class in the model (all the possible classes the\n",
    "model may predict), with a\n",
    "[softmax](https://en.wikipedia.org/wiki/Softmax_function) activation function to\n",
    "generate a value between 0–1 for each node (the sum of all these softmax values\n",
    "is equal to 1). We can interpret the softmax values for a given image as\n",
    "relative measurements of how likely it is that the image falls into each target\n",
    "class.\n",
    "\n",
    "Note: For a more comprehensive walkthrough of CNN architecture, see Stanford University's [Convolutional Neural Networks for Visual Recognition course material](https://cs231n.github.io/convolutional-networks/)."
   ]
  },
  {
   "cell_type": "markdown",
   "metadata": {
    "colab_type": "text",
    "id": "j23E_Z0FQvZB"
   },
   "source": [
    "## Building the CNN MNIST Classifier\n",
    "\n",
    "Let's build a model to classify the images in the MNIST dataset using the\n",
    "following CNN architecture:\n",
    "\n",
    "1.  **Convolutional Layer #1**: Applies 32 5x5 filters (extracting 5x5-pixel\n",
    "    subregions), with ReLU activation function\n",
    "2.  **Pooling Layer #1**: Performs max pooling with a 2x2 filter and stride of 2\n",
    "    (which specifies that pooled regions do not overlap)\n",
    "3.  **Convolutional Layer #2**: Applies 64 5x5 filters, with ReLU activation\n",
    "    function\n",
    "4.  **Pooling Layer #2**: Again, performs max pooling with a 2x2 filter and\n",
    "    stride of 2\n",
    "5.  **Dense Layer #1**: 1,024 neurons, with dropout regularization rate of 0.4\n",
    "    (probability of 0.4 that any given element will be dropped during training)\n",
    "6.  **Dense Layer #2 (Logits Layer)**: 10 neurons, one for each digit target\n",
    "    class (0–9).\n",
    "\n",
    "The `tf.layers` module contains methods to create each of the three layer types\n",
    "above:\n",
    "\n",
    "*   `conv2d()`. Constructs a two-dimensional convolutional layer. Takes number\n",
    "    of filters, filter kernel size, padding, and activation function as\n",
    "    arguments.\n",
    "*   `max_pooling2d()`. Constructs a two-dimensional pooling layer using the\n",
    "    max-pooling algorithm. Takes pooling filter size and stride as arguments.\n",
    "*   `dense()`. Constructs a dense layer. Takes number of neurons and activation\n",
    "    function as arguments.\n",
    "\n",
    "Each of these methods accepts a tensor as input and returns a transformed tensor\n",
    "as output. This makes it easy to connect one layer to another: just take the\n",
    "output from one layer-creation method and supply it as input to another.\n",
    "\n",
    "Add the following `cnn_model_fn` function, which\n",
    "conforms to the interface expected by TensorFlow's Estimator API (more on this\n",
    "later in [Create the Estimator](#create-the-estimator)). This function takes\n",
    "MNIST feature data, labels, and mode (from\n",
    "`tf.estimator.ModeKeys`: `TRAIN`, `EVAL`, `PREDICT`) as arguments;\n",
    "configures the CNN; and returns predictions, loss, and a training operation:"
   ]
  },
  {
   "cell_type": "code",
   "execution_count": 2,
   "metadata": {
    "colab": {},
    "colab_type": "code",
    "id": "gMR-_3rkRKPa"
   },
   "outputs": [],
   "source": [
    "def cnn_model_fn(features, labels, mode):\n",
    "  \"\"\"Model function for CNN.\"\"\"\n",
    "  # Input Layer\n",
    "  input_layer = tf.reshape(features[\"x\"], [-1, 28, 28, 1])\n",
    "\n",
    "  # Convolutional Layer #1\n",
    "  conv1 = tf.layers.conv2d(\n",
    "      inputs=input_layer,\n",
    "      filters=32,\n",
    "      kernel_size=[5, 5],\n",
    "      padding=\"same\",\n",
    "      activation=tf.nn.relu)\n",
    "\n",
    "  # Pooling Layer #1\n",
    "  pool1 = tf.layers.max_pooling2d(inputs=conv1, pool_size=[2, 2], strides=2)\n",
    "\n",
    "  # Convolutional Layer #2 and Pooling Layer #2\n",
    "  conv2 = tf.layers.conv2d(\n",
    "      inputs=pool1,\n",
    "      filters=64,\n",
    "      kernel_size=[5, 5],\n",
    "      padding=\"same\",\n",
    "      activation=tf.nn.relu)\n",
    "  pool2 = tf.layers.max_pooling2d(inputs=conv2, pool_size=[2, 2], strides=2)\n",
    "\n",
    "  # Dense Layer\n",
    "  pool2_flat = tf.reshape(pool2, [-1, 7 * 7 * 64])\n",
    "  dense = tf.layers.dense(inputs=pool2_flat, units=1024, activation=tf.nn.relu)\n",
    "  dropout = tf.layers.dropout(\n",
    "      inputs=dense, rate=0.4, training=mode == tf.estimator.ModeKeys.TRAIN)\n",
    "\n",
    "  # Logits Layer\n",
    "  logits = tf.layers.dense(inputs=dropout, units=10)\n",
    "\n",
    "  predictions = {\n",
    "      # Generate predictions (for PREDICT and EVAL mode)\n",
    "      \"classes\": tf.argmax(input=logits, axis=1),\n",
    "      # Add `softmax_tensor` to the graph. It is used for PREDICT and by the\n",
    "      # `logging_hook`.\n",
    "      \"probabilities\": tf.nn.softmax(logits, name=\"softmax_tensor\")\n",
    "  }\n",
    "\n",
    "  if mode == tf.estimator.ModeKeys.PREDICT:\n",
    "    return tf.estimator.EstimatorSpec(mode=mode, predictions=predictions)\n",
    "\n",
    "  # Calculate Loss (for both TRAIN and EVAL modes)\n",
    "  loss = tf.losses.sparse_softmax_cross_entropy(labels=labels, logits=logits)\n",
    "\n",
    "  # Configure the Training Op (for TRAIN mode)\n",
    "  if mode == tf.estimator.ModeKeys.TRAIN:\n",
    "    optimizer = tf.train.GradientDescentOptimizer(learning_rate=0.001)\n",
    "    train_op = optimizer.minimize(\n",
    "        loss=loss,\n",
    "        global_step=tf.train.get_global_step())\n",
    "    return tf.estimator.EstimatorSpec(mode=mode, loss=loss, train_op=train_op)\n",
    "\n",
    "  # Add evaluation metrics (for EVAL mode)\n",
    "  eval_metric_ops = {\n",
    "      \"accuracy\": tf.metrics.accuracy(\n",
    "          labels=labels, predictions=predictions[\"classes\"])\n",
    "  }\n",
    "  return tf.estimator.EstimatorSpec(\n",
    "      mode=mode, loss=loss, eval_metric_ops=eval_metric_ops)"
   ]
  },
  {
   "cell_type": "markdown",
   "metadata": {
    "colab_type": "text",
    "id": "b7z8qC9FRSLB"
   },
   "source": [
    "The following sections (with headings corresponding to each code block above)\n",
    "dive deeper into the `tf.layers` code used to create each layer, as well as how\n",
    "to calculate loss, configure the training op, and generate predictions. If\n",
    "you're already experienced with CNNs and [TensorFlow `Estimator`s](../../guide/custom_estimators.md),\n",
    "and find the above code intuitive, you may want to skim these sections or just\n",
    "skip ahead to [\"Training and Evaluating the CNN MNIST Classifier\"](#train_eval_mnist)."
   ]
  },
  {
   "cell_type": "markdown",
   "metadata": {
    "colab_type": "text",
    "id": "sFBXEYRlRUWu"
   },
   "source": [
    "### Input Layer\n",
    "\n",
    "The methods in the `layers` module for creating convolutional and pooling layers\n",
    "for two-dimensional image data expect input tensors to have a shape of\n",
    "<code>[<em>batch_size</em>, <em>image_height</em>, <em>image_width</em>,\n",
    "<em>channels</em>]</code> by default. This behavior can be changed using the\n",
    "<code><em>data_format</em></code> parameter; defined as follows:\n",
    "\n",
    "*   `batch_size` —Size of the subset of examples to use when performing\n",
    "    gradient descent during training.\n",
    "*   `image_height` —Height of the example images.\n",
    "*   `image_width` —Width of the example images.\n",
    "*   `channels` —Number of color channels in the example images. For color\n",
    "    images, the number of channels is 3 (red, green, blue). For monochrome\n",
    "    images, there is just 1 channel (black).\n",
    "*   `data_format` —A string, one of `channels_last` (default) or `channels_first`.\n",
    "      `channels_last` corresponds to inputs with shape\n",
    "      `(batch, ..., channels)` while `channels_first` corresponds to\n",
    "      inputs with shape `(batch, channels, ...)`.\n",
    "\n",
    "Here, our MNIST dataset is composed of monochrome 28x28 pixel images, so the\n",
    "desired shape for our input layer is <code>[<em>batch_size</em>, 28, 28,\n",
    "1]</code>.\n",
    "\n",
    "To convert our input feature map (`features`) to this shape, we can perform the\n",
    "following `reshape` operation:\n",
    "\n",
    "```\n",
    "input_layer = tf.reshape(features[\"x\"], [-1, 28, 28, 1])\n",
    "```\n",
    "\n",
    "Note that we've indicated `-1` for batch size, which specifies that this\n",
    "dimension should be dynamically computed based on the number of input values in\n",
    "`features[\"x\"]`, holding the size of all other dimensions constant. This allows\n",
    "us to treat `batch_size` as a hyperparameter that we can tune. For example, if\n",
    "we feed examples into our model in batches of 5, `features[\"x\"]` will contain\n",
    "3,920 values (one value for each pixel in each image), and `input_layer` will\n",
    "have a shape of `[5, 28, 28, 1]`. Similarly, if we feed examples in batches of\n",
    "100, `features[\"x\"]` will contain 78,400 values, and `input_layer` will have a\n",
    "shape of `[100, 28, 28, 1]`."
   ]
  },
  {
   "cell_type": "markdown",
   "metadata": {
    "colab_type": "text",
    "id": "iU8Jr1_JRiKA"
   },
   "source": [
    "### Convolutional Layer #1\n",
    "\n",
    "In our first convolutional layer, we want to apply 32 5x5 filters to the input\n",
    "layer, with a ReLU activation function. We can use the `conv2d()` method in the\n",
    "`layers` module to create this layer as follows:\n",
    "\n",
    "```\n",
    "conv1 = tf.layers.conv2d(\n",
    "    inputs=input_layer,\n",
    "    filters=32,\n",
    "    kernel_size=[5, 5],\n",
    "    padding=\"same\",\n",
    "    activation=tf.nn.relu)\n",
    "```\n",
    "\n",
    "The `inputs` argument specifies our input tensor, which must have the shape\n",
    "<code>[<em>batch_size</em>, <em>image_height</em>, <em>image_width</em>,\n",
    "<em>channels</em>]</code>. Here, we're connecting our first convolutional layer\n",
    "to `input_layer`, which has the shape <code>[<em>batch_size</em>, 28, 28,\n",
    "1]</code>.\n",
    "\n",
    "Note: `conv2d()` will instead accept a shape of `[<em>batch_size</em>, <em>channels</em>, <em>image_height</em>, <em>image_width</em>]` when passed the argument `data_format=channels_first`.\n",
    "\n",
    "The `filters` argument specifies the number of filters to apply (here, 32), and\n",
    "`kernel_size` specifies the dimensions of the filters as `[<em>height</em>,\n",
    "<em>width</em>]</code> (here, <code>[5, 5]`).\n",
    "\n",
    "<p class=\"tip\"><b>TIP:</b> If filter height and width have the same value, you can instead specify a\n",
    "single integer for <code>kernel_size</code>—e.g., <code>kernel_size=5</code>.</p>\n",
    "\n",
    "The `padding` argument specifies one of two enumerated values\n",
    "(case-insensitive): `valid` (default value) or `same`. To specify that the\n",
    "output tensor should have the same height and width values as the input tensor,\n",
    "we set `padding=same` here, which instructs TensorFlow to add 0 values to the\n",
    "edges of the input tensor to preserve height and width of 28. (Without padding,\n",
    "a 5x5 convolution over a 28x28 tensor will produce a 24x24 tensor, as there are\n",
    "24x24 locations to extract a 5x5 tile from a 28x28 grid.)\n",
    "\n",
    "The `activation` argument specifies the activation function to apply to the\n",
    "output of the convolution. Here, we specify ReLU activation with\n",
    "`tf.nn.relu`.\n",
    "\n",
    "Our output tensor produced by `conv2d()` has a shape of\n",
    "<code>[<em>batch_size</em>, 28, 28, 32]</code>: the same height and width\n",
    "dimensions as the input, but now with 32 channels holding the output from each\n",
    "of the filters."
   ]
  },
  {
   "cell_type": "markdown",
   "metadata": {
    "colab_type": "text",
    "id": "8qzx1ZMFRqt_"
   },
   "source": [
    "### Pooling Layer #1\n",
    "\n",
    "Next, we connect our first pooling layer to the convolutional layer we just\n",
    "created. We can use the `max_pooling2d()` method in `layers` to construct a\n",
    "layer that performs max pooling with a 2x2 filter and stride of 2:\n",
    "\n",
    "```\n",
    "pool1 = tf.layers.max_pooling2d(inputs=conv1, pool_size=[2, 2], strides=2)\n",
    "```\n",
    "\n",
    "Again, `inputs` specifies the input tensor, with a shape of\n",
    "<code>[<em>batch_size</em>, <em>image_height</em>, <em>image_width</em>,\n",
    "<em>channels</em>]</code>. Here, our input tensor is `conv1`, the output from\n",
    "the first convolutional layer, which has a shape of <code>[<em>batch_size</em>,\n",
    "28, 28, 32]</code>.\n",
    "\n",
    "Note: As with <code>conv2d()</code>, <code>max_pooling2d()</code> will instead\n",
    "accept a shape of <code>[<em>batch_size</em>, <em>channels</em>, \n",
    "<em>image_height</em>, <em>image_width</em>]</code> when passed the argument\n",
    "<code>data_format=channels_first</code>.\n",
    "\n",
    "The `pool_size` argument specifies the size of the max pooling filter as\n",
    "<code>[<em>height</em>, <em>width</em>]</code> (here, `[2, 2]`). If both\n",
    "dimensions have the same value, you can instead specify a single integer (e.g.,\n",
    "`pool_size=2`).\n",
    "\n",
    "The `strides` argument specifies the size of the stride. Here, we set a stride\n",
    "of 2, which indicates that the subregions extracted by the filter should be\n",
    "separated by 2 pixels in both the height and width dimensions (for a 2x2 filter,\n",
    "this means that none of the regions extracted will overlap). If you want to set\n",
    "different stride values for height and width, you can instead specify a tuple or\n",
    "list (e.g., `stride=[3, 6]`).\n",
    "\n",
    "Our output tensor produced by `max_pooling2d()` (`pool1`) has a shape of\n",
    "<code>[<em>batch_size</em>, 14, 14, 32]</code>: the 2x2 filter reduces height and width by 50% each."
   ]
  },
  {
   "cell_type": "markdown",
   "metadata": {
    "colab_type": "text",
    "id": "xXej53NlRzFh"
   },
   "source": [
    "### Convolutional Layer #2 and Pooling Layer #2\n",
    "\n",
    "We can connect a second convolutional and pooling layer to our CNN using\n",
    "`conv2d()` and `max_pooling2d()` as before. For convolutional layer #2, we\n",
    "configure 64 5x5 filters with ReLU activation, and for pooling layer #2, we use\n",
    "the same specs as pooling layer #1 (a 2x2 max pooling filter with stride of 2):\n",
    "\n",
    "```\n",
    "conv2 = tf.layers.conv2d(\n",
    "    inputs=pool1,\n",
    "    filters=64,\n",
    "    kernel_size=[5, 5],\n",
    "    padding=\"same\",\n",
    "    activation=tf.nn.relu)\n",
    "\n",
    "pool2 = tf.layers.max_pooling2d(inputs=conv2, pool_size=[2, 2], strides=2)\n",
    "```\n",
    "\n",
    "Note that convolutional layer #2 takes the output tensor of our first pooling\n",
    "layer (`pool1`) as input, and produces the tensor `conv2` as output. `conv2`\n",
    "has a shape of <code>[<em>batch_size</em>, 14, 14, 64]</code>, the same height and width as `pool1` (due to `padding=\"same\"`), and 64 channels for the 64\n",
    "filters applied.\n",
    "\n",
    "Pooling layer #2 takes `conv2` as input, producing `pool2` as output. `pool2`\n",
    "has shape <code>[<em>batch_size</em>, 7, 7, 64]</code> (50% reduction of height and width from `conv2`)."
   ]
  },
  {
   "cell_type": "markdown",
   "metadata": {
    "colab_type": "text",
    "id": "jjmLqVP7R7z6"
   },
   "source": [
    "### Dense Layer\n",
    "\n",
    "Next, we want to add a dense layer (with 1,024 neurons and ReLU activation) to\n",
    "our CNN to perform classification on the features extracted by the\n",
    "convolution/pooling layers. Before we connect the layer, however, we'll flatten\n",
    "our feature map (`pool2`) to shape <code>[<em>batch_size</em>,\n",
    "<em>features</em>]</code>, so that our tensor has only two dimensions:\n",
    "\n",
    "```\n",
    "pool2_flat = tf.reshape(pool2, [-1, 7 * 7 * 64])\n",
    "```\n",
    "\n",
    "In the `reshape()` operation above, the `-1` signifies that the *`batch_size`*\n",
    "dimension will be dynamically calculated based on the number of examples in our\n",
    "input data. Each example has 7 (`pool2` height) * 7 (`pool2` width) * 64\n",
    "(`pool2` channels) features, so we want the `features` dimension to have a value\n",
    "of 7 * 7 * 64 (3136 in total). The output tensor, `pool2_flat`, has shape\n",
    "<code>[<em>batch_size</em>, 3136]</code>.\n",
    "\n",
    "Now, we can use the `dense()` method in `layers` to connect our dense layer as\n",
    "follows:\n",
    "\n",
    "```\n",
    "dense = tf.layers.dense(inputs=pool2_flat, units=1024, activation=tf.nn.relu)\n",
    "```\n",
    "\n",
    "The `inputs` argument specifies the input tensor: our flattened feature map,\n",
    "`pool2_flat`. The `units` argument specifies the number of neurons in the dense\n",
    "layer (1,024). The `activation` argument takes the activation function; again,\n",
    "we'll use `tf.nn.relu` to add ReLU activation.\n",
    "\n",
    "To help improve the results of our model, we also apply dropout regularization\n",
    "to our dense layer, using the `dropout` method in `layers`:\n",
    "\n",
    "```\n",
    "dropout = tf.layers.dropout(\n",
    "    inputs=dense, rate=0.4, training=mode == tf.estimator.ModeKeys.TRAIN)\n",
    "```\n",
    "\n",
    "Again, `inputs` specifies the input tensor, which is the output tensor from our\n",
    "dense layer (`dense`).\n",
    "\n",
    "The `rate` argument specifies the dropout rate; here, we use `0.4`, which means\n",
    "40% of the elements will be randomly dropped out during training.\n",
    "\n",
    "The `training` argument takes a boolean specifying whether or not the model is\n",
    "currently being run in training mode; dropout will only be performed if\n",
    "`training` is `True`. Here, we check if the `mode` passed to our model function\n",
    "`cnn_model_fn` is `TRAIN` mode.\n",
    "\n",
    "Our output tensor `dropout` has shape <code>[<em>batch_size</em>, 1024]</code>."
   ]
  },
  {
   "cell_type": "markdown",
   "metadata": {
    "colab_type": "text",
    "id": "rzUcwkCZSTF7"
   },
   "source": [
    "### Logits Layer\n",
    "\n",
    "The final layer in our neural network is the logits layer, which will return the\n",
    "raw values for our predictions. We create a dense layer with 10 neurons (one for\n",
    "each target class 0–9), with linear activation (the default):\n",
    "\n",
    "```\n",
    "logits = tf.layers.dense(inputs=dropout, units=10)\n",
    "```\n",
    "\n",
    "Our final output tensor of the CNN, `logits`, has shape `[batch_size, 10]`."
   ]
  },
  {
   "cell_type": "markdown",
   "metadata": {
    "colab_type": "text",
    "id": "y3uJ0V1KSakc"
   },
   "source": [
    "### Generate Predictions {#generate_predictions}\n",
    "\n",
    "The logits layer of our model returns our predictions as raw values in a\n",
    "<code>[<em>batch_size</em>, 10]</code>-dimensional tensor. Let's convert these\n",
    "raw values into two different formats that our model function can return:\n",
    "\n",
    "*   The **predicted class** for each example: a digit from 0–9.\n",
    "*   The **probabilities** for each possible target class for each example: the\n",
    "    probability that the example is a 0, is a 1, is a 2, etc.\n",
    "\n",
    "For a given example, our predicted class is the element in the corresponding row\n",
    "of the logits tensor with the highest raw value. We can find the index of this\n",
    "element using the `tf.argmax`\n",
    "function:\n",
    "\n",
    "```\n",
    "tf.argmax(input=logits, axis=1)\n",
    "```\n",
    "\n",
    "The `input` argument specifies the tensor from which to extract maximum\n",
    "values—here `logits`. The `axis` argument specifies the axis of the `input`\n",
    "tensor along which to find the greatest value. Here, we want to find the largest\n",
    "value along the dimension with index of 1, which corresponds to our predictions\n",
    "(recall that our logits tensor has shape <code>[<em>batch_size</em>,\n",
    "10]</code>).\n",
    "\n",
    "We can derive probabilities from our logits layer by applying softmax activation\n",
    "using `tf.nn.softmax`:\n",
    "\n",
    "```\n",
    "tf.nn.softmax(logits, name=\"softmax_tensor\")\n",
    "```\n",
    "\n",
    "Note: We use the `name` argument to explicitly name this operation `softmax_tensor`, so we can reference it later. (We'll set up logging for the softmax values in [\"Set Up a Logging Hook\"](#set-up-a-logging-hook)).\n",
    "\n",
    "We compile our predictions in a dict, and return an `EstimatorSpec` object:\n",
    "\n",
    "```\n",
    "predictions = {\n",
    "    \"classes\": tf.argmax(input=logits, axis=1),\n",
    "    \"probabilities\": tf.nn.softmax(logits, name=\"softmax_tensor\")\n",
    "}\n",
    "if mode == tf.estimator.ModeKeys.PREDICT:\n",
    "  return tf.estimator.EstimatorSpec(mode=mode, predictions=predictions)\n",
    "```"
   ]
  },
  {
   "cell_type": "markdown",
   "metadata": {
    "colab_type": "text",
    "id": "f2ks_tqSSucg"
   },
   "source": [
    "### Calculate Loss {#calculating-loss}\n",
    "\n",
    "For both training and evaluation, we need to define a\n",
    "[loss function](https://en.wikipedia.org/wiki/Loss_function)\n",
    "that measures how closely the model's predictions match the target classes. For\n",
    "multiclass classification problems like MNIST,\n",
    "[cross entropy](https://en.wikipedia.org/wiki/Cross_entropy) is typically used\n",
    "as the loss metric. The following code calculates cross entropy when the model\n",
    "runs in either `TRAIN` or `EVAL` mode:\n",
    "\n",
    "```\n",
    "loss = tf.losses.sparse_softmax_cross_entropy(labels=labels, logits=logits)\n",
    "```\n",
    "\n",
    "Let's take a closer look at what's happening above.\n",
    "\n",
    "Our `labels` tensor contains a list of prediction indices for our examples, e.g. `[1,\n",
    "9, ...]`. `logits` contains the linear outputs of our last layer. \n",
    "\n",
    "`tf.losses.sparse_softmax_cross_entropy`, calculates the softmax crossentropy\n",
    "(aka: categorical crossentropy, negative log-likelihood) from these two inputs\n",
    "in an efficient, numerically stable way."
   ]
  },
  {
   "cell_type": "markdown",
   "metadata": {
    "colab_type": "text",
    "id": "YgE7Ll3pS2FG"
   },
   "source": [
    "### Configure the Training Op\n",
    "\n",
    "In the previous section, we defined loss for our CNN as the softmax\n",
    "cross-entropy of the logits layer and our labels. Let's configure our model to\n",
    "optimize this loss value during training. We'll use a learning rate of 0.001 and\n",
    "[stochastic gradient descent](https://en.wikipedia.org/wiki/Stochastic_gradient_descent)\n",
    "as the optimization algorithm:\n",
    "\n",
    "```\n",
    "if mode == tf.estimator.ModeKeys.TRAIN:\n",
    "  optimizer = tf.train.GradientDescentOptimizer(learning_rate=0.001)\n",
    "  train_op = optimizer.minimize(\n",
    "      loss=loss,\n",
    "      global_step=tf.train.get_global_step())\n",
    "  return tf.estimator.EstimatorSpec(mode=mode, loss=loss, train_op=train_op)\n",
    "```"
   ]
  },
  {
   "cell_type": "markdown",
   "metadata": {
    "colab_type": "text",
    "id": "rEJPnXAzS6m9"
   },
   "source": [
    "Note: For a more in-depth look at configuring training ops for Estimator model functions, see [\"Defining the training op for the model\"](../../guide/custom_estimators.md#defining-the-training-op-for-the-model) in the [\"Creating Estimations in tf.estimator\"](../../guide/custom_estimators.md) tutorial."
   ]
  },
  {
   "cell_type": "markdown",
   "metadata": {
    "colab_type": "text",
    "id": "QQuGDWvHTAib"
   },
   "source": [
    "### Add evaluation metrics\n",
    "\n",
    "To add accuracy metric in our model, we define `eval_metric_ops` dict in EVAL\n",
    "mode as follows:\n",
    "\n",
    "```\n",
    "eval_metric_ops = {\n",
    "    \"accuracy\": tf.metrics.accuracy(\n",
    "        labels=labels, predictions=predictions[\"classes\"])\n",
    "}\n",
    "return tf.estimator.EstimatorSpec(\n",
    "    mode=mode, loss=loss, eval_metric_ops=eval_metric_ops)\n",
    "```"
   ]
  },
  {
   "cell_type": "markdown",
   "metadata": {
    "colab_type": "text",
    "id": "Y2Bwe-AdTRzX"
   },
   "source": [
    "<a id=\"train_eval_mnist\"></a>\n",
    "## Training and Evaluating the CNN MNIST Classifier\n",
    "\n",
    "We've coded our MNIST CNN model function; now we're ready to train and evaluate\n",
    "it."
   ]
  },
  {
   "cell_type": "markdown",
   "metadata": {
    "colab_type": "text",
    "id": "6EC9aOY2TTLU"
   },
   "source": [
    "### Load Training and Test Data\n",
    "\n",
    "First, let's load our training and test data with the following code:"
   ]
  },
  {
   "cell_type": "code",
   "execution_count": 3,
   "metadata": {
    "colab": {},
    "colab_type": "code",
    "id": "ccobb0qETV-S"
   },
   "outputs": [],
   "source": [
    "# Load training and eval data\n",
    "((train_data, train_labels),\n",
    " (eval_data, eval_labels)) = tf.keras.datasets.mnist.load_data()\n",
    "\n",
    "train_data = train_data/np.float32(255)\n",
    "train_labels = train_labels.astype(np.int32)  # not required\n",
    "\n",
    "eval_data = eval_data/np.float32(255)\n",
    "eval_labels = eval_labels.astype(np.int32)  # not required"
   ]
  },
  {
   "cell_type": "markdown",
   "metadata": {
    "colab_type": "text",
    "id": "8l84-IxSTZnO"
   },
   "source": [
    "We store the training feature data (the raw pixel values for 55,000 images of\n",
    "hand-drawn digits) and training labels (the corresponding value from 0–9 for\n",
    "each image) as [numpy\n",
    "arrays](https://docs.scipy.org/doc/numpy/reference/generated/numpy.array.html)\n",
    "in `train_data` and `train_labels`, respectively. Similarly, we store the\n",
    "evaluation feature data (10,000 images) and evaluation labels in `eval_data`\n",
    "and `eval_labels`, respectively."
   ]
  },
  {
   "cell_type": "markdown",
   "metadata": {
    "colab_type": "text",
    "id": "S2_Isc7kTa45"
   },
   "source": [
    "### Create the Estimator {#create-the-estimator}\n",
    "\n",
    "Next, let's create an `Estimator` (a TensorFlow class for performing high-level\n",
    "model training, evaluation, and inference) for our model. Add the following code\n",
    "to `main()`:"
   ]
  },
  {
   "cell_type": "code",
   "execution_count": 4,
   "metadata": {
    "colab": {},
    "colab_type": "code",
    "id": "yjC6HdwZTdg4"
   },
   "outputs": [
    {
     "name": "stdout",
     "output_type": "stream",
     "text": [
      "INFO:tensorflow:Using default config.\n",
      "INFO:tensorflow:Using config: {'_model_dir': '/tmp/mnist_convnet_model', '_tf_random_seed': None, '_save_summary_steps': 100, '_save_checkpoints_steps': None, '_save_checkpoints_secs': 600, '_session_config': allow_soft_placement: true\n",
      "graph_options {\n",
      "  rewrite_options {\n",
      "    meta_optimizer_iterations: ONE\n",
      "  }\n",
      "}\n",
      ", '_keep_checkpoint_max': 5, '_keep_checkpoint_every_n_hours': 10000, '_log_step_count_steps': 100, '_train_distribute': None, '_device_fn': None, '_protocol': None, '_eval_distribute': None, '_experimental_distribute': None, '_service': None, '_cluster_spec': <tensorflow.python.training.server_lib.ClusterSpec object at 0x000002131B5E56D8>, '_task_type': 'worker', '_task_id': 0, '_global_id_in_cluster': 0, '_master': '', '_evaluation_master': '', '_is_chief': True, '_num_ps_replicas': 0, '_num_worker_replicas': 1}\n"
     ]
    }
   ],
   "source": [
    "# Create the Estimator\n",
    "mnist_classifier = tf.estimator.Estimator(\n",
    "    model_fn=cnn_model_fn, model_dir=\"/tmp/mnist_convnet_model\")"
   ]
  },
  {
   "cell_type": "markdown",
   "metadata": {
    "colab_type": "text",
    "id": "f78EBcg7TfTU"
   },
   "source": [
    "The `model_fn` argument specifies the model function to use for training,\n",
    "evaluation, and prediction; we pass it the `cnn_model_fn` we created in\n",
    "[\"Building the CNN MNIST Classifier.\"](#building-the-cnn-mnist-classifier) The\n",
    "`model_dir` argument specifies the directory where model data (checkpoints) will\n",
    "be saved (here, we specify the temp directory `/tmp/mnist_convnet_model`, but\n",
    "feel free to change to another directory of your choice).\n",
    "\n",
    "Note: For an in-depth walkthrough of the TensorFlow `Estimator` API, see the tutorial [Creating Estimators in tf.estimator](../../guide/custom_estimators.md)."
   ]
  },
  {
   "cell_type": "markdown",
   "metadata": {
    "colab_type": "text",
    "id": "_6ow7hVYTm3f"
   },
   "source": [
    "### Set Up a Logging Hook {#set_up_a_logging_hook}\n",
    "\n",
    "Since CNNs can take a while to train, let's set up some logging so we can track\n",
    "progress during training. We can use TensorFlow's `tf.train.SessionRunHook` to create a\n",
    "`tf.train.LoggingTensorHook`\n",
    "that will log the probability values from the softmax layer of our CNN. Add the\n",
    "following to `main()`:"
   ]
  },
  {
   "cell_type": "code",
   "execution_count": 5,
   "metadata": {
    "colab": {},
    "colab_type": "code",
    "id": "S6T10kssTpdz"
   },
   "outputs": [],
   "source": [
    "# Set up logging for predictions\n",
    "tensors_to_log = {\"probabilities\": \"softmax_tensor\"}\n",
    "\n",
    "logging_hook = tf.train.LoggingTensorHook(\n",
    "    tensors=tensors_to_log, every_n_iter=50)"
   ]
  },
  {
   "cell_type": "markdown",
   "metadata": {
    "colab_type": "text",
    "id": "RZdtZ6JQTsmg"
   },
   "source": [
    "We store a dict of the tensors we want to log in `tensors_to_log`. Each key is a\n",
    "label of our choice that will be printed in the log output, and the\n",
    "corresponding label is the name of a `Tensor` in the TensorFlow graph. Here, our\n",
    "`probabilities` can be found in `softmax_tensor`, the name we gave our softmax\n",
    "operation earlier when we generated the probabilities in `cnn_model_fn`.\n",
    "\n",
    "Note: If you don't explicitly assign a name to an operation via the `name` argument, TensorFlow will assign a default name. A couple easy ways to discover the names applied to operations are to visualize your graph on [TensorBoard](../../guide/graph_viz.md)) or to enable the [TensorFlow Debugger (tfdbg)](../../guide/debugger.md).\n",
    "\n",
    "Next, we create the `LoggingTensorHook`, passing `tensors_to_log` to the\n",
    "`tensors` argument. We set `every_n_iter=50`, which specifies that probabilities\n",
    "should be logged after every 50 steps of training."
   ]
  },
  {
   "cell_type": "markdown",
   "metadata": {
    "colab_type": "text",
    "id": "brVs1dRMT0NM"
   },
   "source": [
    "### Train the Model\n",
    "\n",
    "Now we're ready to train our model, which we can do by creating `train_input_fn`\n",
    "and calling `train()` on `mnist_classifier`. In the `numpy_input_fn` call, we pass the training feature data and labels to\n",
    "`x` (as a dict) and `y`, respectively. We set a `batch_size` of `100` (which\n",
    "means that the model will train on minibatches of 100 examples at each step).\n",
    "`num_epochs=None` means that the model will train until the specified number of\n",
    "steps is reached. We also set `shuffle=True` to shuffle the training data. Then train the model a single step and log the output:"
   ]
  },
  {
   "cell_type": "code",
   "execution_count": 6,
   "metadata": {
    "colab": {},
    "colab_type": "code",
    "id": "h-dewpleT2sk"
   },
   "outputs": [
    {
     "name": "stdout",
     "output_type": "stream",
     "text": [
      "WARNING:tensorflow:From C:\\Users\\charl\\Anaconda3\\lib\\site-packages\\tensorflow\\python\\estimator\\inputs\\queues\\feeding_queue_runner.py:62: QueueRunner.__init__ (from tensorflow.python.training.queue_runner_impl) is deprecated and will be removed in a future version.\n",
      "Instructions for updating:\n",
      "To construct input pipelines, use the `tf.data` module.\n",
      "WARNING:tensorflow:From C:\\Users\\charl\\Anaconda3\\lib\\site-packages\\tensorflow\\python\\estimator\\inputs\\queues\\feeding_functions.py:500: add_queue_runner (from tensorflow.python.training.queue_runner_impl) is deprecated and will be removed in a future version.\n",
      "Instructions for updating:\n",
      "To construct input pipelines, use the `tf.data` module.\n",
      "INFO:tensorflow:Calling model_fn.\n",
      "INFO:tensorflow:Done calling model_fn.\n",
      "INFO:tensorflow:Create CheckpointSaverHook.\n",
      "INFO:tensorflow:Graph was finalized.\n",
      "INFO:tensorflow:Restoring parameters from /tmp/mnist_convnet_model\\model.ckpt-1001\n",
      "INFO:tensorflow:Running local_init_op.\n",
      "INFO:tensorflow:Done running local_init_op.\n",
      "WARNING:tensorflow:From C:\\Users\\charl\\Anaconda3\\lib\\site-packages\\tensorflow\\python\\training\\monitored_session.py:804: start_queue_runners (from tensorflow.python.training.queue_runner_impl) is deprecated and will be removed in a future version.\n",
      "Instructions for updating:\n",
      "To construct input pipelines, use the `tf.data` module.\n",
      "INFO:tensorflow:Saving checkpoints for 1001 into /tmp/mnist_convnet_model\\model.ckpt.\n",
      "INFO:tensorflow:probabilities = [[0.12256862 0.09916882 0.10277598 0.13070855 0.09262454 0.08199356\n",
      "  0.08853521 0.1027784  0.10672373 0.07212256]\n",
      " [0.10581341 0.07000172 0.11543183 0.1529653  0.06221711 0.08588083\n",
      "  0.11593149 0.08905372 0.11613786 0.0865667 ]\n",
      " [0.07689191 0.0936817  0.15126523 0.1550073  0.05810828 0.07658862\n",
      "  0.10138696 0.10775379 0.09091181 0.0884045 ]\n",
      " [0.08122565 0.0682105  0.10057772 0.07797602 0.12094739 0.08625669\n",
      "  0.11782976 0.11869012 0.09695565 0.13133053]\n",
      " [0.06421749 0.140908   0.08532288 0.10397681 0.08416557 0.06964931\n",
      "  0.09055746 0.12743872 0.13212655 0.10163716]\n",
      " [0.23202382 0.03472583 0.09154733 0.07216793 0.10582453 0.10786757\n",
      "  0.14976963 0.06838045 0.07027336 0.06741954]\n",
      " [0.07319122 0.08709808 0.1011783  0.16373624 0.08647419 0.09269749\n",
      "  0.07549205 0.10221626 0.10803864 0.10987748]\n",
      " [0.08702388 0.10311672 0.08829788 0.15424727 0.06578069 0.09658656\n",
      "  0.10029422 0.08206001 0.12588638 0.09670651]\n",
      " [0.07783329 0.10450286 0.1376663  0.14624213 0.05435264 0.09851541\n",
      "  0.08185104 0.10440837 0.14249125 0.05213682]\n",
      " [0.10274463 0.08624797 0.07087265 0.10895726 0.09712949 0.10199995\n",
      "  0.13026294 0.08237563 0.10239011 0.11701933]\n",
      " [0.10606803 0.07698345 0.11792605 0.14563565 0.06270359 0.07712542\n",
      "  0.12020124 0.13820326 0.07320114 0.08195212]\n",
      " [0.16829823 0.03531624 0.08710345 0.12123574 0.06984792 0.09491865\n",
      "  0.14862762 0.08850813 0.10113605 0.08500795]\n",
      " [0.13924932 0.09213614 0.10513356 0.10780585 0.07925932 0.1025045\n",
      "  0.11408289 0.06822582 0.11653557 0.07506699]\n",
      " [0.09855878 0.09220171 0.09473156 0.08635846 0.10854083 0.07831895\n",
      "  0.10098191 0.12377241 0.10325792 0.11327747]\n",
      " [0.10121001 0.09111195 0.11477655 0.08129525 0.10666703 0.08359269\n",
      "  0.12019449 0.09086411 0.0900075  0.12028036]\n",
      " [0.1677831  0.06548346 0.12356687 0.0820301  0.08381058 0.08849144\n",
      "  0.15413997 0.05992556 0.09837449 0.07639435]\n",
      " [0.10809967 0.07539444 0.13623497 0.16562314 0.05898207 0.10018835\n",
      "  0.08045711 0.0983993  0.09918554 0.07743546]\n",
      " [0.28568697 0.04067842 0.07881741 0.06858874 0.05722762 0.0885085\n",
      "  0.16693263 0.07923745 0.07489812 0.0594242 ]\n",
      " [0.09194025 0.11729963 0.08982827 0.11510772 0.07308003 0.1016588\n",
      "  0.08984316 0.09019766 0.12676258 0.10428195]\n",
      " [0.10898304 0.07255928 0.09076042 0.08131482 0.1273807  0.0920352\n",
      "  0.1169752  0.11761143 0.08788015 0.10449986]\n",
      " [0.05490053 0.19045322 0.07592897 0.09963062 0.05473079 0.06270637\n",
      "  0.12589796 0.11440937 0.11955962 0.10178251]\n",
      " [0.09954607 0.07550163 0.0884527  0.10250042 0.08392207 0.10032652\n",
      "  0.12066262 0.10764796 0.09202774 0.12941223]\n",
      " [0.06098936 0.09435572 0.06778277 0.08598986 0.1045887  0.06670511\n",
      "  0.08893722 0.15881109 0.09625544 0.17558467]\n",
      " [0.21282804 0.04579357 0.13529721 0.11940989 0.0479961  0.0844639\n",
      "  0.13545634 0.06077531 0.1221822  0.03579733]\n",
      " [0.10207339 0.07295894 0.08323899 0.09373291 0.11940107 0.09687478\n",
      "  0.1081671  0.11164738 0.09882999 0.11307545]\n",
      " [0.06671895 0.17150496 0.10023673 0.128932   0.07635143 0.08027762\n",
      "  0.07211526 0.08865668 0.14810306 0.06710338]\n",
      " [0.05944411 0.1840943  0.07111575 0.09238651 0.08277519 0.08159843\n",
      "  0.09779879 0.11522648 0.11408981 0.10147064]\n",
      " [0.10744885 0.06841543 0.09346879 0.09638987 0.11146632 0.08741204\n",
      "  0.11494989 0.08974844 0.1100186  0.12068179]\n",
      " [0.10667603 0.10462762 0.13880073 0.09998865 0.07467309 0.08548605\n",
      "  0.09736903 0.11746476 0.10795732 0.06695671]\n",
      " [0.08453313 0.12666903 0.07921876 0.14031    0.07864755 0.0814647\n",
      "  0.10348728 0.10649549 0.10512836 0.09404564]\n",
      " [0.0999916  0.09649079 0.13184465 0.12169679 0.08198563 0.0937383\n",
      "  0.10308772 0.09659832 0.10391109 0.07065512]\n",
      " [0.09612003 0.07377673 0.07976422 0.11954787 0.08959004 0.09965439\n",
      "  0.11870702 0.09446705 0.13764392 0.09072874]\n",
      " [0.10253879 0.0742348  0.09785133 0.14869235 0.0724806  0.09236541\n",
      "  0.09815782 0.11998777 0.11207429 0.08161686]\n",
      " [0.13293295 0.04361899 0.08782165 0.13561462 0.10259429 0.11540613\n",
      "  0.08750439 0.09974982 0.09149833 0.10325881]\n",
      " [0.10376608 0.07018697 0.14850128 0.11992934 0.05111194 0.10359653\n",
      "  0.10753603 0.07954612 0.14141451 0.07441109]\n",
      " [0.08539636 0.14605764 0.09082264 0.10900205 0.09353556 0.0881525\n",
      "  0.10670315 0.10083344 0.09130027 0.08819631]\n",
      " [0.07579912 0.11981776 0.18260138 0.1282683  0.0596108  0.0853511\n",
      "  0.09359034 0.08475509 0.1125022  0.05770392]\n",
      " [0.1095029  0.07156361 0.11185178 0.14271158 0.07418175 0.0892227\n",
      "  0.10714227 0.08330578 0.11791886 0.09259879]\n",
      " [0.09243889 0.09809174 0.09924914 0.08707342 0.08574662 0.07104138\n",
      "  0.08580189 0.16867584 0.09639711 0.11548389]\n",
      " [0.09789329 0.09499677 0.10481141 0.12483893 0.0988667  0.07469904\n",
      "  0.11474895 0.05891195 0.13901655 0.09121644]\n",
      " [0.13537318 0.10283074 0.15565424 0.11420142 0.06879439 0.06409411\n",
      "  0.10417735 0.0367598  0.14870186 0.06941289]\n",
      " [0.06964542 0.1920455  0.09331597 0.10254105 0.07319375 0.08047673\n",
      "  0.07627664 0.11432297 0.12169892 0.07648305]\n",
      " [0.07449702 0.1053964  0.12500757 0.10787105 0.05937025 0.09815404\n",
      "  0.12210711 0.07506131 0.1539407  0.07859455]\n",
      " [0.11634248 0.07914867 0.11480317 0.1592632  0.04806562 0.08348083\n",
      "  0.07593731 0.13402808 0.09057965 0.09835103]\n",
      " [0.05560818 0.16434756 0.08950762 0.09652893 0.07393872 0.07189588\n",
      "  0.07004505 0.16489816 0.1381357  0.07509421]\n",
      " [0.15151837 0.0601625  0.07146747 0.08213171 0.11792107 0.07813041\n",
      "  0.10661048 0.12746973 0.08271193 0.12187634]\n",
      " [0.06902199 0.11237596 0.06676111 0.08878192 0.09653296 0.08952411\n",
      "  0.11150307 0.09710736 0.11569162 0.15269977]\n",
      " [0.16583681 0.05884263 0.10582862 0.09502628 0.08797643 0.10732137\n",
      "  0.1129942  0.07519301 0.12926035 0.06172036]\n",
      " [0.06756914 0.17462489 0.06346283 0.10022613 0.08103789 0.0776105\n",
      "  0.0791061  0.14613247 0.10919956 0.10103045]\n",
      " [0.11278169 0.09101967 0.10020516 0.12335534 0.07693592 0.08508978\n",
      "  0.0948777  0.10360675 0.11948229 0.09264569]\n",
      " [0.08650182 0.10569343 0.14744858 0.12245063 0.05340496 0.06489004\n",
      "  0.12959072 0.06566465 0.1483936  0.07596153]\n",
      " [0.14563675 0.07138967 0.108229   0.12223122 0.07945257 0.0954669\n",
      "  0.09605923 0.10155866 0.10144417 0.07853181]\n",
      " [0.06482067 0.19889733 0.10712638 0.12225412 0.07244801 0.05024836\n",
      "  0.10149816 0.09338459 0.12569936 0.06362309]\n",
      " [0.08144797 0.08389623 0.10259278 0.13621968 0.1056559  0.10420429\n",
      "  0.09769674 0.12064188 0.08114131 0.0865033 ]\n",
      " [0.07477309 0.09366124 0.08447885 0.08201818 0.10351916 0.07736062\n",
      "  0.08680987 0.11177202 0.123432   0.16217497]\n",
      " [0.08863125 0.09090248 0.07228999 0.12213291 0.0751427  0.09124546\n",
      "  0.09155784 0.11500364 0.12390766 0.12918608]\n",
      " [0.09703127 0.08881333 0.06801634 0.09116342 0.0753687  0.09052764\n",
      "  0.09320962 0.14436963 0.12391445 0.12758553]\n",
      " [0.10443023 0.10446373 0.15298377 0.14676581 0.0714506  0.08168087\n",
      "  0.10791267 0.06008855 0.11237519 0.05784848]\n",
      " [0.06347417 0.14501296 0.08467067 0.10541398 0.0928532  0.09304475\n",
      "  0.09613485 0.0973416  0.11842468 0.10362916]\n",
      " [0.09429111 0.07238291 0.10403205 0.11199906 0.13345537 0.0810385\n",
      "  0.0967828  0.0785884  0.10056042 0.12686945]\n",
      " [0.11762792 0.07911357 0.12148315 0.09055361 0.09309959 0.10973829\n",
      "  0.10399399 0.08049244 0.12121829 0.08267925]\n",
      " [0.06083636 0.12096099 0.06003826 0.10333123 0.06791712 0.08641776\n",
      "  0.08073111 0.1622893  0.1276847  0.12979308]\n",
      " [0.0851357  0.0959451  0.10238545 0.08745784 0.10626691 0.10659737\n",
      "  0.11196812 0.08492883 0.10953638 0.1097783 ]\n",
      " [0.07655577 0.21217218 0.08836401 0.10728705 0.0550233  0.04919622\n",
      "  0.10081057 0.10064387 0.15216134 0.05778566]\n",
      " [0.08418933 0.06093438 0.09887932 0.07780715 0.1052207  0.09153991\n",
      "  0.1062021  0.13103129 0.08966    0.1545358 ]\n",
      " [0.11774734 0.06590942 0.08195012 0.0978189  0.07782511 0.1246424\n",
      "  0.10244689 0.11224682 0.12098207 0.09843089]\n",
      " [0.09188829 0.09826706 0.14072408 0.11526118 0.0692066  0.09244643\n",
      "  0.14279227 0.0720207  0.09515881 0.08223458]\n",
      " [0.10718746 0.08118036 0.09915236 0.08929531 0.09434004 0.09228462\n",
      "  0.15978312 0.08248564 0.11186805 0.08242305]\n",
      " [0.15366983 0.05683999 0.09036253 0.13791452 0.06671938 0.11825743\n",
      "  0.10133165 0.07250158 0.12991829 0.07248483]\n",
      " [0.07818916 0.08289462 0.0792395  0.06535472 0.08528487 0.08120451\n",
      "  0.11884043 0.17325018 0.10477372 0.13096833]\n",
      " [0.08308879 0.09443394 0.08293642 0.11104606 0.08977321 0.07484435\n",
      "  0.07042092 0.19074105 0.11004902 0.09266624]\n",
      " [0.09769383 0.08839159 0.09387108 0.09159923 0.11815058 0.09383268\n",
      "  0.0913217  0.10499083 0.10430304 0.11584537]\n",
      " [0.07680853 0.19095714 0.10056406 0.09390514 0.06466889 0.06168019\n",
      "  0.08898818 0.09704484 0.14014645 0.08523661]\n",
      " [0.11487895 0.07659899 0.07992693 0.11070552 0.06828402 0.10588878\n",
      "  0.16071962 0.06633455 0.13887751 0.07778522]\n",
      " [0.11246317 0.06735183 0.09156542 0.09940469 0.09633219 0.10182451\n",
      "  0.09890123 0.13288188 0.10120615 0.0980689 ]\n",
      " [0.20152529 0.04026869 0.07993493 0.09989522 0.06002842 0.11246122\n",
      "  0.1510651  0.07039218 0.11271507 0.07171386]\n",
      " [0.07259408 0.17400281 0.10072798 0.08840111 0.08071324 0.06203277\n",
      "  0.11262693 0.1066094  0.13013151 0.07216012]\n",
      " [0.07408289 0.1648555  0.11281046 0.08631561 0.05877587 0.06630448\n",
      "  0.10615554 0.09355725 0.17222145 0.06492101]\n",
      " [0.08596507 0.11233111 0.08415072 0.12098426 0.08355123 0.08461512\n",
      "  0.11326354 0.08656844 0.13545197 0.09311847]\n",
      " [0.13172069 0.05503412 0.09339088 0.07663938 0.13326895 0.07560062\n",
      "  0.14524588 0.096638   0.09503624 0.0974252 ]\n",
      " [0.08868737 0.06619084 0.14631644 0.167015   0.06168754 0.08087412\n",
      "  0.09640366 0.08511257 0.13524602 0.07246662]\n",
      " [0.06378129 0.12894729 0.09519275 0.11812302 0.07922678 0.07752993\n",
      "  0.10227906 0.10704252 0.1255794  0.10229785]\n",
      " [0.07371482 0.13628335 0.08697852 0.09967847 0.08777577 0.07662767\n",
      "  0.12195366 0.08634508 0.13182063 0.09882198]\n",
      " [0.09199255 0.09179822 0.07585034 0.09282745 0.08068941 0.08191539\n",
      "  0.1125157  0.11695572 0.1204535  0.13500173]\n",
      " [0.07174769 0.13422023 0.07867957 0.1144723  0.07590646 0.07706048\n",
      "  0.07412142 0.17598088 0.10460017 0.09321078]\n",
      " [0.20391294 0.05467646 0.10593119 0.10136934 0.05389008 0.1063737\n",
      "  0.12306152 0.05595623 0.10465848 0.09017018]\n",
      " [0.05844127 0.12274099 0.08620862 0.16371869 0.06773675 0.09046876\n",
      "  0.11570536 0.07945067 0.10323638 0.11229248]\n",
      " [0.10947759 0.09067637 0.13003343 0.09664347 0.08311939 0.07626031\n",
      "  0.09297616 0.08066832 0.12753972 0.11260525]\n",
      " [0.06553871 0.17017645 0.09141526 0.11156467 0.08120357 0.08216746\n",
      "  0.09230506 0.11021478 0.11862244 0.07679166]\n",
      " [0.07359023 0.16313392 0.09861021 0.1209977  0.0817689  0.08652021\n",
      "  0.08834565 0.1039331  0.11177056 0.07132945]\n",
      " [0.12798053 0.0929211  0.09624788 0.10683801 0.08551782 0.09754761\n",
      "  0.08917613 0.0761191  0.14754997 0.08010187]\n",
      " [0.06924593 0.1774307  0.07962477 0.09335323 0.09405038 0.07593598\n",
      "  0.12005364 0.08824098 0.10825274 0.09381165]\n",
      " [0.08472825 0.11018065 0.18913546 0.12816331 0.05601733 0.05142351\n",
      "  0.11377068 0.08029389 0.13184765 0.0544393 ]\n",
      " [0.0607742  0.13625331 0.08434476 0.10305139 0.07816632 0.07881103\n",
      "  0.08686119 0.14750738 0.14436114 0.07986929]\n",
      " [0.10370022 0.0822303  0.10513545 0.0956385  0.07934868 0.12627105\n",
      "  0.09677573 0.08197434 0.10343348 0.12549236]\n",
      " [0.06244664 0.08600324 0.08510264 0.10215466 0.09218787 0.06961497\n",
      "  0.15194929 0.1337017  0.10649361 0.11034535]\n",
      " [0.10912064 0.08197446 0.09286233 0.10314824 0.0927434  0.08101287\n",
      "  0.13549984 0.06331997 0.11940926 0.12090907]\n",
      " [0.06953796 0.13617685 0.09532854 0.11345696 0.08533426 0.09993161\n",
      "  0.09090554 0.09880809 0.12547204 0.08504812]\n",
      " [0.06730884 0.11656198 0.07175101 0.08209149 0.10684553 0.09790283\n",
      "  0.07832259 0.16360463 0.09203713 0.1235739 ]\n",
      " [0.165866   0.06270743 0.13970794 0.09455604 0.1109207  0.07943951\n",
      "  0.1274502  0.07515867 0.07000635 0.07418714]]\n"
     ]
    },
    {
     "name": "stdout",
     "output_type": "stream",
     "text": [
      "INFO:tensorflow:loss = 1.9638848, step = 1002\n",
      "INFO:tensorflow:Saving checkpoints for 1002 into /tmp/mnist_convnet_model\\model.ckpt.\n",
      "INFO:tensorflow:Loss for final step: 1.9638848.\n"
     ]
    },
    {
     "data": {
      "text/plain": [
       "<tensorflow.python.estimator.estimator.Estimator at 0x2131b5e5320>"
      ]
     },
     "execution_count": 6,
     "metadata": {},
     "output_type": "execute_result"
    }
   ],
   "source": [
    "# Train the model\n",
    "train_input_fn = tf.estimator.inputs.numpy_input_fn(\n",
    "    x={\"x\": train_data},\n",
    "    y=train_labels,\n",
    "    batch_size=100,\n",
    "    num_epochs=10,\n",
    "    shuffle=True)\n",
    "\n",
    "# train one step and display the probabilties\n",
    "mnist_classifier.train(\n",
    "    input_fn=train_input_fn,\n",
    "    steps=1,\n",
    "    hooks=[logging_hook])"
   ]
  },
  {
   "cell_type": "markdown",
   "metadata": {
    "colab_type": "text",
    "id": "gyNSE3e-14Lq"
   },
   "source": [
    "Now—without logging each step—set `steps=1000` to train the model longer, but in a reasonable time to run this example. Training CNNs is computationally intensive. To increase the accuracy of your model, increase the number of `steps` passed to `train()`, like 20,000 steps. "
   ]
  },
  {
   "cell_type": "code",
   "execution_count": 7,
   "metadata": {
    "colab": {},
    "colab_type": "code",
    "id": "cri6zqcf2IXY"
   },
   "outputs": [
    {
     "name": "stdout",
     "output_type": "stream",
     "text": [
      "INFO:tensorflow:Calling model_fn.\n",
      "INFO:tensorflow:Done calling model_fn.\n",
      "INFO:tensorflow:Create CheckpointSaverHook.\n",
      "INFO:tensorflow:Graph was finalized.\n",
      "INFO:tensorflow:Restoring parameters from /tmp/mnist_convnet_model\\model.ckpt-1002\n",
      "INFO:tensorflow:Running local_init_op.\n",
      "INFO:tensorflow:Done running local_init_op.\n",
      "INFO:tensorflow:Saving checkpoints for 1002 into /tmp/mnist_convnet_model\\model.ckpt.\n",
      "INFO:tensorflow:loss = 2.0075378, step = 1003\n",
      "INFO:tensorflow:global_step/sec: 6.67853\n",
      "INFO:tensorflow:loss = 1.8819776, step = 1103 (14.974 sec)\n",
      "INFO:tensorflow:global_step/sec: 6.83404\n",
      "INFO:tensorflow:loss = 1.8224742, step = 1203 (14.634 sec)\n",
      "INFO:tensorflow:global_step/sec: 7.08522\n",
      "INFO:tensorflow:loss = 1.5097225, step = 1303 (14.113 sec)\n",
      "INFO:tensorflow:global_step/sec: 6.5458\n",
      "INFO:tensorflow:loss = 1.4188496, step = 1403 (15.276 sec)\n",
      "INFO:tensorflow:global_step/sec: 6.32294\n",
      "INFO:tensorflow:loss = 1.3415151, step = 1503 (15.815 sec)\n",
      "INFO:tensorflow:global_step/sec: 6.87544\n",
      "INFO:tensorflow:loss = 1.1824914, step = 1603 (14.545 sec)\n",
      "INFO:tensorflow:global_step/sec: 6.46234\n",
      "INFO:tensorflow:loss = 1.1186739, step = 1703 (15.474 sec)\n",
      "INFO:tensorflow:global_step/sec: 6.58204\n",
      "INFO:tensorflow:loss = 0.89263064, step = 1803 (15.193 sec)\n",
      "INFO:tensorflow:global_step/sec: 6.88359\n",
      "INFO:tensorflow:loss = 0.7075639, step = 1903 (14.527 sec)\n",
      "INFO:tensorflow:Saving checkpoints for 2002 into /tmp/mnist_convnet_model\\model.ckpt.\n",
      "INFO:tensorflow:Loss for final step: 0.77399015.\n"
     ]
    },
    {
     "data": {
      "text/plain": [
       "<tensorflow.python.estimator.estimator.Estimator at 0x2131b5e5320>"
      ]
     },
     "execution_count": 7,
     "metadata": {},
     "output_type": "execute_result"
    }
   ],
   "source": [
    "mnist_classifier.train(input_fn=train_input_fn, steps=1000)"
   ]
  },
  {
   "cell_type": "markdown",
   "metadata": {
    "colab_type": "text",
    "id": "4bQdkLMeUE5U"
   },
   "source": [
    "### Evaluate the Model\n",
    "\n",
    "Once training is complete, we want to evaluate our model to determine its\n",
    "accuracy on the MNIST test set. We call the `evaluate` method, which evaluates\n",
    "the metrics we specified in `eval_metric_ops` argument in the `model_fn`.\n",
    "Add the following to `main()`:"
   ]
  },
  {
   "cell_type": "code",
   "execution_count": 8,
   "metadata": {
    "colab": {},
    "colab_type": "code",
    "id": "I0RGiqd0UF0N"
   },
   "outputs": [
    {
     "name": "stdout",
     "output_type": "stream",
     "text": [
      "INFO:tensorflow:Calling model_fn.\n",
      "INFO:tensorflow:Done calling model_fn.\n",
      "INFO:tensorflow:Starting evaluation at 2019-02-01-01:32:02\n",
      "INFO:tensorflow:Graph was finalized.\n",
      "INFO:tensorflow:Restoring parameters from /tmp/mnist_convnet_model\\model.ckpt-2002\n",
      "INFO:tensorflow:Running local_init_op.\n",
      "INFO:tensorflow:Done running local_init_op.\n",
      "INFO:tensorflow:Finished evaluation at 2019-02-01-01:32:45\n",
      "INFO:tensorflow:Saving dict for global step 2002: accuracy = 0.8403, global_step = 2002, loss = 0.6601369\n",
      "INFO:tensorflow:Saving 'checkpoint_path' summary for global step 2002: /tmp/mnist_convnet_model\\model.ckpt-2002\n",
      "{'accuracy': 0.8403, 'loss': 0.6601369, 'global_step': 2002}\n"
     ]
    }
   ],
   "source": [
    "eval_input_fn = tf.estimator.inputs.numpy_input_fn(\n",
    "    x={\"x\": eval_data},\n",
    "    y=eval_labels,\n",
    "    num_epochs=10,\n",
    "    shuffle=False)\n",
    "\n",
    "eval_results = mnist_classifier.evaluate(input_fn=eval_input_fn)\n",
    "print(eval_results)"
   ]
  },
  {
   "cell_type": "markdown",
   "metadata": {
    "colab_type": "text",
    "id": "JIBVID6dUIXT"
   },
   "source": [
    "To create `eval_input_fn`, we set `num_epochs=1`, so that the model evaluates\n",
    "the metrics over one epoch of data and returns the result. We also set\n",
    "`shuffle=False` to iterate through the data sequentially."
   ]
  },
  {
   "cell_type": "markdown",
   "metadata": {
    "colab_type": "text",
    "id": "htmLZ-zEUZZk"
   },
   "source": [
    "## Additional Resources\n",
    "\n",
    "To learn more about TensorFlow Estimators and CNNs in TensorFlow, see the\n",
    "following resources:\n",
    "\n",
    "*   [Creating Estimators in tf.estimator](../../guide/custom_estimators.md)\n",
    "    provides an introduction to the TensorFlow Estimator API. It walks through\n",
    "    configuring an Estimator, writing a model function, calculating loss, and\n",
    "    defining a training op.\n",
    "*   [Advanced Convolutional Neural Networks](../../tutorials/images/deep_cnn.md) walks through how to build a MNIST CNN classification model\n",
    "    *without estimators* using lower-level TensorFlow operations."
   ]
  }
 ],
 "metadata": {
  "colab": {
   "collapsed_sections": [
    "Tce3stUlHN0L"
   ],
   "name": "cnn.ipynb",
   "private_outputs": true,
   "provenance": [],
   "toc_visible": true,
   "version": "0.3.2"
  },
  "kernelspec": {
   "display_name": "Python 3",
   "language": "python",
   "name": "python3"
  },
  "language_info": {
   "codemirror_mode": {
    "name": "ipython",
    "version": 3
   },
   "file_extension": ".py",
   "mimetype": "text/x-python",
   "name": "python",
   "nbconvert_exporter": "python",
   "pygments_lexer": "ipython3",
   "version": "3.6.5"
  }
 },
 "nbformat": 4,
 "nbformat_minor": 1
}

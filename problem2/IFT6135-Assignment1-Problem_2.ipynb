{
 "cells": [
  {
   "cell_type": "markdown",
   "metadata": {},
   "source": [
    "## IFT6135: Assigment # 1\n",
    "\n",
    "#### By Amlin Charles, Georgina Jiménez, Alejandra Jiménez Nieto, and Charles C. Onu."
   ]
  },
  {
   "cell_type": "markdown",
   "metadata": {},
   "source": [
    "## Problem #2: Classifying MNIST handwritten digits with ConvNets"
   ]
  },
  {
   "cell_type": "markdown",
   "metadata": {},
   "source": [
    "In this exercise, we follow the tutorial reference provided by the TAs for the structure of our CNN model (https://github.com/MaximumEntropy/welcome_tutorials/tree/pytorch/pytorch). We also use the PyTorch Library to build and  train the model."
   ]
  },
  {
   "cell_type": "code",
   "execution_count": 29,
   "metadata": {},
   "outputs": [],
   "source": [
    "import time\n",
    "import numpy as np\n",
    "from __future__ import print_function"
   ]
  },
  {
   "cell_type": "code",
   "execution_count": 30,
   "metadata": {},
   "outputs": [],
   "source": [
    "import torch\n",
    "import torch.nn as nn\n",
    "import torch.optim as optim\n",
    "import torch.nn.init as init\n",
    "import torch.nn.functional as F"
   ]
  },
  {
   "cell_type": "code",
   "execution_count": 31,
   "metadata": {},
   "outputs": [],
   "source": [
    "import torchvision\n",
    "import torchvision.transforms"
   ]
  },
  {
   "cell_type": "code",
   "execution_count": 32,
   "metadata": {},
   "outputs": [],
   "source": [
    "import matplotlib.pyplot as plt"
   ]
  },
  {
   "cell_type": "markdown",
   "metadata": {},
   "source": [
    "#### Define image transformations &  Initialize datasets"
   ]
  },
  {
   "cell_type": "code",
   "execution_count": 33,
   "metadata": {},
   "outputs": [],
   "source": [
    "mnist_transforms = torchvision.transforms.Compose([torchvision.transforms.ToTensor()])\n",
    "mnist_train = torchvision.datasets.MNIST(root='./data', train=True, transform=mnist_transforms, download=True)\n",
    "mnist_test = torchvision.datasets.MNIST(root='./data', train=False, transform=mnist_transforms, download=True)"
   ]
  },
  {
   "cell_type": "markdown",
   "metadata": {},
   "source": [
    "#### Create multi-threaded DataLoaders"
   ]
  },
  {
   "cell_type": "code",
   "execution_count": 34,
   "metadata": {},
   "outputs": [],
   "source": [
    "train_loader = torch.utils.data.DataLoader(mnist_train, batch_size=500, shuffle=True, num_workers=2)\n",
    "test_loader = torch.utils.data.DataLoader(mnist_test, batch_size=100, shuffle=True, num_workers=2)"
   ]
  },
  {
   "cell_type": "markdown",
   "metadata": {},
   "source": [
    "#### Main classifier that subclasses nn.Module\n",
    "##### We have 4 Conv2D layers, each follow by Dropout, ReLU activation and pooling layers."
   ]
  },
  {
   "cell_type": "code",
   "execution_count": 37,
   "metadata": {},
   "outputs": [],
   "source": [
    "class Classifier(nn.Module):\n",
    "    \"\"\"Convnet Classifier for MLP-like structure\"\"\"\n",
    "    def __init__(self):\n",
    "        super(Classifier, self).__init__()\n",
    "        self.conv = nn.Sequential(\n",
    "            # Layer 1\n",
    "            nn.Conv2d(in_channels=1, out_channels=36, kernel_size=(3, 3), padding=1),\n",
    "            nn.Dropout(p=0.5),\n",
    "            nn.ReLU(),\n",
    "            nn.MaxPool2d(kernel_size=(2, 2), stride=2),\n",
    "            \n",
    "            # Layer 2\n",
    "            nn.Conv2d(in_channels=36, out_channels=72, kernel_size=(3, 3), padding=1),\n",
    "            nn.Dropout(p=0.5),\n",
    "            nn.ReLU(),\n",
    "            nn.MaxPool2d(kernel_size=(2, 2), stride=2),\n",
    "            \n",
    "            # Layer 3\n",
    "            nn.Conv2d(in_channels=72, out_channels=144, kernel_size=(3, 3), padding=1),\n",
    "            nn.Dropout(p=0.5),\n",
    "            nn.ReLU(),\n",
    "            nn.MaxPool2d(kernel_size=(2, 2), stride=2),\n",
    "            \n",
    "            # Layer 4\n",
    "            nn.Conv2d(in_channels=144, out_channels=288, kernel_size=(3, 3), padding=1),\n",
    "            nn.Dropout(p=0.5),\n",
    "            nn.ReLU(),\n",
    "            nn.MaxPool2d(kernel_size=(2, 2), stride=2)\n",
    "        )\n",
    "        # Logistic Regression\n",
    "        self.clf = nn.Linear(288, 10)\n",
    "\n",
    "    def forward(self, x):\n",
    "        return self.clf(self.conv(x).squeeze())\n"
   ]
  },
  {
   "cell_type": "markdown",
   "metadata": {},
   "source": [
    "##### Checking if we have a GPU available."
   ]
  },
  {
   "cell_type": "code",
   "execution_count": 39,
   "metadata": {},
   "outputs": [
    {
     "name": "stdout",
     "output_type": "stream",
     "text": [
      "True\n"
     ]
    }
   ],
   "source": [
    "cuda_available = torch.cuda.is_available()\n",
    "print(cuda_available)"
   ]
  },
  {
   "cell_type": "markdown",
   "metadata": {},
   "source": [
    "##### Defining our optimizer and the learning rate for the Gradient descent algorithm."
   ]
  },
  {
   "cell_type": "code",
   "execution_count": 47,
   "metadata": {},
   "outputs": [],
   "source": [
    "clf = Classifier()\n",
    "if cuda_available:\n",
    "    clf = clf.cuda()\n",
    "optimizer = torch.optim.Adam(clf.parameters(), lr=1e-4)\n",
    "criterion = nn.CrossEntropyLoss()\n",
    "# This criterion combines nn.LogSoftmax() and nn.NLLLoss() in one single class."
   ]
  },
  {
   "cell_type": "markdown",
   "metadata": {},
   "source": [
    "#### Training of the model (up to 50 epochs)"
   ]
  },
  {
   "cell_type": "code",
   "execution_count": 42,
   "metadata": {
    "scrolled": true
   },
   "outputs": [
    {
     "name": "stdout",
     "output_type": "stream",
     "text": [
      "Epoch: 1 --> Train Acc.: 50.000, Test Acc.: 80.000\n",
      "---------------------------------------------------\n",
      "Epoch: 2 --> Train Acc.: 83.000, Test Acc.: 91.000\n",
      "---------------------------------------------------\n",
      "Epoch: 3 --> Train Acc.: 89.000, Test Acc.: 93.000\n",
      "---------------------------------------------------\n",
      "Epoch: 4 --> Train Acc.: 92.000, Test Acc.: 95.000\n",
      "---------------------------------------------------\n",
      "Epoch: 5 --> Train Acc.: 93.000, Test Acc.: 95.000\n",
      "---------------------------------------------------\n",
      "Epoch: 6 --> Train Acc.: 94.000, Test Acc.: 96.000\n",
      "---------------------------------------------------\n",
      "Epoch: 7 --> Train Acc.: 94.000, Test Acc.: 96.000\n",
      "---------------------------------------------------\n",
      "Epoch: 8 --> Train Acc.: 95.000, Test Acc.: 97.000\n",
      "---------------------------------------------------\n",
      "Epoch: 9 --> Train Acc.: 95.000, Test Acc.: 97.000\n",
      "---------------------------------------------------\n",
      "Epoch: 10 --> Train Acc.: 95.000, Test Acc.: 97.000\n",
      "---------------------------------------------------\n",
      "Epoch: 11 --> Train Acc.: 96.000, Test Acc.: 97.000\n",
      "---------------------------------------------------\n",
      "Epoch: 12 --> Train Acc.: 96.000, Test Acc.: 98.000\n",
      "---------------------------------------------------\n",
      "Epoch: 13 --> Train Acc.: 96.000, Test Acc.: 98.000\n",
      "---------------------------------------------------\n",
      "Epoch: 14 --> Train Acc.: 96.000, Test Acc.: 98.000\n",
      "---------------------------------------------------\n",
      "Epoch: 15 --> Train Acc.: 96.000, Test Acc.: 98.000\n",
      "---------------------------------------------------\n",
      "Epoch: 16 --> Train Acc.: 97.000, Test Acc.: 98.000\n",
      "---------------------------------------------------\n",
      "Epoch: 17 --> Train Acc.: 97.000, Test Acc.: 98.000\n",
      "---------------------------------------------------\n",
      "Epoch: 18 --> Train Acc.: 97.000, Test Acc.: 98.000\n",
      "---------------------------------------------------\n",
      "Epoch: 19 --> Train Acc.: 97.000, Test Acc.: 98.000\n",
      "---------------------------------------------------\n",
      "Epoch: 20 --> Train Acc.: 97.000, Test Acc.: 98.000\n",
      "---------------------------------------------------\n",
      "Epoch: 21 --> Train Acc.: 97.000, Test Acc.: 98.000\n",
      "---------------------------------------------------\n",
      "Epoch: 22 --> Train Acc.: 97.000, Test Acc.: 98.000\n",
      "---------------------------------------------------\n",
      "Epoch: 23 --> Train Acc.: 97.000, Test Acc.: 98.000\n",
      "---------------------------------------------------\n",
      "Epoch: 24 --> Train Acc.: 97.000, Test Acc.: 98.000\n",
      "---------------------------------------------------\n",
      "Epoch: 25 --> Train Acc.: 97.000, Test Acc.: 98.000\n",
      "---------------------------------------------------\n",
      "Epoch: 26 --> Train Acc.: 97.000, Test Acc.: 98.000\n",
      "---------------------------------------------------\n",
      "Epoch: 27 --> Train Acc.: 97.000, Test Acc.: 98.000\n",
      "---------------------------------------------------\n",
      "Epoch: 28 --> Train Acc.: 98.000, Test Acc.: 98.000\n",
      "---------------------------------------------------\n",
      "Epoch: 29 --> Train Acc.: 98.000, Test Acc.: 98.000\n",
      "---------------------------------------------------\n",
      "Epoch: 30 --> Train Acc.: 98.000, Test Acc.: 99.000\n",
      "---------------------------------------------------\n",
      "Epoch: 31 --> Train Acc.: 98.000, Test Acc.: 99.000\n",
      "---------------------------------------------------\n",
      "Epoch: 32 --> Train Acc.: 98.000, Test Acc.: 98.000\n",
      "---------------------------------------------------\n",
      "Epoch: 33 --> Train Acc.: 98.000, Test Acc.: 99.000\n",
      "---------------------------------------------------\n",
      "Epoch: 34 --> Train Acc.: 98.000, Test Acc.: 99.000\n",
      "---------------------------------------------------\n",
      "Epoch: 35 --> Train Acc.: 98.000, Test Acc.: 99.000\n",
      "---------------------------------------------------\n",
      "Epoch: 36 --> Train Acc.: 98.000, Test Acc.: 99.000\n",
      "---------------------------------------------------\n",
      "Epoch: 37 --> Train Acc.: 98.000, Test Acc.: 98.000\n",
      "---------------------------------------------------\n",
      "Epoch: 38 --> Train Acc.: 98.000, Test Acc.: 99.000\n",
      "---------------------------------------------------\n",
      "Epoch: 39 --> Train Acc.: 98.000, Test Acc.: 99.000\n",
      "---------------------------------------------------\n",
      "Epoch: 40 --> Train Acc.: 98.000, Test Acc.: 99.000\n",
      "---------------------------------------------------\n",
      "Epoch: 41 --> Train Acc.: 98.000, Test Acc.: 99.000\n",
      "---------------------------------------------------\n",
      "Epoch: 42 --> Train Acc.: 98.000, Test Acc.: 99.000\n",
      "---------------------------------------------------\n",
      "Epoch: 43 --> Train Acc.: 98.000, Test Acc.: 99.000\n",
      "---------------------------------------------------\n",
      "Epoch: 44 --> Train Acc.: 98.000, Test Acc.: 99.000\n",
      "---------------------------------------------------\n",
      "Epoch: 45 --> Train Acc.: 98.000, Test Acc.: 99.000\n",
      "---------------------------------------------------\n",
      "Epoch: 46 --> Train Acc.: 98.000, Test Acc.: 99.000\n",
      "---------------------------------------------------\n",
      "Epoch: 47 --> Train Acc.: 98.000, Test Acc.: 99.000\n",
      "---------------------------------------------------\n",
      "Epoch: 48 --> Train Acc.: 98.000, Test Acc.: 99.000\n",
      "---------------------------------------------------\n",
      "Epoch: 49 --> Train Acc.: 98.000, Test Acc.: 99.000\n",
      "---------------------------------------------------\n",
      "Epoch: 50 --> Train Acc.: 98.000, Test Acc.: 99.000\n",
      "---------------------------------------------------\n"
     ]
    }
   ],
   "source": [
    "num_epochs = 50\n",
    "ep, train_error, valid_error = [], [], []\n",
    "for epoch in range(num_epochs):\n",
    "    losses = []\n",
    "    ep.append(epoch+1)\n",
    "  \n",
    "    # Train\n",
    "    total_train = 0\n",
    "    correct_train = 0\n",
    "    \n",
    "    for batch_idx, (inputs, targets) in enumerate(train_loader):\n",
    "        if cuda_available:\n",
    "                    inputs, targets = inputs.cuda(), targets.cuda()\n",
    "        \n",
    "        optimizer.zero_grad()\n",
    "        outputs = clf(inputs)\n",
    "        loss = criterion(outputs, targets)\n",
    "        loss.backward()\n",
    "        optimizer.step()\n",
    "        losses.append(loss.data.item())\n",
    "\n",
    "        outputs = clf(inputs)\n",
    "        _, predicted = torch.max(outputs.data, 1)\n",
    "        total_train += targets.size(0)\n",
    "        correct_train += predicted.eq(targets.data).cpu().sum()\n",
    "        \n",
    "        '''if batch_idx%num_epochs==0:\n",
    "            print('Epoch : %d Loss : %.3f ' % (epoch, np.mean(losses)))'''\n",
    "            \n",
    "    train_error.append(100-100.*correct_train/total_train)\n",
    "    \n",
    "    '''total_train = total_train\n",
    "    correct_train = correct_train'''\n",
    "    \n",
    "    # Evaluate\n",
    "    clf.eval()\n",
    "    \n",
    "    total_valid = 0\n",
    "    correct_valid = 0\n",
    "    \n",
    "    for batch_idx, (inputs, targets) in enumerate(test_loader):\n",
    "        if cuda_available:\n",
    "            inputs, targets = inputs.cuda(), targets.cuda()\n",
    "\n",
    "        outputs = clf(inputs)\n",
    "        _, predicted = torch.max(outputs.data, 1)\n",
    "        total_valid += targets.size(0)\n",
    "        correct_valid += predicted.eq(targets.data).cpu().sum()\n",
    "\n",
    "    valid_error.append(100-100.*correct_valid/total_valid)\n",
    "    \n",
    "    print('Epoch: %d --> Train Acc.: %.3f, Test Acc.: %.3f' % (epoch+1, 100.*correct_train/total_train, 100.*correct_valid/total_valid))\n",
    "    print('---------------------------------------------------')\n",
    "    \n",
    "    clf.train()"
   ]
  },
  {
   "cell_type": "markdown",
   "metadata": {},
   "source": [
    "##### Structure of the trained model."
   ]
  },
  {
   "cell_type": "code",
   "execution_count": 43,
   "metadata": {
    "scrolled": false
   },
   "outputs": [
    {
     "name": "stdout",
     "output_type": "stream",
     "text": [
      "Classifier(\n",
      "  (conv): Sequential(\n",
      "    (0): Conv2d(1, 36, kernel_size=(3, 3), stride=(1, 1), padding=(1, 1))\n",
      "    (1): Dropout(p=0.5)\n",
      "    (2): ReLU()\n",
      "    (3): MaxPool2d(kernel_size=(2, 2), stride=2, padding=0, dilation=1, ceil_mode=False)\n",
      "    (4): Conv2d(36, 72, kernel_size=(3, 3), stride=(1, 1), padding=(1, 1))\n",
      "    (5): Dropout(p=0.5)\n",
      "    (6): ReLU()\n",
      "    (7): MaxPool2d(kernel_size=(2, 2), stride=2, padding=0, dilation=1, ceil_mode=False)\n",
      "    (8): Conv2d(72, 144, kernel_size=(3, 3), stride=(1, 1), padding=(1, 1))\n",
      "    (9): Dropout(p=0.5)\n",
      "    (10): ReLU()\n",
      "    (11): MaxPool2d(kernel_size=(2, 2), stride=2, padding=0, dilation=1, ceil_mode=False)\n",
      "    (12): Conv2d(144, 288, kernel_size=(3, 3), stride=(1, 1), padding=(1, 1))\n",
      "    (13): Dropout(p=0.5)\n",
      "    (14): ReLU()\n",
      "    (15): MaxPool2d(kernel_size=(2, 2), stride=2, padding=0, dilation=1, ceil_mode=False)\n",
      "  )\n",
      "  (clf): Linear(in_features=288, out_features=10, bias=True)\n",
      ")\n"
     ]
    }
   ],
   "source": [
    "print(clf.eval())"
   ]
  },
  {
   "cell_type": "markdown",
   "metadata": {},
   "source": [
    "#### Plotting the training and validation errors"
   ]
  },
  {
   "cell_type": "code",
   "execution_count": 44,
   "metadata": {},
   "outputs": [
    {
     "data": {
      "text/plain": [
       "([<matplotlib.axis.XTick at 0x14787b26b70>,\n",
       "  <matplotlib.axis.XTick at 0x147afc9bb38>,\n",
       "  <matplotlib.axis.XTick at 0x14787a86860>,\n",
       "  <matplotlib.axis.XTick at 0x14787b9c588>,\n",
       "  <matplotlib.axis.XTick at 0x14787b9ca58>,\n",
       "  <matplotlib.axis.XTick at 0x14787b9cf28>,\n",
       "  <matplotlib.axis.XTick at 0x14787c640f0>,\n",
       "  <matplotlib.axis.XTick at 0x14787c64668>,\n",
       "  <matplotlib.axis.XTick at 0x14787c64b38>,\n",
       "  <matplotlib.axis.XTick at 0x14787c300b8>,\n",
       "  <matplotlib.axis.XTick at 0x14787c30518>,\n",
       "  <matplotlib.axis.XTick at 0x14787c309e8>,\n",
       "  <matplotlib.axis.XTick at 0x14787c30eb8>,\n",
       "  <matplotlib.axis.XTick at 0x14787c473c8>,\n",
       "  <matplotlib.axis.XTick at 0x14787c30860>,\n",
       "  <matplotlib.axis.XTick at 0x14787c64a90>,\n",
       "  <matplotlib.axis.XTick at 0x14787aa3eb8>,\n",
       "  <matplotlib.axis.XTick at 0x147ac812ac8>,\n",
       "  <matplotlib.axis.XTick at 0x14787c474a8>,\n",
       "  <matplotlib.axis.XTick at 0x14787c47da0>,\n",
       "  <matplotlib.axis.XTick at 0x147afcc82e8>,\n",
       "  <matplotlib.axis.XTick at 0x147afcc88d0>,\n",
       "  <matplotlib.axis.XTick at 0x147afcc8ef0>,\n",
       "  <matplotlib.axis.XTick at 0x14787c6d198>,\n",
       "  <matplotlib.axis.XTick at 0x14787c6d630>,\n",
       "  <matplotlib.axis.XTick at 0x147afcc8860>,\n",
       "  <matplotlib.axis.XTick at 0x147ac812358>,\n",
       "  <matplotlib.axis.XTick at 0x14787c6d5f8>,\n",
       "  <matplotlib.axis.XTick at 0x14787c6dc50>,\n",
       "  <matplotlib.axis.XTick at 0x14787c59198>,\n",
       "  <matplotlib.axis.XTick at 0x14787c59630>,\n",
       "  <matplotlib.axis.XTick at 0x14787c59b00>,\n",
       "  <matplotlib.axis.XTick at 0x14787c59d30>,\n",
       "  <matplotlib.axis.XTick at 0x14787c3d4e0>,\n",
       "  <matplotlib.axis.XTick at 0x14787c59780>,\n",
       "  <matplotlib.axis.XTick at 0x147ac812b38>,\n",
       "  <matplotlib.axis.XTick at 0x14787c3d8d0>,\n",
       "  <matplotlib.axis.XTick at 0x14787c3dcc0>,\n",
       "  <matplotlib.axis.XTick at 0x14787c341d0>,\n",
       "  <matplotlib.axis.XTick at 0x14787c346a0>,\n",
       "  <matplotlib.axis.XTick at 0x14787c34b70>,\n",
       "  <matplotlib.axis.XTick at 0x147854720f0>,\n",
       "  <matplotlib.axis.XTick at 0x14785472550>,\n",
       "  <matplotlib.axis.XTick at 0x14785472a20>,\n",
       "  <matplotlib.axis.XTick at 0x14787c34cc0>,\n",
       "  <matplotlib.axis.XTick at 0x14787c3d860>,\n",
       "  <matplotlib.axis.XTick at 0x147854725f8>,\n",
       "  <matplotlib.axis.XTick at 0x14785449240>,\n",
       "  <matplotlib.axis.XTick at 0x14785449748>],\n",
       " <a list of 49 Text xticklabel objects>)"
      ]
     },
     "execution_count": 44,
     "metadata": {},
     "output_type": "execute_result"
    },
    {
     "data": {
      "image/png": "[encoded data removed]",
      "text/plain": [
       "<Figure size 432x288 with 1 Axes>"
      ]
     },
     "metadata": {},
     "output_type": "display_data"
    }
   ],
   "source": [
    "plt.plot(ep, train_error)\n",
    "plt.plot(ep, valid_error)\n",
    "plt.ylabel(\"Error (%)\")\n",
    "plt.xlabel(\"Training epochs\")\n",
    "plt.title('Training and validation errors by training epochs.')\n",
    "#ax.set_xticklabels([''] + v)\n",
    "plt.xticks(np.arange(min(ep), max(ep), 1))\n",
    "#plt.yticks(np.arange(min(v)*100, max(v)*100, 0.05))"
   ]
  },
  {
   "cell_type": "markdown",
   "metadata": {},
   "source": [
    "More fancy (with labels)"
   ]
  },
  {
   "cell_type": "code",
   "execution_count": 45,
   "metadata": {},
   "outputs": [
    {
     "data": {
      "image/png": "[encoded data removed]",
      "text/plain": [
       "<Figure size 432x288 with 1 Axes>"
      ]
     },
     "metadata": {},
     "output_type": "display_data"
    }
   ],
   "source": [
    "# Create plots with pre-defined labels.\n",
    "fig, ax = plt.subplots()\n",
    "ax.plot(ep, train_error, 'k--', label='Training error')\n",
    "ax.plot(ep, valid_error, 'k:', label='Validation error')\n",
    "#ax.plot(a, c + d, 'k', label='Total message length')\n",
    "\n",
    "'''ax.get_xlabel()\n",
    "ax.get_ylabel(\"Accuracy (%)\")\n",
    "#ax.get_xlabel(\"Training epochs\")\n",
    "ax.title('Training and validation errors by training epochs.')\n",
    "#ax.set_xticklabels([''] + v)\n",
    "ax.xticks(np.arange(min(ep), max(ep), 1))'''\n",
    "\n",
    "legend = ax.legend(loc='upper center', shadow=True, fontsize='x-large')\n",
    "\n",
    "# Put a nicer background color on the legend.\n",
    "legend.get_frame().set_facecolor('C0')\n",
    "\n",
    "plt.show()"
   ]
  },
  {
   "cell_type": "markdown",
   "metadata": {},
   "source": [
    "##### Getting vector of results ready for LaTeX report."
   ]
  },
  {
   "cell_type": "code",
   "execution_count": 46,
   "metadata": {},
   "outputs": [
    {
     "name": "stdout",
     "output_type": "stream",
     "text": [
      "Training error:  [(1, 50.0), (2, 17.0), (3, 11.0), (4, 8.0), (5, 7.0), (6, 6.0), (7, 6.0), (8, 5.0), (9, 5.0), (10, 5.0), (11, 4.0), (12, 4.0), (13, 4.0), (14, 4.0), (15, 4.0), (16, 3.0), (17, 3.0), (18, 3.0), (19, 3.0), (20, 3.0), (21, 3.0), (22, 3.0), (23, 3.0), (24, 3.0), (25, 3.0), (26, 3.0), (27, 3.0), (28, 2.0), (29, 2.0), (30, 2.0), (31, 2.0), (32, 2.0), (33, 2.0), (34, 2.0), (35, 2.0), (36, 2.0), (37, 2.0), (38, 2.0), (39, 2.0), (40, 2.0), (41, 2.0), (42, 2.0), (43, 2.0), (44, 2.0), (45, 2.0), (46, 2.0), (47, 2.0), (48, 2.0), (49, 2.0), (50, 2.0)]\n",
      "Validation error:  [(1, 20.0), (2, 9.0), (3, 7.0), (4, 5.0), (5, 5.0), (6, 4.0), (7, 4.0), (8, 3.0), (9, 3.0), (10, 3.0), (11, 3.0), (12, 2.0), (13, 2.0), (14, 2.0), (15, 2.0), (16, 2.0), (17, 2.0), (18, 2.0), (19, 2.0), (20, 2.0), (21, 2.0), (22, 2.0), (23, 2.0), (24, 2.0), (25, 2.0), (26, 2.0), (27, 2.0), (28, 2.0), (29, 2.0), (30, 1.0), (31, 1.0), (32, 2.0), (33, 1.0), (34, 1.0), (35, 1.0), (36, 1.0), (37, 2.0), (38, 1.0), (39, 1.0), (40, 1.0), (41, 1.0), (42, 1.0), (43, 1.0), (44, 1.0), (45, 1.0), (46, 1.0), (47, 1.0), (48, 1.0), (49, 1.0), (50, 1.0)]\n",
      "Training error:  (1, 50.0)(2, 17.0)(3, 11.0)(4, 8.0)(5, 7.0)(6, 6.0)(7, 6.0)(8, 5.0)(9, 5.0)(10, 5.0)(11, 4.0)(12, 4.0)(13, 4.0)(14, 4.0)(15, 4.0)(16, 3.0)(17, 3.0)(18, 3.0)(19, 3.0)(20, 3.0)(21, 3.0)(22, 3.0)(23, 3.0)(24, 3.0)(25, 3.0)(26, 3.0)(27, 3.0)(28, 2.0)(29, 2.0)(30, 2.0)(31, 2.0)(32, 2.0)(33, 2.0)(34, 2.0)(35, 2.0)(36, 2.0)(37, 2.0)(38, 2.0)(39, 2.0)(40, 2.0)(41, 2.0)(42, 2.0)(43, 2.0)(44, 2.0)(45, 2.0)(46, 2.0)(47, 2.0)(48, 2.0)(49, 2.0)(50, 2.0)\n",
      "Validation error:  (1, 20.0)(2, 9.0)(3, 7.0)(4, 5.0)(5, 5.0)(6, 4.0)(7, 4.0)(8, 3.0)(9, 3.0)(10, 3.0)(11, 3.0)(12, 2.0)(13, 2.0)(14, 2.0)(15, 2.0)(16, 2.0)(17, 2.0)(18, 2.0)(19, 2.0)(20, 2.0)(21, 2.0)(22, 2.0)(23, 2.0)(24, 2.0)(25, 2.0)(26, 2.0)(27, 2.0)(28, 2.0)(29, 2.0)(30, 1.0)(31, 1.0)(32, 2.0)(33, 1.0)(34, 1.0)(35, 1.0)(36, 1.0)(37, 2.0)(38, 1.0)(39, 1.0)(40, 1.0)(41, 1.0)(42, 1.0)(43, 1.0)(44, 1.0)(45, 1.0)(46, 1.0)(47, 1.0)(48, 1.0)(49, 1.0)(50, 1.0)\n"
     ]
    }
   ],
   "source": [
    "ep_train_err, ep_valid_err = [],[]\n",
    "train_err_list=\"\"\n",
    "valid_err_list=\"\"\n",
    "\n",
    "for val in range(len(ep)):\n",
    "    ep_train_err.append((ep[val], float(train_error[val])))\n",
    "    ep_valid_err.append((ep[val], float(valid_error[val])))\n",
    "    train_err_list= train_err_list + \"(\" + str(ep[val]) + \", \" + str(float(train_error[val])) + \")\"\n",
    "    valid_err_list= valid_err_list + \"(\" + str(ep[val]) + \", \" + str(float(valid_error[val])) + \")\"\n",
    "    \n",
    "#print(\"Epochs: \",ep)\n",
    "print(\"Training error: \", ep_train_err)\n",
    "print(\"Validation error: \" , ep_valid_err)\n",
    "print(\"Training error: \", train_err_list)\n",
    "print(\"Validation error: \" , valid_err_list)"
   ]
  }
 ],
 "metadata": {
  "kernelspec": {
   "display_name": "Python 3",
   "language": "python",
   "name": "python3"
  },
  "language_info": {
   "codemirror_mode": {
    "name": "ipython",
    "version": 3
   },
   "file_extension": ".py",
   "mimetype": "text/x-python",
   "name": "python",
   "nbconvert_exporter": "python",
   "pygments_lexer": "ipython3",
   "version": "3.6.5"
  }
 },
 "nbformat": 4,
 "nbformat_minor": 2
}
